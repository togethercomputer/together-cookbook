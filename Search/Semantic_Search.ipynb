{
 "cells": [
  {
   "cell_type": "markdown",
   "metadata": {},
   "source": [
    "# Semantic Searching for Movies\n",
    "[![Open In Colab](https://colab.research.google.com/assets/colab-badge.svg)](https://colab.research.google.com/github/togethercomputer/together-cookbook/blob/main/Semantic_Search.ipynb)"
   ]
  },
  {
   "cell_type": "markdown",
   "metadata": {},
   "source": [
    "## Introduction\n",
    "\n",
    "In this notebook, we'll demonstrate how to implement **semantic search** using Together AI's embedding models. Semantic search goes beyond keyword matching to understand the meaning and context of queries, enabling more relevant and intelligent search results.\n",
    "\n",
    "<img src=\"../images/semantic_search.png\" width=\"750\">\n",
    "\n",
    "**What you'll learn:**\n",
    "- How to generate embeddings using Together AI's embedding models\n",
    "- Building a semantic search system with vector similarities\n",
    "- Comparing semantic search vs traditional keyword search\n",
    "- Best practices for embedding-based retrieval systems"
   ]
  },
  {
   "cell_type": "markdown",
   "metadata": {},
   "source": [
    "### Install relevant libraries"
   ]
  },
  {
   "cell_type": "code",
   "execution_count": null,
   "metadata": {},
   "outputs": [
    {
     "name": "stdout",
     "output_type": "stream",
     "text": [
      "Requirement already satisfied: numpy in /opt/anaconda3/envs/together-py-test/lib/python3.13/site-packages (2.3.1)\n",
      "Requirement already satisfied: matplotlib in /opt/anaconda3/envs/together-py-test/lib/python3.13/site-packages (3.10.3)\n",
      "Requirement already satisfied: contourpy>=1.0.1 in /opt/anaconda3/envs/together-py-test/lib/python3.13/site-packages (from matplotlib) (1.3.2)\n",
      "Requirement already satisfied: cycler>=0.10 in /opt/anaconda3/envs/together-py-test/lib/python3.13/site-packages (from matplotlib) (0.12.1)\n",
      "Requirement already satisfied: fonttools>=4.22.0 in /opt/anaconda3/envs/together-py-test/lib/python3.13/site-packages (from matplotlib) (4.58.4)\n",
      "Requirement already satisfied: kiwisolver>=1.3.1 in /opt/anaconda3/envs/together-py-test/lib/python3.13/site-packages (from matplotlib) (1.4.8)\n",
      "Requirement already satisfied: packaging>=20.0 in /opt/anaconda3/envs/together-py-test/lib/python3.13/site-packages (from matplotlib) (25.0)\n",
      "Requirement already satisfied: pillow>=8 in /opt/anaconda3/envs/together-py-test/lib/python3.13/site-packages (from matplotlib) (11.2.1)\n",
      "Requirement already satisfied: pyparsing>=2.3.1 in /opt/anaconda3/envs/together-py-test/lib/python3.13/site-packages (from matplotlib) (3.2.3)\n",
      "Requirement already satisfied: python-dateutil>=2.7 in /opt/anaconda3/envs/together-py-test/lib/python3.13/site-packages (from matplotlib) (2.9.0.post0)\n",
      "Requirement already satisfied: six>=1.5 in /opt/anaconda3/envs/together-py-test/lib/python3.13/site-packages (from python-dateutil>=2.7->matplotlib) (1.17.0)\n"
     ]
    }
   ],
   "source": [
    "!pip install -qU together numpy matplotlib scikit-learn"
   ]
  },
  {
   "cell_type": "code",
   "execution_count": 1,
   "metadata": {},
   "outputs": [],
   "source": [
    "import together, os\n",
    "\n",
    "# Paste in your Together AI API Key or load it\n",
    "TOGETHER_API_KEY = os.environ.get(\"TOGETHER_API_KEY\")"
   ]
  },
  {
   "cell_type": "markdown",
   "metadata": {},
   "source": [
    "### Download and View the Dataset"
   ]
  },
  {
   "cell_type": "code",
   "execution_count": null,
   "metadata": {},
   "outputs": [],
   "source": [
    "# Let's get the movies dataset\n",
    "!wget https://raw.githubusercontent.com/togethercomputer/together-cookbook/refs/heads/main/datasets/movies.json\n",
    "!mkdir datasets\n",
    "!mv movies.json datasets/movies.json"
   ]
  },
  {
   "cell_type": "code",
   "execution_count": 2,
   "metadata": {
    "colab": {
     "base_uri": "https://localhost:8080/"
    },
    "id": "3wysxjIvLZ3w",
    "outputId": "a401f564-d5fb-4641-e169-496948bfa800"
   },
   "outputs": [
    {
     "data": {
      "text/plain": [
       "[{'title': 'Minions',\n",
       "  'overview': 'Minions Stuart, Kevin and Bob are recruited by Scarlet Overkill, a super-villain who, alongside her inventor husband Herb, hatches a plot to take over the world.',\n",
       "  'director': 'Kyle Balda',\n",
       "  'genres': 'Family Animation Adventure Comedy',\n",
       "  'tagline': 'Before Gru, they had a history of bad bosses'},\n",
       " {'title': 'Interstellar',\n",
       "  'overview': 'Interstellar chronicles the adventures of a group of explorers who make use of a newly discovered wormhole to surpass the limitations on human space travel and conquer the vast distances involved in an interstellar voyage.',\n",
       "  'director': 'Christopher Nolan',\n",
       "  'genres': 'Adventure Drama Science Fiction',\n",
       "  'tagline': 'Mankind was born on Earth. It was never meant to die here.'},\n",
       " {'title': 'Deadpool',\n",
       "  'overview': 'Deadpool tells the origin story of former Special Forces operative turned mercenary Wade Wilson, who after being subjected to a rogue experiment that leaves him with accelerated healing powers, adopts the alter ego Deadpool. Armed with his new abilities and a dark, twisted sense of humor, Deadpool hunts down the man who nearly destroyed his life.',\n",
       "  'director': 'Tim Miller',\n",
       "  'genres': 'Action Adventure Comedy',\n",
       "  'tagline': 'Witness the beginning of a happy ending'}]"
      ]
     },
     "execution_count": 2,
     "metadata": {},
     "output_type": "execute_result"
    }
   ],
   "source": [
    "import json\n",
    "\n",
    "with open('../datasets/movies.json', 'r') as file:\n",
    "    movies_data = json.load(file)\n",
    "\n",
    "movies_data[:3]"
   ]
  },
  {
   "cell_type": "markdown",
   "metadata": {},
   "source": [
    "### 1. Generate Embeddings\n",
    "\n",
    "We will use the Together AI embedding API to generate vector representations for each movie `title` + `overview` + `tagline`."
   ]
  },
  {
   "cell_type": "code",
   "execution_count": 3,
   "metadata": {
    "id": "0CR4khxlMb2P"
   },
   "outputs": [],
   "source": [
    "from typing import List\n",
    "\n",
    "def generate_embeddings(input_texts: List[str], model_api_string: str) -> List[List[float]]:\n",
    "    \"\"\"Generate embeddings from Together python library.\n",
    "\n",
    "    Args:\n",
    "        input_texts: a list of string input texts.\n",
    "        model_api_string: str. An API string for a specific embedding model of your choice.\n",
    "\n",
    "    Returns:\n",
    "        embeddings_list: a list of embeddings. Each element corresponds to the each input text.\n",
    "    \"\"\"\n",
    "    together_client = together.Together(api_key = TOGETHER_API_KEY)\n",
    "    outputs = together_client.embeddings.create(\n",
    "        input=input_texts,\n",
    "        model=model_api_string,\n",
    "    )\n",
    "    return [x.embedding for x in outputs.data]\n"
   ]
  },
  {
   "cell_type": "code",
   "execution_count": 4,
   "metadata": {},
   "outputs": [
    {
     "data": {
      "text/plain": [
       "['Minions Minions Stuart, Kevin and Bob are recruited by Scarlet Overkill, a super-villain who, alongside her inventor husband Herb, hatches a plot to take over the world. Before Gru, they had a history of bad bosses',\n",
       " 'Interstellar Interstellar chronicles the adventures of a group of explorers who make use of a newly discovered wormhole to surpass the limitations on human space travel and conquer the vast distances involved in an interstellar voyage. Mankind was born on Earth. It was never meant to die here.',\n",
       " 'Deadpool Deadpool tells the origin story of former Special Forces operative turned mercenary Wade Wilson, who after being subjected to a rogue experiment that leaves him with accelerated healing powers, adopts the alter ego Deadpool. Armed with his new abilities and a dark, twisted sense of humor, Deadpool hunts down the man who nearly destroyed his life. Witness the beginning of a happy ending',\n",
       " 'Guardians of the Galaxy Light years from Earth, 26 years after being abducted, Peter Quill finds himself the prime target of a manhunt after discovering an orb wanted by Ronan the Accuser. All heroes start somewhere.',\n",
       " \"Mad Max: Fury Road An apocalyptic story set in the furthest reaches of our planet, in a stark desert landscape where humanity is broken, and most everyone is crazed fighting for the necessities of life. Within this world exist two rebels on the run who just might be able to restore order. There's Max, a man of action and a man of few words, who seeks peace of mind following the loss of his wife and child in the aftermath of the chaos. And Furiosa, a woman of action and a woman who believes her path to survival may be achieved if she can make it across the desert back to her childhood homeland. What a Lovely Day.\",\n",
       " 'Jurassic World Twenty-two years after the events of Jurassic Park, Isla Nublar now features a fully functioning dinosaur theme park, Jurassic World, as originally envisioned by John Hammond. The park is open.',\n",
       " \"Pirates of the Caribbean: The Curse of the Black Pearl Jack Sparrow, a freewheeling 17th-century pirate who roams the Caribbean Sea, butts heads with a rival pirate bent on pillaging the village of Port Royal. When the governor's daughter is kidnapped, Sparrow decides to help the girl's love save her. But their seafaring mission is hardly simple. Prepare to be blown out of the water.\",\n",
       " 'Dawn of the Planet of the Apes A group of scientists in San Francisco struggle to stay alive in the aftermath of a plague that is wiping out humanity, while Caesar tries to maintain dominance over his community of intelligent apes. One last chance for peace.',\n",
       " 'The Hunger Games: Mockingjay - Part 1 Katniss Everdeen reluctantly becomes the symbol of a mass rebellion against the autocratic Capitol. Fire burns brighter in the darkness',\n",
       " 'Big Hero 6 The special bond that develops between plus-sized inflatable robot Baymax, and prodigy Hiro Hamada, who team up with a group of friends to form a band of high-tech heroes. From the creators of Wreck-it Ralph and Frozen']"
      ]
     },
     "execution_count": 4,
     "metadata": {},
     "output_type": "execute_result"
    }
   ],
   "source": [
    "# Concatenate the title, overview, and tagline of each movie\n",
    "# this makes the text that will be embedded for each movie more informative\n",
    "# as a result the embeddings will be richer and capture this information. \n",
    "to_embed = []\n",
    "for movie in movies_data[:1000]:\n",
    "    text = ''\n",
    "    for field in ['title', 'overview', 'tagline']:\n",
    "        value = movie.get(field, '')\n",
    "        text += str(value) + ' '\n",
    "    to_embed.append(text.strip())\n",
    "\n",
    "to_embed[:10]"
   ]
  },
  {
   "cell_type": "code",
   "execution_count": 5,
   "metadata": {
    "id": "PPkb_O6UNKEB"
   },
   "outputs": [],
   "source": [
    "embeddings = generate_embeddings(to_embed, 'BAAI/bge-base-en-v1.5')"
   ]
  },
  {
   "cell_type": "code",
   "execution_count": 6,
   "metadata": {
    "colab": {
     "base_uri": "https://localhost:8080/"
    },
    "id": "K59L7q_2Noer",
    "outputId": "93f19f94-c5e0-46ee-875f-a1d56aaf5e13"
   },
   "outputs": [
    {
     "data": {
      "text/plain": [
       "768"
      ]
     },
     "execution_count": 6,
     "metadata": {},
     "output_type": "execute_result"
    }
   ],
   "source": [
    "# Check the shape of each vector embedding to make sure it is 768 dimensions\n",
    "len(embeddings[0])"
   ]
  },
  {
   "cell_type": "markdown",
   "metadata": {},
   "source": [
    "### What does a movie vector \"look\" like?\n",
    "\n",
    "Here we visualize the vector representation the `bge-base-en-v1.5` produced for the Minions movie at index 0!"
   ]
  },
  {
   "cell_type": "code",
   "execution_count": 8,
   "metadata": {
    "colab": {
     "base_uri": "https://localhost:8080/",
     "height": 162
    },
    "id": "UIY2lTEON5hv",
    "outputId": "792aee4a-6ab3-4069-ed3a-a29de0e8c566"
   },
   "outputs": [
    {
     "data": {
      "image/png": "[encoded data removed]",
      "text/plain": [
       "<Figure size 1500x100 with 1 Axes>"
      ]
     },
     "metadata": {},
     "output_type": "display_data"
    }
   ],
   "source": [
    "import matplotlib.pyplot as plt\n",
    "import numpy as np\n",
    "\n",
    "data = embeddings[0]\n",
    "\n",
    "data_2d = np.reshape(data, (1, 768))\n",
    "\n",
    "plt.figure(figsize=(15, 1))\n",
    "# Create a heatmap with a binary colormap (black and white)\n",
    "plt.imshow(data_2d, cmap='binary', interpolation='nearest', aspect='auto')\n",
    "\n",
    "# Remove axes and ticks\n",
    "plt.xlabel('Vector Dimension')\n",
    "plt.ylabel(f\"{movies_data[0]['title']}\")\n",
    "# Show the plot\n",
    "plt.show()"
   ]
  },
  {
   "cell_type": "markdown",
   "metadata": {},
   "source": [
    "A single vector looks alot like a barcode! \n",
    "\n",
    "In the plot above you can ignore the `y-axis`. The `x-axis` captures each dimension of the 768 dimensional vector, the colour captures the values at each dimension.\n",
    "\n",
    "Let's visualize some more vectors to see if we can find patterns!"
   ]
  },
  {
   "cell_type": "code",
   "execution_count": 9,
   "metadata": {
    "colab": {
     "base_uri": "https://localhost:8080/",
     "height": 307
    },
    "id": "PdrGM9SjO5ZD",
    "outputId": "6896131f-1efb-4ab2-860c-d744311112fe"
   },
   "outputs": [
    {
     "data": {
      "image/png": "[encoded data removed]",
      "text/plain": [
       "<Figure size 1500x300 with 3 Axes>"
      ]
     },
     "metadata": {},
     "output_type": "display_data"
    }
   ],
   "source": [
    "import matplotlib.pyplot as plt\n",
    "import numpy as np\n",
    "\n",
    "# Select three movie embeddings\n",
    "data1 = embeddings[0]\n",
    "data2 = embeddings[1]\n",
    "data3 = embeddings[2]\n",
    "\n",
    "# Reshape each embedding into a 2D array\n",
    "data1_2d = np.reshape(data1, (1, 768))\n",
    "data2_2d = np.reshape(data2, (1, 768))\n",
    "data3_2d = np.reshape(data3, (1, 768))\n",
    "\n",
    "# Create a figure with three subplots\n",
    "fig, axs = plt.subplots(3, 1, figsize=(15, 3))\n",
    "\n",
    "# Plot each embedding as a heatmap\n",
    "axs[0].imshow(data1_2d, cmap='binary', interpolation='nearest', aspect='auto')\n",
    "axs[1].imshow(data2_2d, cmap='binary', interpolation='nearest', aspect='auto')\n",
    "axs[2].imshow(data3_2d, cmap='binary', interpolation='nearest', aspect='auto')\n",
    "\n",
    "# Set labels and titles\n",
    "axs[0].set_ylabel(f\"{movies_data[0]['title']}\")\n",
    "axs[1].set_ylabel(f\"{movies_data[1]['title']}\")\n",
    "axs[2].set_ylabel(f\"{movies_data[2]['title']}\")\n",
    "axs[2].set_xlabel('Vector Dimension')\n",
    "\n",
    "# Remove ticks\n",
    "for ax in axs:\n",
    "    ax.set_xticks([])\n",
    "    ax.set_yticks([])\n",
    "\n",
    "# Layout so plots do not overlap\n",
    "fig.tight_layout()\n",
    "\n",
    "# Show the plot\n",
    "plt.show()"
   ]
  },
  {
   "cell_type": "markdown",
   "metadata": {},
   "source": [
    "The vectors for the three movies above capture the semantics of the movie title + overview + tagline!\n",
    "\n",
    "When trying to understand what a vector looks like it better to look at the overall pattern of the barcode as opposed to asking what each line in the barcode means. Each line in the barcode might not have a human understandable meaning - experts don't yet understand how each bar contributes to capturing the overall meaning of the movie!\n",
    "\n",
    "Next let's visualize the user query!"
   ]
  },
  {
   "cell_type": "markdown",
   "metadata": {},
   "source": [
    "## 2. Vectorize the User Query\n",
    "\n",
    "In this case the user is interested in `query` = `super hero action movie with a timeline twist` and so we want to rank our dataset of 1000 movies such that relevant movies are at the top of the list we send to this user."
   ]
  },
  {
   "cell_type": "code",
   "execution_count": 10,
   "metadata": {},
   "outputs": [
    {
     "data": {
      "image/png": "[encoded data removed]",
      "text/plain": [
       "<Figure size 1500x100 with 1 Axes>"
      ]
     },
     "metadata": {},
     "output_type": "display_data"
    }
   ],
   "source": [
    "query = \"super hero action movie with a timeline twist\"\n",
    "\n",
    "query_embedding = generate_embeddings([query], 'BAAI/bge-base-en-v1.5')[0]\n",
    "\n",
    "data_2d = np.reshape(query_embedding, (1, 768))\n",
    "\n",
    "plt.figure(figsize=(15, 1))\n",
    "# Create a heatmap with a binary colormap (black and white)\n",
    "plt.imshow(data_2d, cmap='binary', interpolation='nearest', aspect='auto')\n",
    "\n",
    "# Remove axes and ticks\n",
    "plt.xlabel('Vector Dimension')\n",
    "plt.ylabel(\"query\")\n",
    "# Show the plot\n",
    "plt.show()"
   ]
  },
  {
   "cell_type": "markdown",
   "metadata": {},
   "source": [
    "The `query` vector also looks like a barcode.\n",
    "\n",
    "The problem of solving which movie is most semantically similar to the user query is the same as asking which movie vector/barcode \"looks\" most similar to the query vector/barcode!"
   ]
  },
  {
   "cell_type": "markdown",
   "metadata": {},
   "source": [
    "## 3. Compute Distance between Query and Movie Vectors\n",
    "\n",
    "Here we will use the cosine similarity metric to identify which movie vectors are closest to the query vector. Intuitively think of this step as matching the qeury barcode to the movie barcodes to find the best match!"
   ]
  },
  {
   "cell_type": "code",
   "execution_count": 11,
   "metadata": {
    "id": "pCq1sU8kQ8WP"
   },
   "outputs": [],
   "source": [
    "from sklearn.metrics.pairwise import cosine_similarity\n",
    "\n",
    "# This function will produce a list of cosine similarity scores between the query embedding and the movie embeddings\n",
    "similarity_scores = cosine_similarity([query_embedding], embeddings)"
   ]
  },
  {
   "cell_type": "code",
   "execution_count": 12,
   "metadata": {},
   "outputs": [
    {
     "data": {
      "text/plain": [
       "(1, 1000)"
      ]
     },
     "execution_count": 12,
     "metadata": {},
     "output_type": "execute_result"
    }
   ],
   "source": [
    "# We get a cosine similarity score for each one of the 1000 movie embeddings\n",
    "similarity_scores.shape"
   ]
  },
  {
   "cell_type": "code",
   "execution_count": 13,
   "metadata": {},
   "outputs": [
    {
     "data": {
      "text/plain": [
       "array([0.46528757, 0.41501566, 0.49301302, 0.56132057, 0.46950391,\n",
       "       0.4386443 , 0.45912179, 0.46306216, 0.46554755, 0.54873113])"
      ]
     },
     "execution_count": 13,
     "metadata": {},
     "output_type": "execute_result"
    }
   ],
   "source": [
    "# Cosine similarity goes from -1 to 1, where 1 means the vectors are identical and -1 means they are opposite.\n",
    "similarity_scores[0, :10]"
   ]
  },
  {
   "cell_type": "markdown",
   "metadata": {},
   "source": [
    "## 4. Sort Movies based on Semantic Similarity\n",
    "\n",
    "We want to organize our list of 1000 movies from most to least relevant to the query. We can do this by sorting the above `similarity_scores` array."
   ]
  },
  {
   "cell_type": "code",
   "execution_count": 16,
   "metadata": {},
   "outputs": [
    {
     "name": "stdout",
     "output_type": "stream",
     "text": [
      "[172 265 768 621 929 828  49 653 420  33]\n"
     ]
    }
   ],
   "source": [
    "# Get the indices of the highest to lowest cosine similarity values\n",
    "# This tell use which movies are most similar to the query\n",
    "\n",
    "# Lookin at the results below we see that the movie at index 172 is the most similar to the query!\n",
    "indices = np.argsort(-similarity_scores)\n",
    "\n",
    "print(indices[0][:10])"
   ]
  },
  {
   "cell_type": "code",
   "execution_count": 17,
   "metadata": {},
   "outputs": [
    {
     "data": {
      "text/plain": [
       "['The Incredibles',\n",
       " 'Watchmen',\n",
       " 'Mr. Peabody & Sherman',\n",
       " 'Due Date',\n",
       " 'The Next Three Days',\n",
       " 'Super 8',\n",
       " 'Iron Man',\n",
       " 'After Earth',\n",
       " 'Men in Black 3',\n",
       " 'Despicable Me 2']"
      ]
     },
     "execution_count": 17,
     "metadata": {},
     "output_type": "execute_result"
    }
   ],
   "source": [
    "top_10_sorted_titles = [movies_data[index]['title'] for index in indices[0]][:10]\n",
    "\n",
    "top_10_sorted_titles"
   ]
  },
  {
   "cell_type": "markdown",
   "metadata": {},
   "source": [
    "Here we can see the list of top ten movies most similar to the query(`super hero action movie with a timeline twist`), according to vector embeddings generated by `bge-base-en-v1.5`.\n",
    "\n",
    "Notice that most of these movies have something to do with the query. Some are super hero movies, some are action movies and others have a timeline twist - we get very few false positives(movies that have nothing to do with anything in the query).\n",
    "\n",
    "Semantic similarity gives us a fuzzy way to sort our dataset based on how similar the objects are to a given query!\n",
    "\n",
    "Learn more about how to use embedding models in the [docs](https://docs.together.ai/docs/embeddings-overview) here!"
   ]
  }
 ],
 "metadata": {
  "colab": {
   "provenance": []
  },
  "kernelspec": {
   "display_name": "together-py-test",
   "language": "python",
   "name": "python3"
  },
  "language_info": {
   "codemirror_mode": {
    "name": "ipython",
    "version": 3
   },
   "file_extension": ".py",
   "mimetype": "text/x-python",
   "name": "python",
   "nbconvert_exporter": "python",
   "pygments_lexer": "ipython3",
   "version": "3.13.5"
  }
 },
 "nbformat": 4,
 "nbformat_minor": 0
}
