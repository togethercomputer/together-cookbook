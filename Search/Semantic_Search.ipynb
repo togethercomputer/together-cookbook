{
 "cells": [
  {
   "cell_type": "markdown",
   "metadata": {},
   "source": [
    "# Semantic Searching for Movies\n",
    "[![Open In Colab](https://colab.research.google.com/assets/colab-badge.svg)](https://colab.research.google.com/github/togethercomputer/together-cookbook/blob/main/Semantic_Search.ipynb)"
   ]
  },
  {
   "cell_type": "markdown",
   "metadata": {},
   "source": "## Introduction\n\nIn this notebook, we'll demonstrate how to implement **semantic search** using Together AI's embedding models. Semantic search goes beyond keyword matching to understand the meaning and context of queries, enabling more relevant and intelligent search results.\n\n<img src=\"../images/semantic_search.png\" width=\"750\">\n\n**What you'll learn:**\n- How to generate embeddings using Together AI's embedding models\n- Building a semantic search system with vector similarities\n- Comparing semantic search vs traditional keyword search\n- Best practices for embedding-based retrieval systems",
   "outputs": []
  },
  {
   "cell_type": "markdown",
   "metadata": {},
   "source": [
    "### Install relevant libraries"
   ]
  },
  {
   "cell_type": "code",
   "execution_count": null,
   "metadata": {},
   "outputs": [
    {
     "name": "stdout",
     "output_type": "stream",
     "text": [
      "Collecting together\n",
      "  Downloading together-1.3.2-py3-none-any.whl.metadata (11 kB)\n",
      "Requirement already satisfied: aiohttp<4.0.0,>=3.9.3 in /usr/local/lib/python3.10/dist-packages (from together) (3.10.10)\n",
      "Requirement already satisfied: click<9.0.0,>=8.1.7 in /usr/local/lib/python3.10/dist-packages (from together) (8.1.7)\n",
      "Requirement already satisfied: eval-type-backport<0.3.0,>=0.1.3 in /usr/local/lib/python3.10/dist-packages (from together) (0.2.0)\n",
      "Requirement already satisfied: filelock<4.0.0,>=3.13.1 in /usr/local/lib/python3.10/dist-packages (from together) (3.16.1)\n",
      "Requirement already satisfied: numpy>=1.23.5 in /usr/local/lib/python3.10/dist-packages (from together) (1.26.4)\n",
      "Requirement already satisfied: pillow<11.0.0,>=10.3.0 in /usr/local/lib/python3.10/dist-packages (from together) (10.4.0)\n",
      "Requirement already satisfied: pyarrow>=10.0.1 in /usr/local/lib/python3.10/dist-packages (from together) (16.1.0)\n",
      "Requirement already satisfied: pydantic<3.0.0,>=2.6.3 in /usr/local/lib/python3.10/dist-packages (from together) (2.9.2)\n",
      "Requirement already satisfied: requests<3.0.0,>=2.31.0 in /usr/local/lib/python3.10/dist-packages (from together) (2.32.3)\n",
      "Requirement already satisfied: rich<14.0.0,>=13.8.1 in /usr/local/lib/python3.10/dist-packages (from together) (13.9.2)\n",
      "Requirement already satisfied: tabulate<0.10.0,>=0.9.0 in /usr/local/lib/python3.10/dist-packages (from together) (0.9.0)\n",
      "Requirement already satisfied: tqdm<5.0.0,>=4.66.2 in /usr/local/lib/python3.10/dist-packages (from together) (4.66.5)\n",
      "Requirement already satisfied: typer<0.13,>=0.9 in /usr/local/lib/python3.10/dist-packages (from together) (0.12.5)\n",
      "Requirement already satisfied: aiohappyeyeballs>=2.3.0 in /usr/local/lib/python3.10/dist-packages (from aiohttp<4.0.0,>=3.9.3->together) (2.4.3)\n",
      "Requirement already satisfied: aiosignal>=1.1.2 in /usr/local/lib/python3.10/dist-packages (from aiohttp<4.0.0,>=3.9.3->together) (1.3.1)\n",
      "Requirement already satisfied: attrs>=17.3.0 in /usr/local/lib/python3.10/dist-packages (from aiohttp<4.0.0,>=3.9.3->together) (24.2.0)\n",
      "Requirement already satisfied: frozenlist>=1.1.1 in /usr/local/lib/python3.10/dist-packages (from aiohttp<4.0.0,>=3.9.3->together) (1.4.1)\n",
      "Requirement already satisfied: multidict<7.0,>=4.5 in /usr/local/lib/python3.10/dist-packages (from aiohttp<4.0.0,>=3.9.3->together) (6.1.0)\n",
      "Requirement already satisfied: yarl<2.0,>=1.12.0 in /usr/local/lib/python3.10/dist-packages (from aiohttp<4.0.0,>=3.9.3->together) (1.14.0)\n",
      "Requirement already satisfied: async-timeout<5.0,>=4.0 in /usr/local/lib/python3.10/dist-packages (from aiohttp<4.0.0,>=3.9.3->together) (4.0.3)\n",
      "Requirement already satisfied: annotated-types>=0.6.0 in /usr/local/lib/python3.10/dist-packages (from pydantic<3.0.0,>=2.6.3->together) (0.7.0)\n",
      "Requirement already satisfied: pydantic-core==2.23.4 in /usr/local/lib/python3.10/dist-packages (from pydantic<3.0.0,>=2.6.3->together) (2.23.4)\n",
      "Requirement already satisfied: typing-extensions>=4.6.1 in /usr/local/lib/python3.10/dist-packages (from pydantic<3.0.0,>=2.6.3->together) (4.12.2)\n",
      "Requirement already satisfied: charset-normalizer<4,>=2 in /usr/local/lib/python3.10/dist-packages (from requests<3.0.0,>=2.31.0->together) (3.4.0)\n",
      "Requirement already satisfied: idna<4,>=2.5 in /usr/local/lib/python3.10/dist-packages (from requests<3.0.0,>=2.31.0->together) (3.10)\n",
      "Requirement already satisfied: urllib3<3,>=1.21.1 in /usr/local/lib/python3.10/dist-packages (from requests<3.0.0,>=2.31.0->together) (2.2.3)\n",
      "Requirement already satisfied: certifi>=2017.4.17 in /usr/local/lib/python3.10/dist-packages (from requests<3.0.0,>=2.31.0->together) (2024.8.30)\n",
      "Requirement already satisfied: markdown-it-py>=2.2.0 in /usr/local/lib/python3.10/dist-packages (from rich<14.0.0,>=13.8.1->together) (3.0.0)\n",
      "Requirement already satisfied: pygments<3.0.0,>=2.13.0 in /usr/local/lib/python3.10/dist-packages (from rich<14.0.0,>=13.8.1->together) (2.18.0)\n",
      "Requirement already satisfied: shellingham>=1.3.0 in /usr/local/lib/python3.10/dist-packages (from typer<0.13,>=0.9->together) (1.5.4)\n",
      "Requirement already satisfied: mdurl~=0.1 in /usr/local/lib/python3.10/dist-packages (from markdown-it-py>=2.2.0->rich<14.0.0,>=13.8.1->together) (0.1.2)\n",
      "Requirement already satisfied: propcache>=0.2.0 in /usr/local/lib/python3.10/dist-packages (from yarl<2.0,>=1.12.0->aiohttp<4.0.0,>=3.9.3->together) (0.2.0)\n",
      "Downloading together-1.3.2-py3-none-any.whl (68 kB)\n",
      "\u001b[2K   \u001b[90m━━━━━━━━━━━━━━━━━━━━━━━━━━━━━━━━━━━━━━━━\u001b[0m \u001b[32m68.0/68.0 kB\u001b[0m \u001b[31m2.1 MB/s\u001b[0m eta \u001b[36m0:00:00\u001b[0m\n",
      "\u001b[?25hInstalling collected packages: together\n",
      "Successfully installed together-1.3.2\n"
     ]
    }
   ],
   "source": [
    "!pip install together"
   ]
  },
  {
   "cell_type": "code",
   "execution_count": null,
   "metadata": {},
   "outputs": [],
   "source": [
    "import together, os\n",
    "\n",
    "# Paste in your Together AI API Key or load it\n",
    "TOGETHER_API_KEY = os.environ.get(\"TOGETHER_API_KEY\")"
   ]
  },
  {
   "cell_type": "markdown",
   "metadata": {},
   "source": [
    "### Download and View the Dataset"
   ]
  },
  {
   "cell_type": "code",
   "execution_count": null,
   "metadata": {},
   "outputs": [],
   "source": [
    "# Let's get the movies dataset\n",
    "!wget https://raw.githubusercontent.com/togethercomputer/together-cookbook/refs/heads/main/datasets/movies.json\n",
    "!mkdir datasets\n",
    "!mv movies.json datasets/movies.json"
   ]
  },
  {
   "cell_type": "code",
   "execution_count": 32,
   "metadata": {
    "colab": {
     "base_uri": "https://localhost:8080/"
    },
    "id": "3wysxjIvLZ3w",
    "outputId": "a401f564-d5fb-4641-e169-496948bfa800"
   },
   "outputs": [
    {
     "data": {
      "text/plain": [
       "[{'title': 'Minions',\n",
       "  'overview': 'Minions Stuart, Kevin and Bob are recruited by Scarlet Overkill, a super-villain who, alongside her inventor husband Herb, hatches a plot to take over the world.',\n",
       "  'director': 'Kyle Balda',\n",
       "  'genres': 'Family Animation Adventure Comedy',\n",
       "  'tagline': 'Before Gru, they had a history of bad bosses'},\n",
       " {'title': 'Interstellar',\n",
       "  'overview': 'Interstellar chronicles the adventures of a group of explorers who make use of a newly discovered wormhole to surpass the limitations on human space travel and conquer the vast distances involved in an interstellar voyage.',\n",
       "  'director': 'Christopher Nolan',\n",
       "  'genres': 'Adventure Drama Science Fiction',\n",
       "  'tagline': 'Mankind was born on Earth. It was never meant to die here.'},\n",
       " {'title': 'Deadpool',\n",
       "  'overview': 'Deadpool tells the origin story of former Special Forces operative turned mercenary Wade Wilson, who after being subjected to a rogue experiment that leaves him with accelerated healing powers, adopts the alter ego Deadpool. Armed with his new abilities and a dark, twisted sense of humor, Deadpool hunts down the man who nearly destroyed his life.',\n",
       "  'director': 'Tim Miller',\n",
       "  'genres': 'Action Adventure Comedy',\n",
       "  'tagline': 'Witness the beginning of a happy ending'}]"
      ]
     },
     "execution_count": 32,
     "metadata": {},
     "output_type": "execute_result"
    }
   ],
   "source": [
    "import json\n",
    "\n",
    "with open('./datasets/movies.json', 'r') as file:\n",
    "    movies_data = json.load(file)\n",
    "\n",
    "movies_data[:3]"
   ]
  },
  {
   "cell_type": "markdown",
   "metadata": {},
   "source": [
    "### 1. Generate Embeddings\n",
    "\n",
    "We will use the Together AI embedding API to generate vector representations for each movie `title` + `overview` + `tagline`."
   ]
  },
  {
   "cell_type": "code",
   "execution_count": 40,
   "metadata": {
    "id": "0CR4khxlMb2P"
   },
   "outputs": [],
   "source": [
    "from typing import List\n",
    "\n",
    "def generate_embeddings(input_texts: List[str], model_api_string: str) -> List[List[float]]:\n",
    "    \"\"\"Generate embeddings from Together python library.\n",
    "\n",
    "    Args:\n",
    "        input_texts: a list of string input texts.\n",
    "        model_api_string: str. An API string for a specific embedding model of your choice.\n",
    "\n",
    "    Returns:\n",
    "        embeddings_list: a list of embeddings. Each element corresponds to the each input text.\n",
    "    \"\"\"\n",
    "    together_client = together.Together(api_key = TOGETHER_API_KEY)\n",
    "    outputs = together_client.embeddings.create(\n",
    "        input=input_texts,\n",
    "        model=model_api_string,\n",
    "    )\n",
    "    return [x.embedding for x in outputs.data]\n"
   ]
  },
  {
   "cell_type": "code",
   "execution_count": null,
   "metadata": {},
   "outputs": [
    {
     "data": {
      "text/plain": [
       "['Minions Minions Stuart, Kevin and Bob are recruited by Scarlet Overkill, a super-villain who, alongside her inventor husband Herb, hatches a plot to take over the world. Before Gru, they had a history of bad bosses',\n",
       " 'Interstellar Interstellar chronicles the adventures of a group of explorers who make use of a newly discovered wormhole to surpass the limitations on human space travel and conquer the vast distances involved in an interstellar voyage. Mankind was born on Earth. It was never meant to die here.',\n",
       " 'Deadpool Deadpool tells the origin story of former Special Forces operative turned mercenary Wade Wilson, who after being subjected to a rogue experiment that leaves him with accelerated healing powers, adopts the alter ego Deadpool. Armed with his new abilities and a dark, twisted sense of humor, Deadpool hunts down the man who nearly destroyed his life. Witness the beginning of a happy ending',\n",
       " 'Guardians of the Galaxy Light years from Earth, 26 years after being abducted, Peter Quill finds himself the prime target of a manhunt after discovering an orb wanted by Ronan the Accuser. All heroes start somewhere.',\n",
       " \"Mad Max: Fury Road An apocalyptic story set in the furthest reaches of our planet, in a stark desert landscape where humanity is broken, and most everyone is crazed fighting for the necessities of life. Within this world exist two rebels on the run who just might be able to restore order. There's Max, a man of action and a man of few words, who seeks peace of mind following the loss of his wife and child in the aftermath of the chaos. And Furiosa, a woman of action and a woman who believes her path to survival may be achieved if she can make it across the desert back to her childhood homeland. What a Lovely Day.\",\n",
       " 'Jurassic World Twenty-two years after the events of Jurassic Park, Isla Nublar now features a fully functioning dinosaur theme park, Jurassic World, as originally envisioned by John Hammond. The park is open.',\n",
       " \"Pirates of the Caribbean: The Curse of the Black Pearl Jack Sparrow, a freewheeling 17th-century pirate who roams the Caribbean Sea, butts heads with a rival pirate bent on pillaging the village of Port Royal. When the governor's daughter is kidnapped, Sparrow decides to help the girl's love save her. But their seafaring mission is hardly simple. Prepare to be blown out of the water.\",\n",
       " 'Dawn of the Planet of the Apes A group of scientists in San Francisco struggle to stay alive in the aftermath of a plague that is wiping out humanity, while Caesar tries to maintain dominance over his community of intelligent apes. One last chance for peace.',\n",
       " 'The Hunger Games: Mockingjay - Part 1 Katniss Everdeen reluctantly becomes the symbol of a mass rebellion against the autocratic Capitol. Fire burns brighter in the darkness',\n",
       " 'Big Hero 6 The special bond that develops between plus-sized inflatable robot Baymax, and prodigy Hiro Hamada, who team up with a group of friends to form a band of high-tech heroes. From the creators of Wreck-it Ralph and Frozen']"
      ]
     },
     "metadata": {},
     "output_type": "display_data"
    }
   ],
   "source": [
    "# Concatenate the title, overview, and tagline of each movie\n",
    "# this makes the text that will be embedded for each movie more informative\n",
    "# as a result the embeddings will be richer and capture this information. \n",
    "to_embed = []\n",
    "for movie in movies_data[:1000]:\n",
    "    text = ''\n",
    "    for field in ['title', 'overview', 'tagline']:\n",
    "        value = movie.get(field, '')\n",
    "        text += str(value) + ' '\n",
    "    to_embed.append(text.strip())\n",
    "\n",
    "to_embed[:10]"
   ]
  },
  {
   "cell_type": "code",
   "execution_count": 57,
   "metadata": {
    "id": "PPkb_O6UNKEB"
   },
   "outputs": [],
   "source": [
    "embeddings = generate_embeddings(to_embed, 'BAAI/bge-base-en-v1.5')"
   ]
  },
  {
   "cell_type": "code",
   "execution_count": 58,
   "metadata": {
    "colab": {
     "base_uri": "https://localhost:8080/"
    },
    "id": "K59L7q_2Noer",
    "outputId": "93f19f94-c5e0-46ee-875f-a1d56aaf5e13"
   },
   "outputs": [
    {
     "data": {
      "text/plain": [
       "768"
      ]
     },
     "execution_count": 58,
     "metadata": {},
     "output_type": "execute_result"
    }
   ],
   "source": [
    "# Check the shape of each vector embedding to make sure it is 768 dimensions\n",
    "len(embeddings[0])"
   ]
  },
  {
   "cell_type": "markdown",
   "metadata": {},
   "source": [
    "### What does a movie vector \"look\" like?\n",
    "\n",
    "Here we visualize the vector representation the `bge-base-en-v1.5` produced for the Minions movie at index 0!"
   ]
  },
  {
   "cell_type": "code",
   "execution_count": 60,
   "metadata": {
    "colab": {
     "base_uri": "https://localhost:8080/",
     "height": 162
    },
    "id": "UIY2lTEON5hv",
    "outputId": "792aee4a-6ab3-4069-ed3a-a29de0e8c566"
   },
   "outputs": [
    {
     "data": {
      "image/png": "[encoded data removed]",
      "text/plain": [
       "<Figure size 1500x100 with 1 Axes>"
      ]
     },
     "metadata": {},
     "output_type": "display_data"
    }
   ],
   "source": [
    "import matplotlib.pyplot as plt\n",
    "import numpy as np\n",
    "\n",
    "data = embeddings[0]\n",
    "\n",
    "data_2d = np.reshape(data, (1, 768))\n",
    "\n",
    "plt.figure(figsize=(15, 1))\n",
    "# Create a heatmap with a binary colormap (black and white)\n",
    "plt.imshow(data_2d, cmap='binary', interpolation='nearest', aspect='auto')\n",
    "\n",
    "# Remove axes and ticks\n",
    "plt.xlabel('Vector Dimension')\n",
    "plt.ylabel(f\"{movies_data[0]['title']}\")\n",
    "# Show the plot\n",
    "plt.show()"
   ]
  },
  {
   "cell_type": "markdown",
   "metadata": {},
   "source": [
    "A single vector looks alot like a barcode! \n",
    "\n",
    "In the plot above you can ignore the `y-axis`. The `x-axis` captures each dimension of the 768 dimensional vector, the colour captures the values at each dimension.\n",
    "\n",
    "Let's visualize some more vectors to see if we can find patterns!"
   ]
  },
  {
   "cell_type": "code",
   "execution_count": 61,
   "metadata": {
    "colab": {
     "base_uri": "https://localhost:8080/",
     "height": 307
    },
    "id": "PdrGM9SjO5ZD",
    "outputId": "6896131f-1efb-4ab2-860c-d744311112fe"
   },
   "outputs": [
    {
     "data": {
      "image/png": "[encoded data removed]",
      "text/plain": [
       "<Figure size 1500x300 with 3 Axes>"
      ]
     },
     "metadata": {},
     "output_type": "display_data"
    }
   ],
   "source": [
    "import matplotlib.pyplot as plt\n",
    "import numpy as np\n",
    "\n",
    "# Select three movie embeddings\n",
    "data1 = embeddings[0]\n",
    "data2 = embeddings[1]\n",
    "data3 = embeddings[2]\n",
    "\n",
    "# Reshape each embedding into a 2D array\n",
    "data1_2d = np.reshape(data1, (1, 768))\n",
    "data2_2d = np.reshape(data2, (1, 768))\n",
    "data3_2d = np.reshape(data3, (1, 768))\n",
    "\n",
    "# Create a figure with three subplots\n",
    "fig, axs = plt.subplots(3, 1, figsize=(15, 3))\n",
    "\n",
    "# Plot each embedding as a heatmap\n",
    "axs[0].imshow(data1_2d, cmap='binary', interpolation='nearest', aspect='auto')\n",
    "axs[1].imshow(data2_2d, cmap='binary', interpolation='nearest', aspect='auto')\n",
    "axs[2].imshow(data3_2d, cmap='binary', interpolation='nearest', aspect='auto')\n",
    "\n",
    "# Set labels and titles\n",
    "axs[0].set_ylabel(f\"{movies_data[0]['title']}\")\n",
    "axs[1].set_ylabel(f\"{movies_data[1]['title']}\")\n",
    "axs[2].set_ylabel(f\"{movies_data[2]['title']}\")\n",
    "axs[2].set_xlabel('Vector Dimension')\n",
    "\n",
    "# Remove ticks\n",
    "for ax in axs:\n",
    "    ax.set_xticks([])\n",
    "    ax.set_yticks([])\n",
    "\n",
    "# Layout so plots do not overlap\n",
    "fig.tight_layout()\n",
    "\n",
    "# Show the plot\n",
    "plt.show()"
   ]
  },
  {
   "cell_type": "markdown",
   "metadata": {},
   "source": [
    "The vectors for the three movies above capture the semantics of the movie title + overview + tagline!\n",
    "\n",
    "When trying to understand what a vector looks like it better to look at the overall pattern of the barcode as opposed to asking what each line in the barcode means. Each line in the barcode might not have a human understandable meaning - experts don't yet understand how each bar contributes to capturing the overall meaning of the movie!\n",
    "\n",
    "Next let's visualize the user query!"
   ]
  },
  {
   "cell_type": "markdown",
   "metadata": {},
   "source": [
    "## 2. Vectorize the User Query\n",
    "\n",
    "In this case the user is interested in `query` = `super hero action movie with a timeline twist` and so we want to rank our dataset of 1000 movies such that relevant movies are at the top of the list we send to this user."
   ]
  },
  {
   "cell_type": "code",
   "execution_count": null,
   "metadata": {},
   "outputs": [
    {
     "data": {
      "image/png": "[encoded data removed]",
      "text/plain": [
       "<Figure size 1500x100 with 1 Axes>"
      ]
     },
     "metadata": {},
     "output_type": "display_data"
    }
   ],
   "source": [
    "query = \"super hero action movie with a timeline twist\"\n",
    "\n",
    "query_embedding = generate_embeddings([query], 'BAAI/bge-base-en-v1.5')[0]\n",
    "\n",
    "data_2d = np.reshape(query_embedding, (1, 768))\n",
    "\n",
    "plt.figure(figsize=(15, 1))\n",
    "# Create a heatmap with a binary colormap (black and white)\n",
    "plt.imshow(data_2d, cmap='binary', interpolation='nearest', aspect='auto')\n",
    "\n",
    "# Remove axes and ticks\n",
    "plt.xlabel('Vector Dimension')\n",
    "plt.ylabel(\"query\")\n",
    "# Show the plot\n",
    "plt.show()"
   ]
  },
  {
   "cell_type": "markdown",
   "metadata": {},
   "source": [
    "The `query` vector also looks like a barcode.\n",
    "\n",
    "The problem of solving which movie is most semantically similar to the user query is the same as asking which movie vector/barcode \"looks\" most similar to the query vector/barcode!"
   ]
  },
  {
   "cell_type": "markdown",
   "metadata": {},
   "source": [
    "## 3. Compute Distance between Query and Movie Vectors\n",
    "\n",
    "Here we will use the cosine similarity metric to identify which movie vectors are closest to the query vector. Intuitively think of this step as matching the qeury barcode to the movie barcodes to find the best match!"
   ]
  },
  {
   "cell_type": "code",
   "execution_count": 66,
   "metadata": {
    "id": "pCq1sU8kQ8WP"
   },
   "outputs": [],
   "source": [
    "from sklearn.metrics.pairwise import cosine_similarity\n",
    "\n",
    "# This function will produce a list of cosine similarity scores between the query embedding and the movie embeddings\n",
    "similarity_scores = cosine_similarity([query_embedding], embeddings)"
   ]
  },
  {
   "cell_type": "code",
   "execution_count": null,
   "metadata": {},
   "outputs": [
    {
     "data": {
      "text/plain": [
       "(1, 1000)"
      ]
     },
     "metadata": {},
     "output_type": "display_data"
    }
   ],
   "source": [
    "# We get a cosine similarity score for each one of the 1000 movie embeddings\n",
    "similarity_scores.shape"
   ]
  },
  {
   "cell_type": "code",
   "execution_count": null,
   "metadata": {},
   "outputs": [
    {
     "data": {
      "text/plain": [
       "array([[0.46008251, 0.37319415, 0.4377874 , 0.48804997, 0.47663684,\n",
       "        0.3849754 , 0.42823866, 0.43224164, 0.42884381, 0.54375748]])"
      ]
     },
     "metadata": {},
     "output_type": "display_data"
    }
   ],
   "source": [
    "# Cosine similarity goes from -1 to 1, where 1 means the vectors are identical and -1 means they are opposite.\n",
    "similarity_scores[0, :10]"
   ]
  },
  {
   "cell_type": "markdown",
   "metadata": {},
   "source": [
    "## 4. Sort Movies based on Semantic Similarity\n",
    "\n",
    "We want to organize our list of 1000 movies from most to least relevant to the query. We can do this by sorting the above `similarity_scores` array."
   ]
  },
  {
   "cell_type": "code",
   "execution_count": null,
   "metadata": {},
   "outputs": [
    {
     "name": "stdout",
     "output_type": "stream",
     "text": [
      "[[172 265 768 621 929 828  49 653 420  33  36 174 187   3  17 535  52 227\n",
      "  933 585 875 990 961  67   9  11 424 677 478 325 633 185 883 957 638  10\n",
      "  175 688 140  22 259 839 872 944  18 834 701 356 746 742  76  50  81 321\n",
      "  295  13  94 241 488 328 650 248 312 788 879 958 191 195 433 429 214 366\n",
      "  573 385 368 268 815 402 751 217 724 891 209 912 721 772 388  62 606 423\n",
      "  316 147 977 904 216 394 680 506 641 439 180 715 703 580 838 462 319 723\n",
      "  830 748 451 367 915 157 468 330  56 298 119 485 973 118 636 162 757 297\n",
      "  148 941 357 993 637 775 124 252  24 407 455 999 730 733 305 716 350 120\n",
      "  816  55 129 452 563 579 597 427 948 132 291 336 145 555 804 401   2 571\n",
      "  487 222 115 590 862 342 675 111 289 229 928 967 871 952 765 610 735 591\n",
      "  156 417 669 924 920 600 116 574 137 346 840 905 890 276 234 466 554 304\n",
      "  536 526 138  47 233 173 991 499 131 889 966 467 287 900 309 615 690 481\n",
      "  836 179  35 165  80 620 280 326 263 130 352 693 383 211 533  15 863 318\n",
      "  286 296 672 964 561  77 349 911  26 363 188 782 281 918 824 745 551 976\n",
      "  397 176 833 642 737  59 224 894 687 667 731 997 204  78 541 329 674 310\n",
      "  992 434 635 932 135 655 766 139 215 908 270 783 760 489  87 543 365 738\n",
      "  166 954 780 651   4  60 874  70 514  93 142 476 749 364 344  39 853 718\n",
      "  400 662 808  29 936 578 700 337 842 917 250 308 588 186 611   8 777 921\n",
      "  519   0 844 335  92 479 251 362 612 741 197 950 194 376 196 267 666  25\n",
      "  727   7 184 203 617 750  23 238 820 497  38 512 358 377 292 626 484 327\n",
      "  562 483 800 699 108 809 178 106   6 865 930 565  69 866 221 169 457 845\n",
      "  949 490 556  28 659 425 518 269 374 752  30 283 907 500 709 498  44 136\n",
      "   21 835 262 696 823 347 658 408 546 272 486 596 201 529 271 940 361 303\n",
      "  987 713 200 440 521 821 278 744 996 380 122 711  79 264 418 960  58 566\n",
      "   12 692 589 123 530 934 689 511 505 432 814 212 827 450 205 527 577 851\n",
      "  837 632 720 619 246 422 873 552 151 951 695  85 256  98 549  20 704 507\n",
      "  525 986 167 858 714  66 158 974  64 465 237 956 708  34 104 396 818 404\n",
      "  982 945 503  53 463  84  72 789 576 988 923 739 942 767 334 644 937 647\n",
      "  622 654 802   5 528 523 697 495 170 706 887 288 231 707  86 938 190 792\n",
      "  182 892 441 881 754 761 502 981 798 926 284 446 595 260 406  99 762 624\n",
      "  564 473 100 219 501 320 795 381 558 302 470 155 273 177 110 230 323 254\n",
      "  294 390 972  91 681 207 513 384 664 623 812 899 208 857 524 516 822 885\n",
      "  613 627 414 150 324 676 747 702 163 796 826 649 144 810 508 888 807 183\n",
      "  198 537 779 218 927 774 285 471 847 962 570 355 443  19 629 213  48 159\n",
      "  454 616 300 290  51 661 117 640 438  57 670 813 236 726 255 343 475 105\n",
      "  293 683 886  89 913 963 419 371 801 594 464 181  61 301 261 322 614 509\n",
      "  602 453 253 582 398 965 831  97 607 339 338 755 922 598 469 399 405 243\n",
      "  345 395 149 969 628 472 113 778 226  16 609 773 522 975  27 776 811 864\n",
      "  515 592 781 803 548 531 805 880 868 275 567   1 646 550 370 806 793 125\n",
      "  277 430 985 491 671 710 769 939 618 825 416 192 729 415 128 279 210 372\n",
      "  403 544 734 587 133 947 189 340 877 348 684 919 673 953 199 832 605 663\n",
      "  482 341 143 152 583 717 375 559 413  63 225 540 242  90 354 153 959 581\n",
      "  426  43  32 743 691 668 652 855 758 359 799 848 685 935 759 477 861 916\n",
      "  698 786  54 534 867 725 331 553  75 314 154 630 560  42 431 634 545 797\n",
      "  557 785 437 245 539 984 299 983 771 791 979 504 445 373 970 547 459 784\n",
      "  266 436 435  74 893 843 220 456 247 829 146 410 249 852 274 244 360 510\n",
      "  315 719 604 705 869 492 160 311 817 678 538 391  46 460 127  40 722 317\n",
      "  946 449 101 114 631 971 694 532 943 493  71 202  31 103 753 409  65 542\n",
      "  648 134 625 736 332  68 732 712 660 989 679 107  73 910 599  37 474  83\n",
      "  206 382 411 412  45 235 763 333 161 686 740 257 903 764 787 995  82 593\n",
      "  608 980 860 239 517 393 859 850 568  96 447 164 387 968 603 876 496 282\n",
      "  586 569 444 480  88 895 665 682 794 657 878 914 461 378 841 790 306 854\n",
      "  898 109  14 313 645 728 458 442 126 955 171 232 639 601 428 846 901 121\n",
      "  141 102 994  95 902 909 168 819 925 193 575 386 112 906 353 421 240 849\n",
      "  770 884 351 656 389 998 643 584 572 756 392 223 931 228  41 448 856 870\n",
      "  978 494 307 379 897 896 369 258 520 882]]\n"
     ]
    }
   ],
   "source": [
    "# Get the indices of the highest to lowest cosine similarity values\n",
    "# This tell use which movies are most similar to the query\n",
    "\n",
    "# Lookin at the results below we see that the movie at index 172 is the most similar to the query!\n",
    "indices = np.argsort(-similarity_scores)\n",
    "\n",
    "print(indices)"
   ]
  },
  {
   "cell_type": "code",
   "execution_count": null,
   "metadata": {},
   "outputs": [
    {
     "data": {
      "text/plain": [
       "['The Incredibles',\n",
       " 'Watchmen',\n",
       " 'Mr. Peabody & Sherman',\n",
       " 'Due Date',\n",
       " 'The Next Three Days',\n",
       " 'Super 8',\n",
       " 'Iron Man',\n",
       " 'After Earth',\n",
       " 'Men in Black 3',\n",
       " 'Despicable Me 2']"
      ]
     },
     "metadata": {},
     "output_type": "display_data"
    }
   ],
   "source": [
    "top_10_sorted_titles = [movies_data[index]['title'] for index in indices[0]][:10]\n",
    "\n",
    "top_10_sorted_titles"
   ]
  },
  {
   "cell_type": "markdown",
   "metadata": {},
   "source": [
    "Here we can see the list of top ten movies most similar to the query(`super hero action movie with a timeline twist`), according to vector embeddings generated by `bge-base-en-v1.5`.\n",
    "\n",
    "Notice that most of these movies have something to do with the query. Some are super hero movies, some are action movies and others have a timeline twist - we get very few false positives(movies that have nothing to do with anything in the query).\n",
    "\n",
    "Semantic similarity gives us a fuzzy way to sort our dataset based on how similar the objects are to a given query!\n",
    "\n",
    "Learn more about how to use embedding models in the [docs](https://docs.together.ai/docs/embeddings-overview) here!"
   ]
  }
 ],
 "metadata": {
  "colab": {
   "provenance": []
  },
  "kernelspec": {
   "display_name": "Python 3",
   "name": "python3"
  },
  "language_info": {
   "name": "python"
  }
 },
 "nbformat": 4,
 "nbformat_minor": 0
}