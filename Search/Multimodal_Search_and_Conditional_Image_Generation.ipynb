{
 "cells": [
  {
   "cell_type": "markdown",
   "metadata": {
    "id": "jIOoUNfvenAk"
   },
   "source": [
    "# Multimodal Search and Conditional Image Generation\n",
    "[![Open In Colab](https://colab.research.google.com/assets/colab-badge.svg)](https://colab.research.google.com/github/togethercomputer/together-cookbook/blob/main/Multimodal_Search_and_Conditional_Image_Generation.ipynb)"
   ]
  },
  {
   "cell_type": "markdown",
   "metadata": {
    "id": "iaz7Bw6WenAl"
   },
   "source": [
    "## Introduction\n",
    "\n",
    "In this notebook we will demonstrate how to implement text-to-image search and image-to-image search. This will allow you to retrieve semantically relevant images and then we will use the retrieved images to condition the generation of new images using diffusion models.\n",
    "\n",
    "We will cover:\n",
    "1. How we can use multimodal embedding models like JinaCLIP to perform multimodal search.\n",
    "2. How we can perform conditional image generation using the FLUX models."
   ]
  },
  {
   "cell_type": "markdown",
   "metadata": {
    "id": "CPAb6tNWenAm"
   },
   "source": [
    "## Install relevant libraries"
   ]
  },
  {
   "cell_type": "code",
   "execution_count": 11,
   "metadata": {
    "colab": {
     "base_uri": "https://localhost:8080/"
    },
    "id": "KFt-8p5En6ow",
    "outputId": "f744001e-ddad-4ae9-9219-a71738df66fe"
   },
   "outputs": [
    {
     "name": "stdout",
     "output_type": "stream",
     "text": [
      "\u001b[?25l   \u001b[90m━━━━━━━━━━━━━━━━━━━━━━━━━━━━━━━━━━━━━━━━\u001b[0m \u001b[32m0.0/83.7 kB\u001b[0m \u001b[31m?\u001b[0m eta \u001b[36m-:--:--\u001b[0m\r\u001b[2K   \u001b[90m━━━━━━━━━━━━━━━━━━━━━━━━━━━━━━━━━━━━━━━━\u001b[0m \u001b[32m83.7/83.7 kB\u001b[0m \u001b[31m5.4 MB/s\u001b[0m eta \u001b[36m0:00:00\u001b[0m\n",
      "\u001b[?25h"
     ]
    }
   ],
   "source": [
    "!pip install -Uqq duckduckgo_search together transformers"
   ]
  },
  {
   "cell_type": "code",
   "execution_count": 2,
   "metadata": {
    "id": "qPXVQhl7vsyw"
   },
   "outputs": [],
   "source": [
    "from duckduckgo_search import DDGS\n",
    "\n",
    "def search_images(keywords, max_images=10):\n",
    "    \"\"\"\n",
    "    Search for images based on given keywords and return a list of image URLs.\n",
    "    Args:\n",
    "        keywords (str): The search terms to use for finding images.\n",
    "        max_images (int, optional): The maximum number of images to retrieve. Defaults to 10.\n",
    "    Returns:\n",
    "        list: A list of URLs of the images found based on the search keywords.\n",
    "    \"\"\"\n",
    "\n",
    "    results = DDGS().images(keywords, max_results=max_images)\n",
    "\n",
    "    return [item['image'] for item in results]"
   ]
  },
  {
   "cell_type": "code",
   "execution_count": 26,
   "metadata": {
    "colab": {
     "base_uri": "https://localhost:8080/"
    },
    "id": "GucDsOYpv0Lm",
    "outputId": "fc7492e3-ead4-47e8-aafc-c58f82868e6a"
   },
   "outputs": [
    {
     "data": {
      "text/plain": [
       "['http://leapphotography.com/blog/wp-content/uploads/2017/04/family-portrait-studio-boise-idaho-003.jpg',\n",
       " 'http://3.bp.blogspot.com/_b_LWsdjxDUI/TKJuV4BG7EI/AAAAAAAAEkM/qcdcqXqtZLc/s1600/Family+PIctures_53.jpg',\n",
       " 'https://www.uniqueideas.site/wp-content/uploads/img_6349-1087x1600-pixels-family-group-photos-pinterest-1.jpg']"
      ]
     },
     "execution_count": 26,
     "metadata": {},
     "output_type": "execute_result"
    }
   ],
   "source": [
    "# Our function will allow us to search the web for images\n",
    "search_images('family picture', max_images=3)"
   ]
  },
  {
   "cell_type": "markdown",
   "metadata": {
    "id": "Ywe1-FSVm8Wk"
   },
   "source": [
    "We use the following code to obtain a variety of image links we can index.\n",
    "\n",
    "```python\n",
    "# Lets create a small dataset of 12 images containing diverse topics\n",
    "searches = 'forest', 'dog', 'strawberry field', 'family picture'\n",
    "\n",
    "from time import sleep\n",
    "\n",
    "links = []\n",
    "\n",
    "for o in searches:\n",
    "    links += search_images(o, max_images=3)\n",
    "    sleep(1)\n",
    "```"
   ]
  },
  {
   "cell_type": "code",
   "execution_count": null,
   "metadata": {
    "id": "Sbfl17DvfRxu"
   },
   "outputs": [],
   "source": [
    "# Below we just provide the links obtained when this code was ran to make the notebook reproducible in case web search results change\n",
    "\n",
    "links = ['https://get.pxhere.com/photo/tree-forest-path-plant-hiking-trail-meadow-sunlight-rustic-solitude-recreation-green-jungle-scenic-peaceful-usa-relaxing-trees-leaves-outdoors-woods-spruce-vegetation-rainforest-deciduous-ferns-grove-woodland-habitat-ecosystem-north-carolina-biome-old-growth-forest-natural-environment-geographical-feature-woody-plant-temperate-broadleaf-and-mixed-forest-temperate-coniferous-forest-riparian-forest-elk-knob-state-park-1172973.jpg',\n",
    " 'https://wallup.net/wp-content/uploads/2019/09/952492-forest-trees-nature-landscape-tree.jpg',\n",
    " 'https://get.pxhere.com/photo/tree-nature-forest-path-wilderness-plant-trail-sunlight-leaf-green-jungle-autumn-ridge-trees-outdoors-woods-rainforest-deciduous-woodland-habitat-ecosystem-biome-old-growth-forest-natural-environment-woody-plant-temperate-broadleaf-and-mixed-forest-temperate-coniferous-forest-1170198.jpg',\n",
    " 'https://get.pxhere.com/photo/puppy-dog-animal-canine-pet-young-mammal-friend-golden-retriever-happy-vertebrate-funny-domestic-adorable-cub-dog-breed-retriever-pup-doggy-puppies-doggie-pedigree-cute-dog-young-dog-yellow-dog-dog-face-lazy-dog-dog-nose-young-dogs-dog-like-mammal-dog-breed-group-dog-crossbreeds-norfolk-terrier-tibetan-spaniel-nova-scotia-duck-tolling-retriever-female-dog-whelp-funny-dogs-yellow-dogs-dogs-types-dog-photos-smile-dogs-dog-cute-dog-funny-dog-laughing-dog-girl-1387994.jpg',\n",
    " 'https://wallup.net/wp-content/uploads/2018/10/06/364377-puppies-puppy-baby-dog-dogs-41.jpg',\n",
    " 'https://get.pxhere.com/photo/puppy-dog-animal-cute-canine-pet-fur-mammal-hound-close-up-nose-snout-ears-vertebrate-beagle-resting-adorable-dog-breed-street-dog-dog-like-mammal-816169.jpg',\n",
    " 'https://images.pexels.com/photos/7534234/pexels-photo-7534234.jpeg?auto=compress&cs=tinysrgb&h=750&w=1260',\n",
    " 'https://i.pinimg.com/originals/9e/dd/56/9edd568dd03d58a00d50adb2ec040208.jpg',\n",
    " 'https://images.pexels.com/photos/7707012/pexels-photo-7707012.jpeg?auto=compress&cs=tinysrgb&h=750&w=1260',\n",
    " 'http://leapphotography.com/blog/wp-content/uploads/2017/04/family-photographer-boise-professional-portrait-photographers-002.jpg',\n",
    " 'https://icmedonline.com/blog/wp-content/uploads/2017/06/MensHealth.jpeg',\n",
    " 'https://simpleasthatblog.com/wp-content/uploads/2014/12/familyphotosIG.jpg']"
   ]
  },
  {
   "cell_type": "markdown",
   "metadata": {
    "id": "yUOA_mHNenAn"
   },
   "source": "### CLIP Architecture Overview\n\nCLIP (Contrastive Language-Image Pre-training) is designed to understand the relationship between images and text by learning joint representations.\n\n<img src=\"../images/CLIP.png\" width=\"1000\">\n\n**Key Components:**\n- **Image Encoder**: Processes images into feature vectors\n- **Text Encoder**: Processes text into feature vectors  \n- **Joint Embedding Space**: Both encoders map to the same vector space\n- **Contrastive Learning**: Trained to align matching image-text pairs",
   "outputs": []
  },
  {
   "cell_type": "code",
   "execution_count": 37,
   "metadata": {
    "colab": {
     "base_uri": "https://localhost:8080/"
    },
    "id": "sadHxeC-ttoS",
    "outputId": "0b35ca7e-f55a-4a52-8323-14ffb4e9d8dc"
   },
   "outputs": [
    {
     "data": {
      "text/plain": [
       "(12, 768)"
      ]
     },
     "execution_count": 37,
     "metadata": {},
     "output_type": "execute_result"
    }
   ],
   "source": [
    "from transformers import AutoModel\n",
    "\n",
    "# Initialize the model\n",
    "model = AutoModel.from_pretrained('jinaai/jina-clip-v1', trust_remote_code=True)\n",
    "\n",
    "# Encode text and images\n",
    "image_embeddings = model.encode_image(links)  # also accepts PIL.image, local filenames, dataURI\n",
    "\n",
    "image_embeddings.shape"
   ]
  },
  {
   "cell_type": "markdown",
   "metadata": {
    "id": "arcWhwoIenAo"
   },
   "source": [
    "`image_embeddings` is now a numpy array/vector index that contains vector representations for each of our 12 images."
   ]
  },
  {
   "cell_type": "markdown",
   "metadata": {
    "id": "LpNnX9iYenAo"
   },
   "source": [
    "## Image Retrieval Function\n",
    "\n",
    "Below we implement a retrieval function that will embed an image or text query and return the most semantically relevant image.\n",
    "\n",
    "Since JinaCLIP is a multimodal model is can accept both text or images as input and thus our function will need to handle both text or image queries."
   ]
  },
  {
   "cell_type": "code",
   "execution_count": 40,
   "metadata": {
    "id": "958yTntvubgF"
   },
   "outputs": [],
   "source": [
    "import numpy as np\n",
    "\n",
    "def retrieve_image(query, query_type, index):\n",
    "    \"\"\"\n",
    "    Retrieve the index of the most similar image based on a query.\n",
    "    Args:\n",
    "        query (str or PIL.Image or str): The query input, which can be a text string,\n",
    "                                         a PIL image, or a local filename.\n",
    "        query_type (str): The type of the query, either 'text' or 'image'.\n",
    "        index (int): The index of the image to be retrieved.\n",
    "    Returns:\n",
    "        int: The index of the most similar image based on the query.\n",
    "    Raises:\n",
    "        ValueError: If the query_type is not 'text' or 'image'.\n",
    "    \"\"\"\n",
    "\n",
    "    if query_type == 'text':\n",
    "        query_embedding = model.encode_text(query)\n",
    "    elif query_type == 'image':\n",
    "        query_embedding = model.encode_image(query) # Accepts PIL.image, local filenames, dataURI\n",
    "    else:\n",
    "        raise ValueError(\"query_type must be 'text' or 'image'\")\n",
    "\n",
    "    similarities = query_embedding @ index.T # We calculate the similaritry between the query embedding and all the image embeddings\n",
    "\n",
    "    return np.argmax(similarities)"
   ]
  },
  {
   "cell_type": "markdown",
   "metadata": {
    "id": "chwFVZ4ienAo"
   },
   "source": [
    "Below we perform text2image retrieval:"
   ]
  },
  {
   "cell_type": "code",
   "execution_count": 41,
   "metadata": {
    "colab": {
     "base_uri": "https://localhost:8080/",
     "height": 145,
     "referenced_widgets": [
      "a6fe21d98eed4c57aa37124407e1f975",
      "27d767d54bf443ae91797ffa45aa223d",
      "75f40aede151438887e4005769e3e2bd",
      "041a08180a804cc28a2e8ff6abf25cc0",
      "3867b6f6cc83444b920ecac4c297b851",
      "a81817d9580f4e7bad122f240539f4a5",
      "2bdadb153ddd46c483d4c72a30fa97ed",
      "103b308bd840417c9b2d968792b963a0",
      "8cb945dee1fc445991cf79102f82d9eb",
      "a9f07d92ef324eaa90278ae43e1b46a8",
      "ee03f61876694d56a1f1a96af01ff3da",
      "05d84f52fe5b413eb600f1eb68864af3",
      "2cd3d0061196476ba55c267462c0531b",
      "04a3b0449c4042b0a1f1667c9f3d575e",
      "3186e46bfd0b4a8b865ba8ec689a3195",
      "e0a86753267442549b208dba961881b8",
      "bab6fbc4ec2d450c8a51df9ae1a55917",
      "cd72f8915c274f1ba42b1c42ebd5fc4b",
      "03e66c344c6949ab86cf3d742a4390c0",
      "0061ea63db394ffaa960d97c82603f3e",
      "dfaee20ca382415ab6d80ff6631d356b",
      "aa4a552c11ec4e988a5c56fc1d8104d8",
      "65348ce802e642c4a0dff6cab15a1ebb",
      "d2d26659b75d41c09df9ea568a5ed1f4",
      "5131006484b74750a7d8d6a6e4d62c8d",
      "57c784e933cb49f3ba8461401264c239",
      "4b555d62b5754182b3101914bd8bebc0",
      "65c838ad8fd74a508a6b0b7f1380f7db",
      "9751abbbf541434fbb94b0c8481d6417",
      "8fb42320dc2145298a0b67126174a9aa",
      "193567e7e5864f87a173aa4e7feebbc1",
      "508707f361554a5aaafa7134f984d446",
      "51ca3ca31c224dafb7ee4d202634fc04",
      "47915072b67742cf8b5e4147522752f5",
      "4c8e05cb543941cd8f5bd839f7fa352f",
      "d82bff6f95574717b2422d1fd7693b1d",
      "b948ba611df04f4cbc980931d0091b57",
      "f0d5d8d6639846179bd28c08fd53724c",
      "0421b1294a05480a90d2edd526fcb56a",
      "29eacb7a70a9413e9b537f0b2ccabd4c",
      "308e53e7a11846b8942b0bf740f4e511",
      "4486083f5952466b85ac40feae4bab54",
      "933398978ac24fc781d92d261752dbf3",
      "1e8abe7b99bb435fb5513e48d39debf3"
     ]
    },
    "id": "fw-k3zw9xP3B",
    "outputId": "d89b431f-ce43-436b-dde6-2fb493e1b511"
   },
   "outputs": [
    {
     "data": {
      "application/vnd.jupyter.widget-view+json": {
       "model_id": "a6fe21d98eed4c57aa37124407e1f975",
       "version_major": 2,
       "version_minor": 0
      },
      "text/plain": [
       "tokenizer_config.json:   0%|          | 0.00/1.24k [00:00<?, ?B/s]"
      ]
     },
     "metadata": {},
     "output_type": "display_data"
    },
    {
     "data": {
      "application/vnd.jupyter.widget-view+json": {
       "model_id": "05d84f52fe5b413eb600f1eb68864af3",
       "version_major": 2,
       "version_minor": 0
      },
      "text/plain": [
       "vocab.txt:   0%|          | 0.00/232k [00:00<?, ?B/s]"
      ]
     },
     "metadata": {},
     "output_type": "display_data"
    },
    {
     "data": {
      "application/vnd.jupyter.widget-view+json": {
       "model_id": "65348ce802e642c4a0dff6cab15a1ebb",
       "version_major": 2,
       "version_minor": 0
      },
      "text/plain": [
       "tokenizer.json:   0%|          | 0.00/712k [00:00<?, ?B/s]"
      ]
     },
     "metadata": {},
     "output_type": "display_data"
    },
    {
     "data": {
      "application/vnd.jupyter.widget-view+json": {
       "model_id": "47915072b67742cf8b5e4147522752f5",
       "version_major": 2,
       "version_minor": 0
      },
      "text/plain": [
       "special_tokens_map.json:   0%|          | 0.00/695 [00:00<?, ?B/s]"
      ]
     },
     "metadata": {},
     "output_type": "display_data"
    }
   ],
   "source": [
    "retrieved_image = links[retrieve_image(query = 'family pics', query_type = 'text', index = image_embeddings)]"
   ]
  },
  {
   "cell_type": "markdown",
   "metadata": {
    "id": "F6eEJHdmenAo"
   },
   "source": [
    "This image is the most semantically similar to the text query: `family pics`"
   ]
  },
  {
   "cell_type": "code",
   "execution_count": 42,
   "metadata": {
    "colab": {
     "base_uri": "https://localhost:8080/",
     "height": 521
    },
    "id": "dvqtBwmCzdco",
    "outputId": "f8bcb279-abb4-4a36-fb65-198293f2924b"
   },
   "outputs": [
    {
     "data": {
      "text/html": [
       "<img src=\"https://simpleasthatblog.com/wp-content/uploads/2014/12/familyphotosIG.jpg\" width=\"500\"/>"
      ],
      "text/plain": [
       "<IPython.core.display.Image object>"
      ]
     },
     "execution_count": 42,
     "metadata": {},
     "output_type": "execute_result"
    }
   ],
   "source": [
    "import IPython.display as display\n",
    "\n",
    "display.Image(url=retrieved_image, width=500)"
   ]
  },
  {
   "cell_type": "markdown",
   "metadata": {
    "id": "zddSB3XyenAo"
   },
   "source": [
    "## Conditional Image Generation Using Diffusion Models\n",
    "\n",
    "We will use the retrieved image above to generate a holiday card cartoon version of the image above!"
   ]
  },
  {
   "cell_type": "code",
   "execution_count": 44,
   "metadata": {
    "id": "VW76cIqOxkDR"
   },
   "outputs": [],
   "source": [
    "from together import Together\n",
    "\n",
    "client = Together(api_key = 'TOGETHER_API_KEY')\n",
    "\n",
    "def generate_image(image_prompt, retrieved_image, model = \"black-forest-labs/FLUX.1-depth\"):\n",
    "\n",
    "    imageCompletion = client.images.generate(\n",
    "        model = model,\n",
    "        width=1024,\n",
    "        height=768,\n",
    "        steps=28,\n",
    "        prompt = image_prompt,\n",
    "        image_url = retrieved_image,\n",
    "    )\n",
    "\n",
    "    return imageCompletion.data[0].url"
   ]
  },
  {
   "cell_type": "code",
   "execution_count": 45,
   "metadata": {
    "id": "tb-cxswByl2G"
   },
   "outputs": [],
   "source": [
    "generated_image = generate_image(\"Create a cute holiday cartoon version of this image.\", retrieved_image = retrieved_image)"
   ]
  },
  {
   "cell_type": "code",
   "execution_count": 46,
   "metadata": {
    "colab": {
     "base_uri": "https://localhost:8080/",
     "height": 396
    },
    "id": "3Zax0B6Dy5Go",
    "outputId": "0eadf142-90a3-40b2-9df1-f561867de118"
   },
   "outputs": [
    {
     "data": {
      "text/html": [
       "<img src=\"https://api.together.ai/imgproxy/Qf_1G6VLR7BaIsSyBT0-204LJU28r8K7ObU3NR7MNso/format:jpeg/aHR0cHM6Ly90b2dldGhlci1haS1iZmwtaW1hZ2VzLXByb2QuczMudXMtd2VzdC0yLmFtYXpvbmF3cy5jb20vaW1hZ2VzLzEwMjIwZTY4NzJmNWMyOTcyZDBlOGI0N2NkN2YwNTMwNDJlM2FmYTY4ZjM1MmM5NzZlNDEyZDhlZTMwNDNmYmY_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\" width=\"500\"/>"
      ],
      "text/plain": [
       "<IPython.core.display.Image object>"
      ]
     },
     "execution_count": 46,
     "metadata": {},
     "output_type": "execute_result"
    }
   ],
   "source": [
    "display.Image(url=generated_image, width=500)"
   ]
  },
  {
   "cell_type": "markdown",
   "metadata": {
    "id": "ZOGFfLT9enAp"
   },
   "source": [
    "## Image to Image Search and Conditional Generation\n",
    "\n",
    "Next we will demonstrate using an image as a query and then used the semantically relevant retrieved image to generate another holiday cartoon generated image!"
   ]
  },
  {
   "cell_type": "code",
   "execution_count": 47,
   "metadata": {
    "colab": {
     "base_uri": "https://localhost:8080/",
     "height": 365
    },
    "id": "mhem9NXwzFzS",
    "outputId": "469c3b32-9b62-44fd-f55c-6e265f6112d9"
   },
   "outputs": [
    {
     "data": {
      "text/html": [
       "<img src=\"https://www.dogsbestfriendtraining.com/wp-content/uploads/2021/04/iStock-1248789778-1-2048x1407.jpg\" width=\"500\"/>"
      ],
      "text/plain": [
       "<IPython.core.display.Image object>"
      ]
     },
     "execution_count": 47,
     "metadata": {},
     "output_type": "execute_result"
    }
   ],
   "source": [
    "# Search the internet for a new image\n",
    "new_image = search_images('cute pet dog running', max_images=1)[0]\n",
    "\n",
    "display.Image(url=new_image, width=500)"
   ]
  },
  {
   "cell_type": "code",
   "execution_count": 48,
   "metadata": {
    "colab": {
     "base_uri": "https://localhost:8080/",
     "height": 648
    },
    "id": "wg3uiDQy1WsC",
    "outputId": "02f06b3e-c905-4df2-d63b-1eaa589fed99"
   },
   "outputs": [
    {
     "data": {
      "text/html": [
       "<img src=\"https://get.pxhere.com/photo/puppy-dog-animal-canine-pet-young-mammal-friend-golden-retriever-happy-vertebrate-funny-domestic-adorable-cub-dog-breed-retriever-pup-doggy-puppies-doggie-pedigree-cute-dog-young-dog-yellow-dog-dog-face-lazy-dog-dog-nose-young-dogs-dog-like-mammal-dog-breed-group-dog-crossbreeds-norfolk-terrier-tibetan-spaniel-nova-scotia-duck-tolling-retriever-female-dog-whelp-funny-dogs-yellow-dogs-dogs-types-dog-photos-smile-dogs-dog-cute-dog-funny-dog-laughing-dog-girl-1387994.jpg\" width=\"500\"/>"
      ],
      "text/plain": [
       "<IPython.core.display.Image object>"
      ]
     },
     "execution_count": 48,
     "metadata": {},
     "output_type": "execute_result"
    }
   ],
   "source": [
    "# Use the image above as a query to retrieve the most similar image from our dataset of 12 images\n",
    "image_2_image = links[retrieve_image(query=new_image, query_type='image', index=image_embeddings)]\n",
    "\n",
    "display.Image(url=image_2_image, width=500)"
   ]
  },
  {
   "cell_type": "code",
   "execution_count": 49,
   "metadata": {
    "id": "zVjb0O8u2KPf"
   },
   "outputs": [],
   "source": [
    "# Generate a holiday cartoon version of the retrieved image\n",
    "generated_image_2 = generate_image(image_prompt=\"Create a cute holiday cartoon version of this image.\", retrieved_image = image_2_image)"
   ]
  },
  {
   "cell_type": "code",
   "execution_count": 50,
   "metadata": {
    "colab": {
     "base_uri": "https://localhost:8080/",
     "height": 396
    },
    "id": "ZDbNGPu92yDa",
    "outputId": "955f6ffb-6adc-43a4-e0a0-290c0d2b48fa"
   },
   "outputs": [
    {
     "data": {
      "text/html": [
       "<img src=\"https://api.together.ai/imgproxy/t6kQ-Eq9CdmEtUCrc5NKITQ4AxJ1JIGwFJ7jxfE7F7I/format:jpeg/aHR0cHM6Ly90b2dldGhlci1haS1iZmwtaW1hZ2VzLXByb2QuczMudXMtd2VzdC0yLmFtYXpvbmF3cy5jb20vaW1hZ2VzLzEwZWE5OTJiNWJhYTVkNTk1MWViM2U5OTlmODQ4MjI2OGU3MjhkODExNzZhNTVkYThhMjM5MTFkNGIyOWVmNTM_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\" width=\"500\"/>"
      ],
      "text/plain": [
       "<IPython.core.display.Image object>"
      ]
     },
     "execution_count": 50,
     "metadata": {},
     "output_type": "execute_result"
    }
   ],
   "source": [
    "display.Image(url=generated_image_2, width=500)"
   ]
  },
  {
   "cell_type": "markdown",
   "metadata": {},
   "source": [
    "Check our how you can generated images conditioned on input images [here](https://www.together.ai/blog/flux-tools-models-together-apis-canny-depth-image-generation)!"
   ]
  }
 ],
 "metadata": {
  "colab": {
   "provenance": []
  },
  "kernelspec": {
   "display_name": "Python 3",
   "name": "python3"
  },
  "language_info": {
   "codemirror_mode": {
    "name": "ipython",
    "version": 3
   },
   "file_extension": ".py",
   "mimetype": "text/x-python",
   "name": "python",
   "nbconvert_exporter": "python",
   "pygments_lexer": "ipython3",
   "version": "3.10.11"
  },
  "widgets": {
   "application/vnd.jupyter.widget-state+json": {
    "0061ea63db394ffaa960d97c82603f3e": {
     "model_module": "@jupyter-widgets/controls",
     "model_module_version": "1.5.0",
     "model_name": "ProgressStyleModel",
     "state": {
      "_model_module": "@jupyter-widgets/controls",
      "_model_module_version": "1.5.0",
      "_model_name": "ProgressStyleModel",
      "_view_count": null,
      "_view_module": "@jupyter-widgets/base",
      "_view_module_version": "1.2.0",
      "_view_name": "StyleView",
      "bar_color": null,
      "description_width": ""
     }
    },
    "03e66c344c6949ab86cf3d742a4390c0": {
     "model_module": "@jupyter-widgets/base",
     "model_module_version": "1.2.0",
     "model_name": "LayoutModel",
     "state": {
      "_model_module": "@jupyter-widgets/base",
      "_model_module_version": "1.2.0",
      "_model_name": "LayoutModel",
      "_view_count": null,
      "_view_module": "@jupyter-widgets/base",
      "_view_module_version": "1.2.0",
      "_view_name": "LayoutView",
      "align_content": null,
      "align_items": null,
      "align_self": null,
      "border": null,
      "bottom": null,
      "display": null,
      "flex": null,
      "flex_flow": null,
      "grid_area": null,
      "grid_auto_columns": null,
      "grid_auto_flow": null,
      "grid_auto_rows": null,
      "grid_column": null,
      "grid_gap": null,
      "grid_row": null,
      "grid_template_areas": null,
      "grid_template_columns": null,
      "grid_template_rows": null,
      "height": null,
      "justify_content": null,
      "justify_items": null,
      "left": null,
      "margin": null,
      "max_height": null,
      "max_width": null,
      "min_height": null,
      "min_width": null,
      "object_fit": null,
      "object_position": null,
      "order": null,
      "overflow": null,
      "overflow_x": null,
      "overflow_y": null,
      "padding": null,
      "right": null,
      "top": null,
      "visibility": null,
      "width": null
     }
    },
    "041a08180a804cc28a2e8ff6abf25cc0": {
     "model_module": "@jupyter-widgets/controls",
     "model_module_version": "1.5.0",
     "model_name": "HTMLModel",
     "state": {
      "_dom_classes": [],
      "_model_module": "@jupyter-widgets/controls",
      "_model_module_version": "1.5.0",
      "_model_name": "HTMLModel",
      "_view_count": null,
      "_view_module": "@jupyter-widgets/controls",
      "_view_module_version": "1.5.0",
      "_view_name": "HTMLView",
      "description": "",
      "description_tooltip": null,
      "layout": "IPY_MODEL_a9f07d92ef324eaa90278ae43e1b46a8",
      "placeholder": "​",
      "style": "IPY_MODEL_ee03f61876694d56a1f1a96af01ff3da",
      "value": " 1.24k/1.24k [00:00&lt;00:00, 75.6kB/s]"
     }
    },
    "0421b1294a05480a90d2edd526fcb56a": {
     "model_module": "@jupyter-widgets/base",
     "model_module_version": "1.2.0",
     "model_name": "LayoutModel",
     "state": {
      "_model_module": "@jupyter-widgets/base",
      "_model_module_version": "1.2.0",
      "_model_name": "LayoutModel",
      "_view_count": null,
      "_view_module": "@jupyter-widgets/base",
      "_view_module_version": "1.2.0",
      "_view_name": "LayoutView",
      "align_content": null,
      "align_items": null,
      "align_self": null,
      "border": null,
      "bottom": null,
      "display": null,
      "flex": null,
      "flex_flow": null,
      "grid_area": null,
      "grid_auto_columns": null,
      "grid_auto_flow": null,
      "grid_auto_rows": null,
      "grid_column": null,
      "grid_gap": null,
      "grid_row": null,
      "grid_template_areas": null,
      "grid_template_columns": null,
      "grid_template_rows": null,
      "height": null,
      "justify_content": null,
      "justify_items": null,
      "left": null,
      "margin": null,
      "max_height": null,
      "max_width": null,
      "min_height": null,
      "min_width": null,
      "object_fit": null,
      "object_position": null,
      "order": null,
      "overflow": null,
      "overflow_x": null,
      "overflow_y": null,
      "padding": null,
      "right": null,
      "top": null,
      "visibility": null,
      "width": null
     }
    },
    "04a3b0449c4042b0a1f1667c9f3d575e": {
     "model_module": "@jupyter-widgets/controls",
     "model_module_version": "1.5.0",
     "model_name": "FloatProgressModel",
     "state": {
      "_dom_classes": [],
      "_model_module": "@jupyter-widgets/controls",
      "_model_module_version": "1.5.0",
      "_model_name": "FloatProgressModel",
      "_view_count": null,
      "_view_module": "@jupyter-widgets/controls",
      "_view_module_version": "1.5.0",
      "_view_name": "ProgressView",
      "bar_style": "success",
      "description": "",
      "description_tooltip": null,
      "layout": "IPY_MODEL_03e66c344c6949ab86cf3d742a4390c0",
      "max": 231589,
      "min": 0,
      "orientation": "horizontal",
      "style": "IPY_MODEL_0061ea63db394ffaa960d97c82603f3e",
      "value": 231589
     }
    },
    "05d84f52fe5b413eb600f1eb68864af3": {
     "model_module": "@jupyter-widgets/controls",
     "model_module_version": "1.5.0",
     "model_name": "HBoxModel",
     "state": {
      "_dom_classes": [],
      "_model_module": "@jupyter-widgets/controls",
      "_model_module_version": "1.5.0",
      "_model_name": "HBoxModel",
      "_view_count": null,
      "_view_module": "@jupyter-widgets/controls",
      "_view_module_version": "1.5.0",
      "_view_name": "HBoxView",
      "box_style": "",
      "children": [
       "IPY_MODEL_2cd3d0061196476ba55c267462c0531b",
       "IPY_MODEL_04a3b0449c4042b0a1f1667c9f3d575e",
       "IPY_MODEL_3186e46bfd0b4a8b865ba8ec689a3195"
      ],
      "layout": "IPY_MODEL_e0a86753267442549b208dba961881b8"
     }
    },
    "103b308bd840417c9b2d968792b963a0": {
     "model_module": "@jupyter-widgets/base",
     "model_module_version": "1.2.0",
     "model_name": "LayoutModel",
     "state": {
      "_model_module": "@jupyter-widgets/base",
      "_model_module_version": "1.2.0",
      "_model_name": "LayoutModel",
      "_view_count": null,
      "_view_module": "@jupyter-widgets/base",
      "_view_module_version": "1.2.0",
      "_view_name": "LayoutView",
      "align_content": null,
      "align_items": null,
      "align_self": null,
      "border": null,
      "bottom": null,
      "display": null,
      "flex": null,
      "flex_flow": null,
      "grid_area": null,
      "grid_auto_columns": null,
      "grid_auto_flow": null,
      "grid_auto_rows": null,
      "grid_column": null,
      "grid_gap": null,
      "grid_row": null,
      "grid_template_areas": null,
      "grid_template_columns": null,
      "grid_template_rows": null,
      "height": null,
      "justify_content": null,
      "justify_items": null,
      "left": null,
      "margin": null,
      "max_height": null,
      "max_width": null,
      "min_height": null,
      "min_width": null,
      "object_fit": null,
      "object_position": null,
      "order": null,
      "overflow": null,
      "overflow_x": null,
      "overflow_y": null,
      "padding": null,
      "right": null,
      "top": null,
      "visibility": null,
      "width": null
     }
    },
    "193567e7e5864f87a173aa4e7feebbc1": {
     "model_module": "@jupyter-widgets/controls",
     "model_module_version": "1.5.0",
     "model_name": "ProgressStyleModel",
     "state": {
      "_model_module": "@jupyter-widgets/controls",
      "_model_module_version": "1.5.0",
      "_model_name": "ProgressStyleModel",
      "_view_count": null,
      "_view_module": "@jupyter-widgets/base",
      "_view_module_version": "1.2.0",
      "_view_name": "StyleView",
      "bar_color": null,
      "description_width": ""
     }
    },
    "1e8abe7b99bb435fb5513e48d39debf3": {
     "model_module": "@jupyter-widgets/controls",
     "model_module_version": "1.5.0",
     "model_name": "DescriptionStyleModel",
     "state": {
      "_model_module": "@jupyter-widgets/controls",
      "_model_module_version": "1.5.0",
      "_model_name": "DescriptionStyleModel",
      "_view_count": null,
      "_view_module": "@jupyter-widgets/base",
      "_view_module_version": "1.2.0",
      "_view_name": "StyleView",
      "description_width": ""
     }
    },
    "27d767d54bf443ae91797ffa45aa223d": {
     "model_module": "@jupyter-widgets/controls",
     "model_module_version": "1.5.0",
     "model_name": "HTMLModel",
     "state": {
      "_dom_classes": [],
      "_model_module": "@jupyter-widgets/controls",
      "_model_module_version": "1.5.0",
      "_model_name": "HTMLModel",
      "_view_count": null,
      "_view_module": "@jupyter-widgets/controls",
      "_view_module_version": "1.5.0",
      "_view_name": "HTMLView",
      "description": "",
      "description_tooltip": null,
      "layout": "IPY_MODEL_a81817d9580f4e7bad122f240539f4a5",
      "placeholder": "​",
      "style": "IPY_MODEL_2bdadb153ddd46c483d4c72a30fa97ed",
      "value": "tokenizer_config.json: 100%"
     }
    },
    "29eacb7a70a9413e9b537f0b2ccabd4c": {
     "model_module": "@jupyter-widgets/controls",
     "model_module_version": "1.5.0",
     "model_name": "DescriptionStyleModel",
     "state": {
      "_model_module": "@jupyter-widgets/controls",
      "_model_module_version": "1.5.0",
      "_model_name": "DescriptionStyleModel",
      "_view_count": null,
      "_view_module": "@jupyter-widgets/base",
      "_view_module_version": "1.2.0",
      "_view_name": "StyleView",
      "description_width": ""
     }
    },
    "2bdadb153ddd46c483d4c72a30fa97ed": {
     "model_module": "@jupyter-widgets/controls",
     "model_module_version": "1.5.0",
     "model_name": "DescriptionStyleModel",
     "state": {
      "_model_module": "@jupyter-widgets/controls",
      "_model_module_version": "1.5.0",
      "_model_name": "DescriptionStyleModel",
      "_view_count": null,
      "_view_module": "@jupyter-widgets/base",
      "_view_module_version": "1.2.0",
      "_view_name": "StyleView",
      "description_width": ""
     }
    },
    "2cd3d0061196476ba55c267462c0531b": {
     "model_module": "@jupyter-widgets/controls",
     "model_module_version": "1.5.0",
     "model_name": "HTMLModel",
     "state": {
      "_dom_classes": [],
      "_model_module": "@jupyter-widgets/controls",
      "_model_module_version": "1.5.0",
      "_model_name": "HTMLModel",
      "_view_count": null,
      "_view_module": "@jupyter-widgets/controls",
      "_view_module_version": "1.5.0",
      "_view_name": "HTMLView",
      "description": "",
      "description_tooltip": null,
      "layout": "IPY_MODEL_bab6fbc4ec2d450c8a51df9ae1a55917",
      "placeholder": "​",
      "style": "IPY_MODEL_cd72f8915c274f1ba42b1c42ebd5fc4b",
      "value": "vocab.txt: 100%"
     }
    },
    "308e53e7a11846b8942b0bf740f4e511": {
     "model_module": "@jupyter-widgets/base",
     "model_module_version": "1.2.0",
     "model_name": "LayoutModel",
     "state": {
      "_model_module": "@jupyter-widgets/base",
      "_model_module_version": "1.2.0",
      "_model_name": "LayoutModel",
      "_view_count": null,
      "_view_module": "@jupyter-widgets/base",
      "_view_module_version": "1.2.0",
      "_view_name": "LayoutView",
      "align_content": null,
      "align_items": null,
      "align_self": null,
      "border": null,
      "bottom": null,
      "display": null,
      "flex": null,
      "flex_flow": null,
      "grid_area": null,
      "grid_auto_columns": null,
      "grid_auto_flow": null,
      "grid_auto_rows": null,
      "grid_column": null,
      "grid_gap": null,
      "grid_row": null,
      "grid_template_areas": null,
      "grid_template_columns": null,
      "grid_template_rows": null,
      "height": null,
      "justify_content": null,
      "justify_items": null,
      "left": null,
      "margin": null,
      "max_height": null,
      "max_width": null,
      "min_height": null,
      "min_width": null,
      "object_fit": null,
      "object_position": null,
      "order": null,
      "overflow": null,
      "overflow_x": null,
      "overflow_y": null,
      "padding": null,
      "right": null,
      "top": null,
      "visibility": null,
      "width": null
     }
    },
    "3186e46bfd0b4a8b865ba8ec689a3195": {
     "model_module": "@jupyter-widgets/controls",
     "model_module_version": "1.5.0",
     "model_name": "HTMLModel",
     "state": {
      "_dom_classes": [],
      "_model_module": "@jupyter-widgets/controls",
      "_model_module_version": "1.5.0",
      "_model_name": "HTMLModel",
      "_view_count": null,
      "_view_module": "@jupyter-widgets/controls",
      "_view_module_version": "1.5.0",
      "_view_name": "HTMLView",
      "description": "",
      "description_tooltip": null,
      "layout": "IPY_MODEL_dfaee20ca382415ab6d80ff6631d356b",
      "placeholder": "​",
      "style": "IPY_MODEL_aa4a552c11ec4e988a5c56fc1d8104d8",
      "value": " 232k/232k [00:00&lt;00:00, 2.91MB/s]"
     }
    },
    "3867b6f6cc83444b920ecac4c297b851": {
     "model_module": "@jupyter-widgets/base",
     "model_module_version": "1.2.0",
     "model_name": "LayoutModel",
     "state": {
      "_model_module": "@jupyter-widgets/base",
      "_model_module_version": "1.2.0",
      "_model_name": "LayoutModel",
      "_view_count": null,
      "_view_module": "@jupyter-widgets/base",
      "_view_module_version": "1.2.0",
      "_view_name": "LayoutView",
      "align_content": null,
      "align_items": null,
      "align_self": null,
      "border": null,
      "bottom": null,
      "display": null,
      "flex": null,
      "flex_flow": null,
      "grid_area": null,
      "grid_auto_columns": null,
      "grid_auto_flow": null,
      "grid_auto_rows": null,
      "grid_column": null,
      "grid_gap": null,
      "grid_row": null,
      "grid_template_areas": null,
      "grid_template_columns": null,
      "grid_template_rows": null,
      "height": null,
      "justify_content": null,
      "justify_items": null,
      "left": null,
      "margin": null,
      "max_height": null,
      "max_width": null,
      "min_height": null,
      "min_width": null,
      "object_fit": null,
      "object_position": null,
      "order": null,
      "overflow": null,
      "overflow_x": null,
      "overflow_y": null,
      "padding": null,
      "right": null,
      "top": null,
      "visibility": null,
      "width": null
     }
    },
    "4486083f5952466b85ac40feae4bab54": {
     "model_module": "@jupyter-widgets/controls",
     "model_module_version": "1.5.0",
     "model_name": "ProgressStyleModel",
     "state": {
      "_model_module": "@jupyter-widgets/controls",
      "_model_module_version": "1.5.0",
      "_model_name": "ProgressStyleModel",
      "_view_count": null,
      "_view_module": "@jupyter-widgets/base",
      "_view_module_version": "1.2.0",
      "_view_name": "StyleView",
      "bar_color": null,
      "description_width": ""
     }
    },
    "47915072b67742cf8b5e4147522752f5": {
     "model_module": "@jupyter-widgets/controls",
     "model_module_version": "1.5.0",
     "model_name": "HBoxModel",
     "state": {
      "_dom_classes": [],
      "_model_module": "@jupyter-widgets/controls",
      "_model_module_version": "1.5.0",
      "_model_name": "HBoxModel",
      "_view_count": null,
      "_view_module": "@jupyter-widgets/controls",
      "_view_module_version": "1.5.0",
      "_view_name": "HBoxView",
      "box_style": "",
      "children": [
       "IPY_MODEL_4c8e05cb543941cd8f5bd839f7fa352f",
       "IPY_MODEL_d82bff6f95574717b2422d1fd7693b1d",
       "IPY_MODEL_b948ba611df04f4cbc980931d0091b57"
      ],
      "layout": "IPY_MODEL_f0d5d8d6639846179bd28c08fd53724c"
     }
    },
    "4b555d62b5754182b3101914bd8bebc0": {
     "model_module": "@jupyter-widgets/base",
     "model_module_version": "1.2.0",
     "model_name": "LayoutModel",
     "state": {
      "_model_module": "@jupyter-widgets/base",
      "_model_module_version": "1.2.0",
      "_model_name": "LayoutModel",
      "_view_count": null,
      "_view_module": "@jupyter-widgets/base",
      "_view_module_version": "1.2.0",
      "_view_name": "LayoutView",
      "align_content": null,
      "align_items": null,
      "align_self": null,
      "border": null,
      "bottom": null,
      "display": null,
      "flex": null,
      "flex_flow": null,
      "grid_area": null,
      "grid_auto_columns": null,
      "grid_auto_flow": null,
      "grid_auto_rows": null,
      "grid_column": null,
      "grid_gap": null,
      "grid_row": null,
      "grid_template_areas": null,
      "grid_template_columns": null,
      "grid_template_rows": null,
      "height": null,
      "justify_content": null,
      "justify_items": null,
      "left": null,
      "margin": null,
      "max_height": null,
      "max_width": null,
      "min_height": null,
      "min_width": null,
      "object_fit": null,
      "object_position": null,
      "order": null,
      "overflow": null,
      "overflow_x": null,
      "overflow_y": null,
      "padding": null,
      "right": null,
      "top": null,
      "visibility": null,
      "width": null
     }
    },
    "4c8e05cb543941cd8f5bd839f7fa352f": {
     "model_module": "@jupyter-widgets/controls",
     "model_module_version": "1.5.0",
     "model_name": "HTMLModel",
     "state": {
      "_dom_classes": [],
      "_model_module": "@jupyter-widgets/controls",
      "_model_module_version": "1.5.0",
      "_model_name": "HTMLModel",
      "_view_count": null,
      "_view_module": "@jupyter-widgets/controls",
      "_view_module_version": "1.5.0",
      "_view_name": "HTMLView",
      "description": "",
      "description_tooltip": null,
      "layout": "IPY_MODEL_0421b1294a05480a90d2edd526fcb56a",
      "placeholder": "​",
      "style": "IPY_MODEL_29eacb7a70a9413e9b537f0b2ccabd4c",
      "value": "special_tokens_map.json: 100%"
     }
    },
    "508707f361554a5aaafa7134f984d446": {
     "model_module": "@jupyter-widgets/base",
     "model_module_version": "1.2.0",
     "model_name": "LayoutModel",
     "state": {
      "_model_module": "@jupyter-widgets/base",
      "_model_module_version": "1.2.0",
      "_model_name": "LayoutModel",
      "_view_count": null,
      "_view_module": "@jupyter-widgets/base",
      "_view_module_version": "1.2.0",
      "_view_name": "LayoutView",
      "align_content": null,
      "align_items": null,
      "align_self": null,
      "border": null,
      "bottom": null,
      "display": null,
      "flex": null,
      "flex_flow": null,
      "grid_area": null,
      "grid_auto_columns": null,
      "grid_auto_flow": null,
      "grid_auto_rows": null,
      "grid_column": null,
      "grid_gap": null,
      "grid_row": null,
      "grid_template_areas": null,
      "grid_template_columns": null,
      "grid_template_rows": null,
      "height": null,
      "justify_content": null,
      "justify_items": null,
      "left": null,
      "margin": null,
      "max_height": null,
      "max_width": null,
      "min_height": null,
      "min_width": null,
      "object_fit": null,
      "object_position": null,
      "order": null,
      "overflow": null,
      "overflow_x": null,
      "overflow_y": null,
      "padding": null,
      "right": null,
      "top": null,
      "visibility": null,
      "width": null
     }
    },
    "5131006484b74750a7d8d6a6e4d62c8d": {
     "model_module": "@jupyter-widgets/controls",
     "model_module_version": "1.5.0",
     "model_name": "FloatProgressModel",
     "state": {
      "_dom_classes": [],
      "_model_module": "@jupyter-widgets/controls",
      "_model_module_version": "1.5.0",
      "_model_name": "FloatProgressModel",
      "_view_count": null,
      "_view_module": "@jupyter-widgets/controls",
      "_view_module_version": "1.5.0",
      "_view_name": "ProgressView",
      "bar_style": "success",
      "description": "",
      "description_tooltip": null,
      "layout": "IPY_MODEL_8fb42320dc2145298a0b67126174a9aa",
      "max": 711827,
      "min": 0,
      "orientation": "horizontal",
      "style": "IPY_MODEL_193567e7e5864f87a173aa4e7feebbc1",
      "value": 711827
     }
    },
    "51ca3ca31c224dafb7ee4d202634fc04": {
     "model_module": "@jupyter-widgets/controls",
     "model_module_version": "1.5.0",
     "model_name": "DescriptionStyleModel",
     "state": {
      "_model_module": "@jupyter-widgets/controls",
      "_model_module_version": "1.5.0",
      "_model_name": "DescriptionStyleModel",
      "_view_count": null,
      "_view_module": "@jupyter-widgets/base",
      "_view_module_version": "1.2.0",
      "_view_name": "StyleView",
      "description_width": ""
     }
    },
    "57c784e933cb49f3ba8461401264c239": {
     "model_module": "@jupyter-widgets/controls",
     "model_module_version": "1.5.0",
     "model_name": "HTMLModel",
     "state": {
      "_dom_classes": [],
      "_model_module": "@jupyter-widgets/controls",
      "_model_module_version": "1.5.0",
      "_model_name": "HTMLModel",
      "_view_count": null,
      "_view_module": "@jupyter-widgets/controls",
      "_view_module_version": "1.5.0",
      "_view_name": "HTMLView",
      "description": "",
      "description_tooltip": null,
      "layout": "IPY_MODEL_508707f361554a5aaafa7134f984d446",
      "placeholder": "​",
      "style": "IPY_MODEL_51ca3ca31c224dafb7ee4d202634fc04",
      "value": " 712k/712k [00:00&lt;00:00, 4.95MB/s]"
     }
    },
    "65348ce802e642c4a0dff6cab15a1ebb": {
     "model_module": "@jupyter-widgets/controls",
     "model_module_version": "1.5.0",
     "model_name": "HBoxModel",
     "state": {
      "_dom_classes": [],
      "_model_module": "@jupyter-widgets/controls",
      "_model_module_version": "1.5.0",
      "_model_name": "HBoxModel",
      "_view_count": null,
      "_view_module": "@jupyter-widgets/controls",
      "_view_module_version": "1.5.0",
      "_view_name": "HBoxView",
      "box_style": "",
      "children": [
       "IPY_MODEL_d2d26659b75d41c09df9ea568a5ed1f4",
       "IPY_MODEL_5131006484b74750a7d8d6a6e4d62c8d",
       "IPY_MODEL_57c784e933cb49f3ba8461401264c239"
      ],
      "layout": "IPY_MODEL_4b555d62b5754182b3101914bd8bebc0"
     }
    },
    "65c838ad8fd74a508a6b0b7f1380f7db": {
     "model_module": "@jupyter-widgets/base",
     "model_module_version": "1.2.0",
     "model_name": "LayoutModel",
     "state": {
      "_model_module": "@jupyter-widgets/base",
      "_model_module_version": "1.2.0",
      "_model_name": "LayoutModel",
      "_view_count": null,
      "_view_module": "@jupyter-widgets/base",
      "_view_module_version": "1.2.0",
      "_view_name": "LayoutView",
      "align_content": null,
      "align_items": null,
      "align_self": null,
      "border": null,
      "bottom": null,
      "display": null,
      "flex": null,
      "flex_flow": null,
      "grid_area": null,
      "grid_auto_columns": null,
      "grid_auto_flow": null,
      "grid_auto_rows": null,
      "grid_column": null,
      "grid_gap": null,
      "grid_row": null,
      "grid_template_areas": null,
      "grid_template_columns": null,
      "grid_template_rows": null,
      "height": null,
      "justify_content": null,
      "justify_items": null,
      "left": null,
      "margin": null,
      "max_height": null,
      "max_width": null,
      "min_height": null,
      "min_width": null,
      "object_fit": null,
      "object_position": null,
      "order": null,
      "overflow": null,
      "overflow_x": null,
      "overflow_y": null,
      "padding": null,
      "right": null,
      "top": null,
      "visibility": null,
      "width": null
     }
    },
    "75f40aede151438887e4005769e3e2bd": {
     "model_module": "@jupyter-widgets/controls",
     "model_module_version": "1.5.0",
     "model_name": "FloatProgressModel",
     "state": {
      "_dom_classes": [],
      "_model_module": "@jupyter-widgets/controls",
      "_model_module_version": "1.5.0",
      "_model_name": "FloatProgressModel",
      "_view_count": null,
      "_view_module": "@jupyter-widgets/controls",
      "_view_module_version": "1.5.0",
      "_view_name": "ProgressView",
      "bar_style": "success",
      "description": "",
      "description_tooltip": null,
      "layout": "IPY_MODEL_103b308bd840417c9b2d968792b963a0",
      "max": 1243,
      "min": 0,
      "orientation": "horizontal",
      "style": "IPY_MODEL_8cb945dee1fc445991cf79102f82d9eb",
      "value": 1243
     }
    },
    "8cb945dee1fc445991cf79102f82d9eb": {
     "model_module": "@jupyter-widgets/controls",
     "model_module_version": "1.5.0",
     "model_name": "ProgressStyleModel",
     "state": {
      "_model_module": "@jupyter-widgets/controls",
      "_model_module_version": "1.5.0",
      "_model_name": "ProgressStyleModel",
      "_view_count": null,
      "_view_module": "@jupyter-widgets/base",
      "_view_module_version": "1.2.0",
      "_view_name": "StyleView",
      "bar_color": null,
      "description_width": ""
     }
    },
    "8fb42320dc2145298a0b67126174a9aa": {
     "model_module": "@jupyter-widgets/base",
     "model_module_version": "1.2.0",
     "model_name": "LayoutModel",
     "state": {
      "_model_module": "@jupyter-widgets/base",
      "_model_module_version": "1.2.0",
      "_model_name": "LayoutModel",
      "_view_count": null,
      "_view_module": "@jupyter-widgets/base",
      "_view_module_version": "1.2.0",
      "_view_name": "LayoutView",
      "align_content": null,
      "align_items": null,
      "align_self": null,
      "border": null,
      "bottom": null,
      "display": null,
      "flex": null,
      "flex_flow": null,
      "grid_area": null,
      "grid_auto_columns": null,
      "grid_auto_flow": null,
      "grid_auto_rows": null,
      "grid_column": null,
      "grid_gap": null,
      "grid_row": null,
      "grid_template_areas": null,
      "grid_template_columns": null,
      "grid_template_rows": null,
      "height": null,
      "justify_content": null,
      "justify_items": null,
      "left": null,
      "margin": null,
      "max_height": null,
      "max_width": null,
      "min_height": null,
      "min_width": null,
      "object_fit": null,
      "object_position": null,
      "order": null,
      "overflow": null,
      "overflow_x": null,
      "overflow_y": null,
      "padding": null,
      "right": null,
      "top": null,
      "visibility": null,
      "width": null
     }
    },
    "933398978ac24fc781d92d261752dbf3": {
     "model_module": "@jupyter-widgets/base",
     "model_module_version": "1.2.0",
     "model_name": "LayoutModel",
     "state": {
      "_model_module": "@jupyter-widgets/base",
      "_model_module_version": "1.2.0",
      "_model_name": "LayoutModel",
      "_view_count": null,
      "_view_module": "@jupyter-widgets/base",
      "_view_module_version": "1.2.0",
      "_view_name": "LayoutView",
      "align_content": null,
      "align_items": null,
      "align_self": null,
      "border": null,
      "bottom": null,
      "display": null,
      "flex": null,
      "flex_flow": null,
      "grid_area": null,
      "grid_auto_columns": null,
      "grid_auto_flow": null,
      "grid_auto_rows": null,
      "grid_column": null,
      "grid_gap": null,
      "grid_row": null,
      "grid_template_areas": null,
      "grid_template_columns": null,
      "grid_template_rows": null,
      "height": null,
      "justify_content": null,
      "justify_items": null,
      "left": null,
      "margin": null,
      "max_height": null,
      "max_width": null,
      "min_height": null,
      "min_width": null,
      "object_fit": null,
      "object_position": null,
      "order": null,
      "overflow": null,
      "overflow_x": null,
      "overflow_y": null,
      "padding": null,
      "right": null,
      "top": null,
      "visibility": null,
      "width": null
     }
    },
    "9751abbbf541434fbb94b0c8481d6417": {
     "model_module": "@jupyter-widgets/controls",
     "model_module_version": "1.5.0",
     "model_name": "DescriptionStyleModel",
     "state": {
      "_model_module": "@jupyter-widgets/controls",
      "_model_module_version": "1.5.0",
      "_model_name": "DescriptionStyleModel",
      "_view_count": null,
      "_view_module": "@jupyter-widgets/base",
      "_view_module_version": "1.2.0",
      "_view_name": "StyleView",
      "description_width": ""
     }
    },
    "a6fe21d98eed4c57aa37124407e1f975": {
     "model_module": "@jupyter-widgets/controls",
     "model_module_version": "1.5.0",
     "model_name": "HBoxModel",
     "state": {
      "_dom_classes": [],
      "_model_module": "@jupyter-widgets/controls",
      "_model_module_version": "1.5.0",
      "_model_name": "HBoxModel",
      "_view_count": null,
      "_view_module": "@jupyter-widgets/controls",
      "_view_module_version": "1.5.0",
      "_view_name": "HBoxView",
      "box_style": "",
      "children": [
       "IPY_MODEL_27d767d54bf443ae91797ffa45aa223d",
       "IPY_MODEL_75f40aede151438887e4005769e3e2bd",
       "IPY_MODEL_041a08180a804cc28a2e8ff6abf25cc0"
      ],
      "layout": "IPY_MODEL_3867b6f6cc83444b920ecac4c297b851"
     }
    },
    "a81817d9580f4e7bad122f240539f4a5": {
     "model_module": "@jupyter-widgets/base",
     "model_module_version": "1.2.0",
     "model_name": "LayoutModel",
     "state": {
      "_model_module": "@jupyter-widgets/base",
      "_model_module_version": "1.2.0",
      "_model_name": "LayoutModel",
      "_view_count": null,
      "_view_module": "@jupyter-widgets/base",
      "_view_module_version": "1.2.0",
      "_view_name": "LayoutView",
      "align_content": null,
      "align_items": null,
      "align_self": null,
      "border": null,
      "bottom": null,
      "display": null,
      "flex": null,
      "flex_flow": null,
      "grid_area": null,
      "grid_auto_columns": null,
      "grid_auto_flow": null,
      "grid_auto_rows": null,
      "grid_column": null,
      "grid_gap": null,
      "grid_row": null,
      "grid_template_areas": null,
      "grid_template_columns": null,
      "grid_template_rows": null,
      "height": null,
      "justify_content": null,
      "justify_items": null,
      "left": null,
      "margin": null,
      "max_height": null,
      "max_width": null,
      "min_height": null,
      "min_width": null,
      "object_fit": null,
      "object_position": null,
      "order": null,
      "overflow": null,
      "overflow_x": null,
      "overflow_y": null,
      "padding": null,
      "right": null,
      "top": null,
      "visibility": null,
      "width": null
     }
    },
    "a9f07d92ef324eaa90278ae43e1b46a8": {
     "model_module": "@jupyter-widgets/base",
     "model_module_version": "1.2.0",
     "model_name": "LayoutModel",
     "state": {
      "_model_module": "@jupyter-widgets/base",
      "_model_module_version": "1.2.0",
      "_model_name": "LayoutModel",
      "_view_count": null,
      "_view_module": "@jupyter-widgets/base",
      "_view_module_version": "1.2.0",
      "_view_name": "LayoutView",
      "align_content": null,
      "align_items": null,
      "align_self": null,
      "border": null,
      "bottom": null,
      "display": null,
      "flex": null,
      "flex_flow": null,
      "grid_area": null,
      "grid_auto_columns": null,
      "grid_auto_flow": null,
      "grid_auto_rows": null,
      "grid_column": null,
      "grid_gap": null,
      "grid_row": null,
      "grid_template_areas": null,
      "grid_template_columns": null,
      "grid_template_rows": null,
      "height": null,
      "justify_content": null,
      "justify_items": null,
      "left": null,
      "margin": null,
      "max_height": null,
      "max_width": null,
      "min_height": null,
      "min_width": null,
      "object_fit": null,
      "object_position": null,
      "order": null,
      "overflow": null,
      "overflow_x": null,
      "overflow_y": null,
      "padding": null,
      "right": null,
      "top": null,
      "visibility": null,
      "width": null
     }
    },
    "aa4a552c11ec4e988a5c56fc1d8104d8": {
     "model_module": "@jupyter-widgets/controls",
     "model_module_version": "1.5.0",
     "model_name": "DescriptionStyleModel",
     "state": {
      "_model_module": "@jupyter-widgets/controls",
      "_model_module_version": "1.5.0",
      "_model_name": "DescriptionStyleModel",
      "_view_count": null,
      "_view_module": "@jupyter-widgets/base",
      "_view_module_version": "1.2.0",
      "_view_name": "StyleView",
      "description_width": ""
     }
    },
    "b948ba611df04f4cbc980931d0091b57": {
     "model_module": "@jupyter-widgets/controls",
     "model_module_version": "1.5.0",
     "model_name": "HTMLModel",
     "state": {
      "_dom_classes": [],
      "_model_module": "@jupyter-widgets/controls",
      "_model_module_version": "1.5.0",
      "_model_name": "HTMLModel",
      "_view_count": null,
      "_view_module": "@jupyter-widgets/controls",
      "_view_module_version": "1.5.0",
      "_view_name": "HTMLView",
      "description": "",
      "description_tooltip": null,
      "layout": "IPY_MODEL_933398978ac24fc781d92d261752dbf3",
      "placeholder": "​",
      "style": "IPY_MODEL_1e8abe7b99bb435fb5513e48d39debf3",
      "value": " 695/695 [00:00&lt;00:00, 32.2kB/s]"
     }
    },
    "bab6fbc4ec2d450c8a51df9ae1a55917": {
     "model_module": "@jupyter-widgets/base",
     "model_module_version": "1.2.0",
     "model_name": "LayoutModel",
     "state": {
      "_model_module": "@jupyter-widgets/base",
      "_model_module_version": "1.2.0",
      "_model_name": "LayoutModel",
      "_view_count": null,
      "_view_module": "@jupyter-widgets/base",
      "_view_module_version": "1.2.0",
      "_view_name": "LayoutView",
      "align_content": null,
      "align_items": null,
      "align_self": null,
      "border": null,
      "bottom": null,
      "display": null,
      "flex": null,
      "flex_flow": null,
      "grid_area": null,
      "grid_auto_columns": null,
      "grid_auto_flow": null,
      "grid_auto_rows": null,
      "grid_column": null,
      "grid_gap": null,
      "grid_row": null,
      "grid_template_areas": null,
      "grid_template_columns": null,
      "grid_template_rows": null,
      "height": null,
      "justify_content": null,
      "justify_items": null,
      "left": null,
      "margin": null,
      "max_height": null,
      "max_width": null,
      "min_height": null,
      "min_width": null,
      "object_fit": null,
      "object_position": null,
      "order": null,
      "overflow": null,
      "overflow_x": null,
      "overflow_y": null,
      "padding": null,
      "right": null,
      "top": null,
      "visibility": null,
      "width": null
     }
    },
    "cd72f8915c274f1ba42b1c42ebd5fc4b": {
     "model_module": "@jupyter-widgets/controls",
     "model_module_version": "1.5.0",
     "model_name": "DescriptionStyleModel",
     "state": {
      "_model_module": "@jupyter-widgets/controls",
      "_model_module_version": "1.5.0",
      "_model_name": "DescriptionStyleModel",
      "_view_count": null,
      "_view_module": "@jupyter-widgets/base",
      "_view_module_version": "1.2.0",
      "_view_name": "StyleView",
      "description_width": ""
     }
    },
    "d2d26659b75d41c09df9ea568a5ed1f4": {
     "model_module": "@jupyter-widgets/controls",
     "model_module_version": "1.5.0",
     "model_name": "HTMLModel",
     "state": {
      "_dom_classes": [],
      "_model_module": "@jupyter-widgets/controls",
      "_model_module_version": "1.5.0",
      "_model_name": "HTMLModel",
      "_view_count": null,
      "_view_module": "@jupyter-widgets/controls",
      "_view_module_version": "1.5.0",
      "_view_name": "HTMLView",
      "description": "",
      "description_tooltip": null,
      "layout": "IPY_MODEL_65c838ad8fd74a508a6b0b7f1380f7db",
      "placeholder": "​",
      "style": "IPY_MODEL_9751abbbf541434fbb94b0c8481d6417",
      "value": "tokenizer.json: 100%"
     }
    },
    "d82bff6f95574717b2422d1fd7693b1d": {
     "model_module": "@jupyter-widgets/controls",
     "model_module_version": "1.5.0",
     "model_name": "FloatProgressModel",
     "state": {
      "_dom_classes": [],
      "_model_module": "@jupyter-widgets/controls",
      "_model_module_version": "1.5.0",
      "_model_name": "FloatProgressModel",
      "_view_count": null,
      "_view_module": "@jupyter-widgets/controls",
      "_view_module_version": "1.5.0",
      "_view_name": "ProgressView",
      "bar_style": "success",
      "description": "",
      "description_tooltip": null,
      "layout": "IPY_MODEL_308e53e7a11846b8942b0bf740f4e511",
      "max": 695,
      "min": 0,
      "orientation": "horizontal",
      "style": "IPY_MODEL_4486083f5952466b85ac40feae4bab54",
      "value": 695
     }
    },
    "dfaee20ca382415ab6d80ff6631d356b": {
     "model_module": "@jupyter-widgets/base",
     "model_module_version": "1.2.0",
     "model_name": "LayoutModel",
     "state": {
      "_model_module": "@jupyter-widgets/base",
      "_model_module_version": "1.2.0",
      "_model_name": "LayoutModel",
      "_view_count": null,
      "_view_module": "@jupyter-widgets/base",
      "_view_module_version": "1.2.0",
      "_view_name": "LayoutView",
      "align_content": null,
      "align_items": null,
      "align_self": null,
      "border": null,
      "bottom": null,
      "display": null,
      "flex": null,
      "flex_flow": null,
      "grid_area": null,
      "grid_auto_columns": null,
      "grid_auto_flow": null,
      "grid_auto_rows": null,
      "grid_column": null,
      "grid_gap": null,
      "grid_row": null,
      "grid_template_areas": null,
      "grid_template_columns": null,
      "grid_template_rows": null,
      "height": null,
      "justify_content": null,
      "justify_items": null,
      "left": null,
      "margin": null,
      "max_height": null,
      "max_width": null,
      "min_height": null,
      "min_width": null,
      "object_fit": null,
      "object_position": null,
      "order": null,
      "overflow": null,
      "overflow_x": null,
      "overflow_y": null,
      "padding": null,
      "right": null,
      "top": null,
      "visibility": null,
      "width": null
     }
    },
    "e0a86753267442549b208dba961881b8": {
     "model_module": "@jupyter-widgets/base",
     "model_module_version": "1.2.0",
     "model_name": "LayoutModel",
     "state": {
      "_model_module": "@jupyter-widgets/base",
      "_model_module_version": "1.2.0",
      "_model_name": "LayoutModel",
      "_view_count": null,
      "_view_module": "@jupyter-widgets/base",
      "_view_module_version": "1.2.0",
      "_view_name": "LayoutView",
      "align_content": null,
      "align_items": null,
      "align_self": null,
      "border": null,
      "bottom": null,
      "display": null,
      "flex": null,
      "flex_flow": null,
      "grid_area": null,
      "grid_auto_columns": null,
      "grid_auto_flow": null,
      "grid_auto_rows": null,
      "grid_column": null,
      "grid_gap": null,
      "grid_row": null,
      "grid_template_areas": null,
      "grid_template_columns": null,
      "grid_template_rows": null,
      "height": null,
      "justify_content": null,
      "justify_items": null,
      "left": null,
      "margin": null,
      "max_height": null,
      "max_width": null,
      "min_height": null,
      "min_width": null,
      "object_fit": null,
      "object_position": null,
      "order": null,
      "overflow": null,
      "overflow_x": null,
      "overflow_y": null,
      "padding": null,
      "right": null,
      "top": null,
      "visibility": null,
      "width": null
     }
    },
    "ee03f61876694d56a1f1a96af01ff3da": {
     "model_module": "@jupyter-widgets/controls",
     "model_module_version": "1.5.0",
     "model_name": "DescriptionStyleModel",
     "state": {
      "_model_module": "@jupyter-widgets/controls",
      "_model_module_version": "1.5.0",
      "_model_name": "DescriptionStyleModel",
      "_view_count": null,
      "_view_module": "@jupyter-widgets/base",
      "_view_module_version": "1.2.0",
      "_view_name": "StyleView",
      "description_width": ""
     }
    },
    "f0d5d8d6639846179bd28c08fd53724c": {
     "model_module": "@jupyter-widgets/base",
     "model_module_version": "1.2.0",
     "model_name": "LayoutModel",
     "state": {
      "_model_module": "@jupyter-widgets/base",
      "_model_module_version": "1.2.0",
      "_model_name": "LayoutModel",
      "_view_count": null,
      "_view_module": "@jupyter-widgets/base",
      "_view_module_version": "1.2.0",
      "_view_name": "LayoutView",
      "align_content": null,
      "align_items": null,
      "align_self": null,
      "border": null,
      "bottom": null,
      "display": null,
      "flex": null,
      "flex_flow": null,
      "grid_area": null,
      "grid_auto_columns": null,
      "grid_auto_flow": null,
      "grid_auto_rows": null,
      "grid_column": null,
      "grid_gap": null,
      "grid_row": null,
      "grid_template_areas": null,
      "grid_template_columns": null,
      "grid_template_rows": null,
      "height": null,
      "justify_content": null,
      "justify_items": null,
      "left": null,
      "margin": null,
      "max_height": null,
      "max_width": null,
      "min_height": null,
      "min_width": null,
      "object_fit": null,
      "object_position": null,
      "order": null,
      "overflow": null,
      "overflow_x": null,
      "overflow_y": null,
      "padding": null,
      "right": null,
      "top": null,
      "visibility": null,
      "width": null
     }
    }
   }
  }
 },
 "nbformat": 4,
 "nbformat_minor": 0
}