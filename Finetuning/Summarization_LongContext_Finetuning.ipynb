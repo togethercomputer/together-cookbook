{
 "cells": [
  {
   "cell_type": "markdown",
   "metadata": {
    "id": "0x-eWpGI7eDB"
   },
   "source": [
    "# Long Context Fine-tuning for Summarization\n",
    "\n",
    "[![Open In Colab](https://colab.research.google.com/assets/colab-badge.svg)](https://colab.research.google.com/github/togethercomputer/together-cookbook/blob/main/Summarization_LongContext_Finetuning.ipynb)"
   ]
  },
  {
   "cell_type": "markdown",
   "metadata": {
    "id": "_Y7WTebZ7eDC"
   },
   "source": [
    "## Introduction\n",
    "\n",
    "*This cookbook is part of a technical deep dive blogpost on long context finetuning you can read [here](https://www.together.ai/blog/long-context-fine-tuning-a-technical-deep-dive).*\n",
    "\n",
    "An important use-case for LLMs is summarization, where we can pass in large source documents into the context window of the LLM and prompt it to generate comprehensive summaries.\n",
    "\n",
    "For most LLMs this works quite well for source documents below cumulative size of 32,000 tokens, however depending on the LLM and how much long context post-training it has had summarization performance of longer documents can perform quite poorly.\n",
    "\n",
    "In this notebook we will:\n",
    "1. Discuss a dataset to improve long context summarization.\n",
    "2. Evaluate how well an LLM summarizes long documents.\n",
    "3. Fine-tune the LLM to improve summarization capabilities.\n",
    "4. Compare un-tuned vs. fine-tuned models for summarization.\n",
    "\n",
    "<img src=\"../images/summary_task.png\" height=\"500\">"
   ]
  },
  {
   "cell_type": "markdown",
   "metadata": {
    "id": "Jsu14fLz7eDD"
   },
   "source": [
    "## Install Libraries"
   ]
  },
  {
   "cell_type": "code",
   "execution_count": 2,
   "metadata": {},
   "outputs": [],
   "source": [
    "!pip install -q together==1.3.4 rouge_score==0.1.2 evaluate orjson seaborn matplotlib numpy tqdm"
   ]
  },
  {
   "cell_type": "code",
   "execution_count": 4,
   "metadata": {},
   "outputs": [],
   "source": [
    "from pathlib import Path\n",
    "from tqdm.auto import tqdm\n",
    "from together import Together\n",
    "\n",
    "import orjson\n",
    "import numpy as np\n",
    "import os\n",
    "import pandas as pd\n",
    "\n",
    "from evaluate import load\n",
    "\n",
    "TOGETHER_API_KEY = os.getenv(\"TOGETHER_API_KEY\")\n",
    "#WANDB_API_KEY = os.getenv(\"WANDB_API_KEY\")\n",
    "\n",
    "client = Together(api_key = TOGETHER_API_KEY)\n",
    "\n",
    "def llm_call(query, model=\"meta-llama/Meta-Llama-3.1-70B-Instruct-Turbo\"):\n",
    "    response = client.chat.completions.create(\n",
    "        model=model,\n",
    "        messages=[\n",
    "          {\"role\": \"system\", \"content\": \"You are a helpful chatbot.\"},\n",
    "          {\"role\": \"user\", \"content\": query},\n",
    "        ],\n",
    "        temperature=1.0,\n",
    "        seed=42,\n",
    "        max_tokens=1200,\n",
    "    )\n",
    "    result = response.choices[0].message.content\n",
    "    return result"
   ]
  },
  {
   "cell_type": "markdown",
   "metadata": {
    "id": "36BaPYUj7eDE"
   },
   "source": [
    "## Dataset for Summarization Finetuning\n",
    "\n",
    "We fine-tuned a Llama 3.1 8B baseline model on multiple datasets:\n",
    "- Synthetic dataset: generated using Llama 3.1 405B\n",
    "- [GovReport](https://gov-report-data.github.io/): Consists of reports + summaries written by government research agencies\n",
    "\n",
    "The goal of these datasets was to train the model to generate coherent and comprehensive summaries of long documents ranging from `32,000` to `128,000` tokens."
   ]
  },
  {
   "cell_type": "markdown",
   "metadata": {
    "id": "3zCTfQwV7eDE"
   },
   "source": [
    "## Finetune Llama 3.1 8B for Summarization"
   ]
  },
  {
   "cell_type": "code",
   "execution_count": null,
   "metadata": {
    "id": "0TMdMZWM7eDE"
   },
   "outputs": [],
   "source": [
    "# We used the function to launch fine-tuning jobs on the Together platform\n",
    "\n",
    "def send_ft_job(client,\n",
    "                model=\"meta-llama/Meta-Llama-3.1-8B-32k-Instruct-Reference\",\n",
    "                n_epochs=4,\n",
    "                run_name='1113-summarization-long-context-finetune',\n",
    "                train_on_inputs=False,\n",
    "                learning_rate=6e-5,\n",
    "                filename=None,\n",
    "                summarization_file_id=None):\n",
    "    \"\"\"\n",
    "    Sends a fine-tuning job to the client.\n",
    "    Parameters:\n",
    "        client (object): The client object to interact with the API.\n",
    "        model (str): The model to be fine-tuned. Default is \"meta-llama/Meta-Llama-3.1-8B-32k-Instruct-Reference\".\n",
    "        n_epochs (int): Number of epochs for fine-tuning. Default is 4.\n",
    "        run_name (str): The name for the run. Default is '1113-summarization-long-context-finetune'.\n",
    "        train_on_inputs (bool): Whether to train on inputs. Default is False.\n",
    "        learning_rate (float): The learning rate for fine-tuning. Default is 6e-5.\n",
    "        filename (str, optional): The filename to upload for fine-tuning. Default is None.\n",
    "        summarization_file_id (str, optional): The file ID for summarization. Must be provided if filename is None.\n",
    "    Returns:\n",
    "        str: The ID of the fine-tuning job.\n",
    "    Raises:\n",
    "        AssertionError: If neither filename nor summarization_file_id is provided.\n",
    "    \"\"\"\n",
    "    if filename:\n",
    "        response = client.files.upload(filename, check=True)\n",
    "        summarization_file_id = response.id\n",
    "    else:\n",
    "        assert summarization_file_id is not None, \"provide summarization_file_id\"\n",
    "\n",
    "    response = client.fine_tuning.create(\n",
    "        training_file = summarization_file_id,\n",
    "        model = model,\n",
    "        n_epochs = n_epochs,\n",
    "        n_checkpoints = 1,\n",
    "        batch_size = \"max\",\n",
    "        learning_rate = learning_rate,\n",
    "        warmup_ratio = 0.05,\n",
    "        suffix=run_name,\n",
    "        wandb_api_key = WANDB_API_KEY,\n",
    "        lora=True,\n",
    "        lora_r=32,\n",
    "        lora_alpha=64,\n",
    "        lora_dropout=0.05,\n",
    "        train_on_inputs=train_on_inputs,\n",
    "    )\n",
    "    summarization_fine_tuning_job_id = response.id\n",
    "    return summarization_fine_tuning_job_id"
   ]
  },
  {
   "cell_type": "code",
   "execution_count": null,
   "metadata": {
    "id": "XjqOBuLX7eDF"
   },
   "outputs": [],
   "source": [
    "# Example fine-tuning job on the synthetic summarization dataset\n",
    "\n",
    "summarization_fine_tuning_job_id = send_ft_job(\n",
    "    client,\n",
    "    model=\"meta-llama/Meta-Llama-3.1-8B-32k-Instruct-Reference\",\n",
    "    learning_rate=7e-5,\n",
    "    n_epochs=4,\n",
    "    filename=\"1112_summarization_train.jsonl\",\n",
    "    run_name=\"1112-summarization-synthetic-no-loss-masking\",\n",
    "    summarization_file_id=None,\n",
    "    train_on_inputs=True,\n",
    ")\n",
    "\n",
    "# Example fine-tuning job on GovReport dataset\n",
    "\n",
    "summarization_fine_tuning_job_id = send_ft_job(\n",
    "    client,\n",
    "    model=\"meta-llama/Meta-Llama-3.1-8B-32k-Instruct-Reference\",\n",
    "    n_epochs=2,\n",
    "    filename=\"1114_govreport.jsonl\",\n",
    "    run_name=\"1114-govreport-2ep\",\n",
    "    summarization_file_id=None,\n",
    "    train_on_inputs=False,\n",
    "    learning_rate=4e-5,\n",
    ")"
   ]
  },
  {
   "cell_type": "markdown",
   "metadata": {
    "id": "pMBxSeuZ7eDF"
   },
   "source": [
    "## Deploy Fine-tuned Models on a Dedicated Endpoint(DE)\n",
    "\n",
    "Before we can run the evaluations we need to deploy our finetuned model as a Dedicated Endpoint(DE). After fine-tuning completes, access your model through the Together AI dashboard. Go to Models, select your fine-tuned model, and select Deploy. Choose from the available hardware options - we'll use a single A100-80GB GPU for this example.\n",
    "\n",
    "<img src=\"../images/deploy_CFT.png\" height=\"650\">"
   ]
  },
  {
   "cell_type": "markdown",
   "metadata": {
    "id": "EsqM4ear7eDF"
   },
   "source": [
    "Once the models are deployed we can use the code below to generate predictions using the dedicated endpoints along with normal serverless inference for the baseline Llama 3.1 8B model."
   ]
  },
  {
   "cell_type": "code",
   "execution_count": null,
   "metadata": {
    "id": "1mVzGOP-7eDF"
   },
   "outputs": [],
   "source": [
    "def get_predictions(test_items, model):\n",
    "    predictions = []\n",
    "    for it in tqdm(test_items):\n",
    "        predictions.append(\n",
    "            llm_call(it['prompt'],\n",
    "                     model=model\n",
    "                    )\n",
    "        )\n",
    "    return predictions"
   ]
  },
  {
   "cell_type": "markdown",
   "metadata": {
    "id": "gS1sNOr77eDF"
   },
   "source": [
    "## Evaluate Summarization\n",
    "\n",
    "We will now compare and score the summarization capabilities of a baseline Llama 3.1 8B vs fine-tunes thereof."
   ]
  },
  {
   "cell_type": "markdown",
   "metadata": {
    "id": "9C8vv11u7eDF"
   },
   "source": [
    "We have provided pre-generated summaries from fine-tuned and baseline Llama 3.1 8B models to simplify comparision below:"
   ]
  },
  {
   "cell_type": "code",
   "execution_count": 5,
   "metadata": {
    "id": "yBp3TB3x7eDF"
   },
   "outputs": [],
   "source": [
    "predictions = orjson.loads(Path(\"datasets/predictions.json\").read_bytes())\n",
    "\n",
    "predictions_baseline_syn = predictions['predictions_baseline_syn']\n",
    "predictions_baseline_govreport = predictions['predictions_baseline_govreport']"
   ]
  },
  {
   "cell_type": "code",
   "execution_count": 6,
   "metadata": {
    "id": "CQpd9iiv7eDG"
   },
   "outputs": [],
   "source": [
    "predictions_ft = orjson.loads(Path(\"datasets/predictions_ft.json\").read_bytes())\n",
    "\n",
    "predictions_ft_syn = predictions_ft['predictions_ft_syn']\n",
    "predictions_ft_govreport = predictions_ft['predictions_ft_govreport']"
   ]
  },
  {
   "cell_type": "code",
   "execution_count": 7,
   "metadata": {},
   "outputs": [],
   "source": [
    "test_items = orjson.loads(Path(\"datasets/synth_summarization_test.json\").read_bytes())\n",
    "\n",
    "test_items_govreport = [orjson.loads(line) for line in Path(\"datasets/govreport_test.jsonl\").read_text().split(\"\\n\")]\n",
    "test_items_govreport = test_items_govreport[:100]"
   ]
  },
  {
   "cell_type": "code",
   "execution_count": 8,
   "metadata": {
    "id": "YRPYgV9x7eDG"
   },
   "outputs": [],
   "source": [
    "BASELINE_MODEL = \"meta-llama/Meta-Llama-3.1-8B-Instruct-Turbo\""
   ]
  },
  {
   "cell_type": "markdown",
   "metadata": {
    "id": "J9WA-Xe17eDG"
   },
   "source": [
    "We will use ROUGE scores to evaluate between the baseline and fine-tuned Llama 3.1 8B models.\n",
    "\n",
    "**ROUGE (Recall-Oriented Understudy for Gisting Evaluation)** is a set of metrics specifically designed to evaluate automatic summarization and machine translation systems by comparing generated text against reference summaries. Unlike BLEU, which focuses on precision, ROUGE emphasizes recall - measuring how much of the reference summary is captured in the generated text. The most commonly used variants are ROUGE-N (measuring n-gram overlap), ROUGE-L (looking at longest common subsequences), and ROUGE-S (considering skip-grams). For example, if a human-written reference summary contains key phrases that also appear in the machine-generated summary, ROUGE will assign higher scores. Scores range from 0 to 1, with 1 indicating perfect overlap. ROUGE has become an industry standard because it correlates well with human judgments, though like BLEU, it has limitations - it can't fully capture semantic meaning or summary coherence, and relies heavily on exact word matches. This is why practitioners often report multiple ROUGE variants alongside other metrics for a more complete evaluation."
   ]
  },
  {
   "cell_type": "code",
   "execution_count": null,
   "metadata": {
    "colab": {
     "base_uri": "https://localhost:8080/",
     "height": 113,
     "referenced_widgets": [
      "4a36ae38343e4069a9594b7903639ce3",
      "5c529de45a3f4b68ba9707c2eef6a281",
      "a91f784b638b40bfa2a6f381a4ed37cb",
      "b511ddcee19f49fb84d9f31c73adced1",
      "73c2ece324b74007b01613265ba3fd9d",
      "f1bf576faf684e11a3d5a519066366a6",
      "2448da9c76a74e14961cafa0f62a9767",
      "4a90ce0718cc4f8ba7ea95a42538a0e5",
      "aeb35b06e2c243cd8d020186564a14f8",
      "a2c34b4d40964aefbbb740c6238ffd33",
      "380b83efe9f64a9295626a0a66b421ae",
      "b47f018868264f0489d048be0ff073eb",
      "4d85d232158d4939b3b3a72dea7c2fcd",
      "35ac3e449986435cbb4864f18a1d363e",
      "3322b6bd9cad427c8693985d18b3bb35",
      "352d342144f141969b12ee0e31d74d14",
      "e582366a88e2445bb6888862563380c5",
      "07c8b2cc25f34f3f94104669036494c6",
      "2362664519b9415d92237a85ccf69d62",
      "75b858dda5234f3f8b184e8eba864cd2",
      "4c114940a70c4393b53e2465b71ab703",
      "8d8cc5b12af94851bab69f7353e19fa4",
      "5036ee4a59574ff7bf6a0d39ac4dc9b6",
      "03687a6cd7064124b83ee3e9ecec997d",
      "e90f6ca90f504fce8373fef4e0a30983",
      "94cbe82d40e34ca29a53e3c4ce5fc950",
      "f88ff86040c9438e9df8a50e190120bd",
      "38906354ac914e3f96d8299576418587",
      "70494fe5181a47f7ab693bef48cd0f5d",
      "5da475c2eaa34783ba78ad5d6dc79dae",
      "3f79c39f611c4f89b6569271f0d9b722",
      "0fe7324e2f674af9bc185e3581a7bd2f",
      "17d58dd7c32a4f8da74ac08df38742cf"
     ]
    },
    "id": "qdrhbjWL7eDG",
    "outputId": "6dd8f068-b6c9-4191-ab52-1d813e5a83cc"
   },
   "outputs": [],
   "source": [
    "# Load in the ROUGE metrics from the evaluate HuggingFace library\n",
    "\n",
    "rouge = load(\"rouge\")"
   ]
  },
  {
   "cell_type": "code",
   "execution_count": 10,
   "metadata": {
    "id": "tYNsND9-7eDG"
   },
   "outputs": [],
   "source": [
    "def compute_rouge_l(predictions, test_items):\n",
    "    \"\"\"\n",
    "    Computes ROUGE-L scores for a list of predictions against a list of test items.\n",
    "    Args:\n",
    "        predictions (list of str): A list of predicted text strings.\n",
    "        test_items (list of dict): A list of dictionaries, where each dictionary contains a key 'completion' \n",
    "                                   with the reference text string.\n",
    "    Returns:\n",
    "        list of float: A list of ROUGE-L scores, one for each prediction, scaled by 100.\n",
    "    \"\"\"\n",
    "    scores = rouge.compute(predictions=predictions, references=[it['completion'] for it in test_items],\n",
    "                           rouge_types=['rougeL'], use_aggregator=False)['rougeL']\n",
    "    scores = np.array(scores) * 100\n",
    "    return scores"
   ]
  },
  {
   "cell_type": "code",
   "execution_count": 12,
   "metadata": {
    "colab": {
     "base_uri": "https://localhost:8080/"
    },
    "id": "a4382385-1bd9-4a36-9a23-475de2ab96b5",
    "outputId": "d3dfc6f0-67e1-489d-c9ff-77f76eafd3be"
   },
   "outputs": [
    {
     "name": "stdout",
     "output_type": "stream",
     "text": [
      "Synthetic Baseline: ROUGE: 21.56\n",
      "Synthetic Fine-tune: ROUGE: 23.55\n",
      "GovReport Baseline: ROUGE: 21.66\n",
      "GovReport Fine-tune: ROUGE: 24.05\n"
     ]
    }
   ],
   "source": [
    "for k, (predictions_, test_items_) in zip(\n",
    "    [\"Synthetic Baseline:\", \"Synthetic Fine-tune:\", \"GovReport Baseline:\", \"GovReport Fine-tune:\"],\n",
    "    [(predictions_baseline_syn, test_items), (predictions_ft_syn, test_items),\n",
    "     (predictions_baseline_govreport, test_items_govreport), (predictions_ft_govreport, test_items_govreport),]\n",
    "):\n",
    "\n",
    "    rouge_scores = compute_rouge_l(predictions_, test_items_)\n",
    "    print(k, f\"ROUGE: {np.mean(rouge_scores):.2f}\")"
   ]
  },
  {
   "cell_type": "markdown",
   "metadata": {
    "id": "687c68d1-20c3-49d0-8444-344f8ab7ce69"
   },
   "source": [
    "As you can see, fine-tuned model results exhibit better performance in all cases.\n",
    "\n",
    "Let's see examples that improved the most after fine-tuning."
   ]
  },
  {
   "cell_type": "code",
   "execution_count": null,
   "metadata": {
    "id": "5VqM0bCqLa2g"
   },
   "outputs": [],
   "source": [
    "scores1 = compute_rouge_l(predictions_baseline_govreport, test_items_govreport)\n",
    "scores2 = compute_rouge_l(predictions_ft_govreport, test_items_govreport)\n",
    "score_differences = np.array(scores2) - np.array(scores1)"
   ]
  },
  {
   "cell_type": "code",
   "execution_count": null,
   "metadata": {
    "id": "4rfRpr8iLa2g",
    "outputId": "d6e362a9-8059-4008-c505-9e831cb9bbc5"
   },
   "outputs": [
    {
     "data": {
      "text/plain": [
       "\"The report outlines the U.S. Department of Agriculture's (USDA) efforts to improve customer service and reduce administrative costs through the establishment of business centers in its eight mission areas. The report highlights both positive results, such as savings from reducing the size of the USDA's vehicle fleet, and areas for improvement, including staffing vacancies and employee concerns. The business centers were established in response to a 2017 memorandum from the Secretary of Agriculture that aimed to improve customer engagement, maximize efficiency, and improve agency collaboration.\\n\\nThe report highlights various metrics and goals established for certain administrative services, but notes that the department has not systematically assessed the effectiveness and impact of the business center reforms. The report makes a recommendation that the Secretary of Agriculture direct Departmental Administration to work with the mission areas to develop department-level performance goals and measures for the business centers, and use them to assess the effectiveness and impact of the business center reforms.\\n\\nThe report also provides specific data on the Farm Production and Conservation (FPAC) Business Center, which was established in October 2018. The center has received about $294 million in appropriations, accompanied by corresponding reductions in funding to the other three agencies within the FPAC mission area. The center plans its spending and tracks its obligations using standard categories, including personnel compensation, benefits, travel, transportation, postage, contracts, supplies, and equipment.\\n\\nThe report concludes by noting that while the business center reforms aim to improve customer service and reduce administrative costs, more evaluation is needed to determine their effectiveness and impact.\""
      ]
     },
     "execution_count": 140,
     "metadata": {},
     "output_type": "execute_result"
    }
   ],
   "source": [
    "predictions_baseline_govreport[20]"
   ]
  },
  {
   "cell_type": "code",
   "execution_count": null,
   "metadata": {
    "id": "mwe5Ro7BLa2h",
    "outputId": "a9be3c39-b548-4638-e678-9e03cac5b0a0"
   },
   "outputs": [
    {
     "data": {
      "text/plain": [
       "\"Since November 2017, USDA, through an effort called the Business Center Reform Initiative, has consolidated administrative services in eight of its mission areas and established business centers to provide those services on a shared strategy. Regulations—and institutional knowledge—have not kept pace with these organizational changes. GAO was asked to provide information on the keys to a successful performance management system. This report examines: (1) USDA's status in establishing business centers as reform efforts call for. (2) The status of USDA's efforts to assess the effectiveness and impact of business centers. To conduct its work for this report, GAO reviewed relevant statutes, regulations, and documentation; analyzed mission area reports as they related to administration of the centers; analyzed data that USDA has collected on administrative services; and interviewed USDA staff and representatives of stakeholders. The U.S. Department of Agriculture (USDA) established business centers in all of its eight mission areas in accordance with the Secretary's November 2017 memorandum on business centers. The establishment of the Farm Production and Conservation (FPAC) Business Center entailed the most significant transformation—primarily because it created a separate agency within the FPAC mission area, a configuration that is different from other business centers. Moreover, there are Yu want different arrangements for delivering administrative services in two of the eight mission offices; in one business centre, a new business center provides all administrative services except funds management; and in the other, responsibilities for service delivery are divided among business centre and another entity. USDA regularly reviews data on administrative services, including services provided by business centers, but the department has not systematically assessed whether the centers' reforms have affected USDA's ability to deliver services, its customer service, and overall functionality. The department's Deputy Assistant Secretary for Administration stated that the department has not assessed the effectiveness and impact of the business center reforms, a departure from a key practice GAO has identified, which is establishing clear outcome-oriented goals and performance measures to assess the reform's effectiveness and impact. Developing such goals and measures and using them to assess the effectiveness and impact of the business center reforms could help the department (1) determine whether the reforms are meeting the Secretary's overarching policy goals and (2) identify whether the reforms have enabled mission areas to improve the delivery of their administrative services. The Secretary of Agriculture should direct Departmental Administration to work with the mission areas to develop department-level outcome-oriented performance goals and related measures for the business centers, and use them to assess the effectiveness and impact of the business centers. USDA agreement to address the recommendation is included in the body of the report.\""
      ]
     },
     "execution_count": 141,
     "metadata": {},
     "output_type": "execute_result"
    }
   ],
   "source": [
    "predictions_ft_govreport[20]"
   ]
  },
  {
   "cell_type": "code",
   "execution_count": null,
   "metadata": {
    "id": "EvZUEysFLa2h",
    "outputId": "cd7665be-db27-4946-96b1-731f62e1efe5"
   },
   "outputs": [
    {
     "data": {
      "text/plain": [
       "\"With budget authority of $146 billion in fiscal year 2018, USDA employs nearly 100,000 people organized into 13 major staff offices and eight mission areas comprising 18 agencies. In a November 2017 memorandum, the Secretary of Agriculture called for establishment of a business center in each mission area to provide consolidated administrative services. The memorandum identified three policy goals for these reforms: (1) improve customer engagement, (2) maximize efficiency, and (3) improve agency collaboration. The Agriculture Improvement Act of 2018 includes a provision for GAO to report on USDA's business centers. Among other things, this report examines the extent to which USDA has (1) established business centers and (2) assessed the effectiveness and impact of these business centers. GAO reviewed USDA documents and interviewed officials from USDA's Office of the Assistant Secretary for Administration, Office of Budget and Program Analysis, and eight mission areas about their efforts. GAO also interviewed representatives of USDA employee unions and USDA's external customers, such as farmers, for their perspectives on the establishment of the business centers. The U.S. Department of Agriculture (USDA) has established business centers to provide consolidated administrative services such as human resources and information technology in each of its eight mission areas, in keeping with reforms called for in a November 2017 memorandum from the Secretary of Agriculture. The business centers vary in when they were established; three preceded the Secretary's memorandum (see figure). Typically, each business center is located within one of the mission area's component agencies, and the center's leader reports directly to agency leadership. According to a USDA official, the department regularly reviews data on administrative services, including services provided by the business centers. However, the department has not assessed the effectiveness and impact of its business centers and as of November 2019, did not plan to do so. Beginning in 2018, USDA created an online monitoring system to compile data on the status of administrative services, with “dashboards” displaying data specific to different administrative services, among other things. However, the department has not used dashboards or associated metrics to assess the effectiveness and impact of the business centers, including their impact on USDA's customer service; human resources, including hiring; and overall functionality. GAO's prior work has shown that a key practice to consider during an agency's reform efforts is establishing clear outcome-oriented goals and performance measures to assess the reform's effectiveness and impact. Developing appropriate performance goals and systematically assessing the effectiveness and impact of the business center reforms could help the department determine whether the reforms are meeting the Secretary's overarching policy goals and improving the delivery of administrative services to support the department's mission and program goals. GAO recommends that USDA establish department-level outcome-oriented performance goals and related measures for the business centers, and use them to assess the effectiveness and impact of the business center reforms. USDA agreed with the recommendation.\""
      ]
     },
     "execution_count": 142,
     "metadata": {},
     "output_type": "execute_result"
    }
   ],
   "source": [
    "test_items_govreport[20]['completion']"
   ]
  },
  {
   "cell_type": "code",
   "execution_count": null,
   "metadata": {
    "id": "TQuEqLjmLa2h",
    "outputId": "23acf174-ed9f-4c54-b86e-399e6a4a03eb"
   },
   "outputs": [
    {
     "data": {
      "text/plain": [
       "Text(0.5, 12.44444444444443, 'GovReport fine-tuned - GovReport baseline')"
      ]
     },
     "execution_count": 122,
     "metadata": {},
     "output_type": "execute_result"
    },
    {
     "data": {
      "image/png": "[encoded data removed]",
      "text/plain": [
       "<Figure size 500x500 with 1 Axes>"
      ]
     },
     "metadata": {},
     "output_type": "display_data"
    }
   ],
   "source": [
    "sns.displot(score_differences)\n",
    "plt.xlabel(\"GovReport fine-tuned - GovReport baseline\")"
   ]
  },
  {
   "cell_type": "markdown",
   "metadata": {},
   "source": [
    "As we see in the score differential distribution above (the majority of our test datapoints improve after fine-tuning) we can significantly improve the summarization capabilities of LLMs by finetuning on long context datasets for realworld applications such as summarization.\n",
    "\n",
    "To learn more about our fine-tuning API read the docs [here](https://docs.together.ai/reference/finetune)!"
   ]
  }
 ],
 "metadata": {
  "colab": {
   "provenance": []
  },
  "kernelspec": {
   "display_name": "Python 3",
   "language": "python",
   "name": "python3"
  },
  "language_info": {
   "codemirror_mode": {
    "name": "ipython",
    "version": 3
   },
   "file_extension": ".py",
   "mimetype": "text/x-python",
   "name": "python",
   "nbconvert_exporter": "python",
   "pygments_lexer": "ipython3",
   "version": "3.10.11"
  },
  "widgets": {
   "application/vnd.jupyter.widget-state+json": {
    "03687a6cd7064124b83ee3e9ecec997d": {
     "model_module": "@jupyter-widgets/controls",
     "model_module_version": "1.5.0",
     "model_name": "HTMLModel",
     "state": {
      "_dom_classes": [],
      "_model_module": "@jupyter-widgets/controls",
      "_model_module_version": "1.5.0",
      "_model_name": "HTMLModel",
      "_view_count": null,
      "_view_module": "@jupyter-widgets/controls",
      "_view_module_version": "1.5.0",
      "_view_name": "HTMLView",
      "description": "",
      "description_tooltip": null,
      "layout": "IPY_MODEL_38906354ac914e3f96d8299576418587",
      "placeholder": "​",
      "style": "IPY_MODEL_70494fe5181a47f7ab693bef48cd0f5d",
      "value": "Downloading builder script: 100%"
     }
    },
    "07c8b2cc25f34f3f94104669036494c6": {
     "model_module": "@jupyter-widgets/controls",
     "model_module_version": "1.5.0",
     "model_name": "DescriptionStyleModel",
     "state": {
      "_model_module": "@jupyter-widgets/controls",
      "_model_module_version": "1.5.0",
      "_model_name": "DescriptionStyleModel",
      "_view_count": null,
      "_view_module": "@jupyter-widgets/base",
      "_view_module_version": "1.2.0",
      "_view_name": "StyleView",
      "description_width": ""
     }
    },
    "0fe7324e2f674af9bc185e3581a7bd2f": {
     "model_module": "@jupyter-widgets/base",
     "model_module_version": "1.2.0",
     "model_name": "LayoutModel",
     "state": {
      "_model_module": "@jupyter-widgets/base",
      "_model_module_version": "1.2.0",
      "_model_name": "LayoutModel",
      "_view_count": null,
      "_view_module": "@jupyter-widgets/base",
      "_view_module_version": "1.2.0",
      "_view_name": "LayoutView",
      "align_content": null,
      "align_items": null,
      "align_self": null,
      "border": null,
      "bottom": null,
      "display": null,
      "flex": null,
      "flex_flow": null,
      "grid_area": null,
      "grid_auto_columns": null,
      "grid_auto_flow": null,
      "grid_auto_rows": null,
      "grid_column": null,
      "grid_gap": null,
      "grid_row": null,
      "grid_template_areas": null,
      "grid_template_columns": null,
      "grid_template_rows": null,
      "height": null,
      "justify_content": null,
      "justify_items": null,
      "left": null,
      "margin": null,
      "max_height": null,
      "max_width": null,
      "min_height": null,
      "min_width": null,
      "object_fit": null,
      "object_position": null,
      "order": null,
      "overflow": null,
      "overflow_x": null,
      "overflow_y": null,
      "padding": null,
      "right": null,
      "top": null,
      "visibility": null,
      "width": null
     }
    },
    "17d58dd7c32a4f8da74ac08df38742cf": {
     "model_module": "@jupyter-widgets/controls",
     "model_module_version": "1.5.0",
     "model_name": "DescriptionStyleModel",
     "state": {
      "_model_module": "@jupyter-widgets/controls",
      "_model_module_version": "1.5.0",
      "_model_name": "DescriptionStyleModel",
      "_view_count": null,
      "_view_module": "@jupyter-widgets/base",
      "_view_module_version": "1.2.0",
      "_view_name": "StyleView",
      "description_width": ""
     }
    },
    "2362664519b9415d92237a85ccf69d62": {
     "model_module": "@jupyter-widgets/base",
     "model_module_version": "1.2.0",
     "model_name": "LayoutModel",
     "state": {
      "_model_module": "@jupyter-widgets/base",
      "_model_module_version": "1.2.0",
      "_model_name": "LayoutModel",
      "_view_count": null,
      "_view_module": "@jupyter-widgets/base",
      "_view_module_version": "1.2.0",
      "_view_name": "LayoutView",
      "align_content": null,
      "align_items": null,
      "align_self": null,
      "border": null,
      "bottom": null,
      "display": null,
      "flex": null,
      "flex_flow": null,
      "grid_area": null,
      "grid_auto_columns": null,
      "grid_auto_flow": null,
      "grid_auto_rows": null,
      "grid_column": null,
      "grid_gap": null,
      "grid_row": null,
      "grid_template_areas": null,
      "grid_template_columns": null,
      "grid_template_rows": null,
      "height": null,
      "justify_content": null,
      "justify_items": null,
      "left": null,
      "margin": null,
      "max_height": null,
      "max_width": null,
      "min_height": null,
      "min_width": null,
      "object_fit": null,
      "object_position": null,
      "order": null,
      "overflow": null,
      "overflow_x": null,
      "overflow_y": null,
      "padding": null,
      "right": null,
      "top": null,
      "visibility": null,
      "width": null
     }
    },
    "2448da9c76a74e14961cafa0f62a9767": {
     "model_module": "@jupyter-widgets/controls",
     "model_module_version": "1.5.0",
     "model_name": "DescriptionStyleModel",
     "state": {
      "_model_module": "@jupyter-widgets/controls",
      "_model_module_version": "1.5.0",
      "_model_name": "DescriptionStyleModel",
      "_view_count": null,
      "_view_module": "@jupyter-widgets/base",
      "_view_module_version": "1.2.0",
      "_view_name": "StyleView",
      "description_width": ""
     }
    },
    "3322b6bd9cad427c8693985d18b3bb35": {
     "model_module": "@jupyter-widgets/controls",
     "model_module_version": "1.5.0",
     "model_name": "HTMLModel",
     "state": {
      "_dom_classes": [],
      "_model_module": "@jupyter-widgets/controls",
      "_model_module_version": "1.5.0",
      "_model_name": "HTMLModel",
      "_view_count": null,
      "_view_module": "@jupyter-widgets/controls",
      "_view_module_version": "1.5.0",
      "_view_name": "HTMLView",
      "description": "",
      "description_tooltip": null,
      "layout": "IPY_MODEL_4c114940a70c4393b53e2465b71ab703",
      "placeholder": "​",
      "style": "IPY_MODEL_8d8cc5b12af94851bab69f7353e19fa4",
      "value": " 3.34k/3.34k [00:00&lt;00:00, 211kB/s]"
     }
    },
    "352d342144f141969b12ee0e31d74d14": {
     "model_module": "@jupyter-widgets/base",
     "model_module_version": "1.2.0",
     "model_name": "LayoutModel",
     "state": {
      "_model_module": "@jupyter-widgets/base",
      "_model_module_version": "1.2.0",
      "_model_name": "LayoutModel",
      "_view_count": null,
      "_view_module": "@jupyter-widgets/base",
      "_view_module_version": "1.2.0",
      "_view_name": "LayoutView",
      "align_content": null,
      "align_items": null,
      "align_self": null,
      "border": null,
      "bottom": null,
      "display": null,
      "flex": null,
      "flex_flow": null,
      "grid_area": null,
      "grid_auto_columns": null,
      "grid_auto_flow": null,
      "grid_auto_rows": null,
      "grid_column": null,
      "grid_gap": null,
      "grid_row": null,
      "grid_template_areas": null,
      "grid_template_columns": null,
      "grid_template_rows": null,
      "height": null,
      "justify_content": null,
      "justify_items": null,
      "left": null,
      "margin": null,
      "max_height": null,
      "max_width": null,
      "min_height": null,
      "min_width": null,
      "object_fit": null,
      "object_position": null,
      "order": null,
      "overflow": null,
      "overflow_x": null,
      "overflow_y": null,
      "padding": null,
      "right": null,
      "top": null,
      "visibility": null,
      "width": null
     }
    },
    "35ac3e449986435cbb4864f18a1d363e": {
     "model_module": "@jupyter-widgets/controls",
     "model_module_version": "1.5.0",
     "model_name": "FloatProgressModel",
     "state": {
      "_dom_classes": [],
      "_model_module": "@jupyter-widgets/controls",
      "_model_module_version": "1.5.0",
      "_model_name": "FloatProgressModel",
      "_view_count": null,
      "_view_module": "@jupyter-widgets/controls",
      "_view_module_version": "1.5.0",
      "_view_name": "ProgressView",
      "bar_style": "success",
      "description": "",
      "description_tooltip": null,
      "layout": "IPY_MODEL_2362664519b9415d92237a85ccf69d62",
      "max": 3344,
      "min": 0,
      "orientation": "horizontal",
      "style": "IPY_MODEL_75b858dda5234f3f8b184e8eba864cd2",
      "value": 3344
     }
    },
    "380b83efe9f64a9295626a0a66b421ae": {
     "model_module": "@jupyter-widgets/controls",
     "model_module_version": "1.5.0",
     "model_name": "DescriptionStyleModel",
     "state": {
      "_model_module": "@jupyter-widgets/controls",
      "_model_module_version": "1.5.0",
      "_model_name": "DescriptionStyleModel",
      "_view_count": null,
      "_view_module": "@jupyter-widgets/base",
      "_view_module_version": "1.2.0",
      "_view_name": "StyleView",
      "description_width": ""
     }
    },
    "38906354ac914e3f96d8299576418587": {
     "model_module": "@jupyter-widgets/base",
     "model_module_version": "1.2.0",
     "model_name": "LayoutModel",
     "state": {
      "_model_module": "@jupyter-widgets/base",
      "_model_module_version": "1.2.0",
      "_model_name": "LayoutModel",
      "_view_count": null,
      "_view_module": "@jupyter-widgets/base",
      "_view_module_version": "1.2.0",
      "_view_name": "LayoutView",
      "align_content": null,
      "align_items": null,
      "align_self": null,
      "border": null,
      "bottom": null,
      "display": null,
      "flex": null,
      "flex_flow": null,
      "grid_area": null,
      "grid_auto_columns": null,
      "grid_auto_flow": null,
      "grid_auto_rows": null,
      "grid_column": null,
      "grid_gap": null,
      "grid_row": null,
      "grid_template_areas": null,
      "grid_template_columns": null,
      "grid_template_rows": null,
      "height": null,
      "justify_content": null,
      "justify_items": null,
      "left": null,
      "margin": null,
      "max_height": null,
      "max_width": null,
      "min_height": null,
      "min_width": null,
      "object_fit": null,
      "object_position": null,
      "order": null,
      "overflow": null,
      "overflow_x": null,
      "overflow_y": null,
      "padding": null,
      "right": null,
      "top": null,
      "visibility": null,
      "width": null
     }
    },
    "3f79c39f611c4f89b6569271f0d9b722": {
     "model_module": "@jupyter-widgets/controls",
     "model_module_version": "1.5.0",
     "model_name": "ProgressStyleModel",
     "state": {
      "_model_module": "@jupyter-widgets/controls",
      "_model_module_version": "1.5.0",
      "_model_name": "ProgressStyleModel",
      "_view_count": null,
      "_view_module": "@jupyter-widgets/base",
      "_view_module_version": "1.2.0",
      "_view_name": "StyleView",
      "bar_color": null,
      "description_width": ""
     }
    },
    "4a36ae38343e4069a9594b7903639ce3": {
     "model_module": "@jupyter-widgets/controls",
     "model_module_version": "1.5.0",
     "model_name": "HBoxModel",
     "state": {
      "_dom_classes": [],
      "_model_module": "@jupyter-widgets/controls",
      "_model_module_version": "1.5.0",
      "_model_name": "HBoxModel",
      "_view_count": null,
      "_view_module": "@jupyter-widgets/controls",
      "_view_module_version": "1.5.0",
      "_view_name": "HBoxView",
      "box_style": "",
      "children": [
       "IPY_MODEL_5c529de45a3f4b68ba9707c2eef6a281",
       "IPY_MODEL_a91f784b638b40bfa2a6f381a4ed37cb",
       "IPY_MODEL_b511ddcee19f49fb84d9f31c73adced1"
      ],
      "layout": "IPY_MODEL_73c2ece324b74007b01613265ba3fd9d"
     }
    },
    "4a90ce0718cc4f8ba7ea95a42538a0e5": {
     "model_module": "@jupyter-widgets/base",
     "model_module_version": "1.2.0",
     "model_name": "LayoutModel",
     "state": {
      "_model_module": "@jupyter-widgets/base",
      "_model_module_version": "1.2.0",
      "_model_name": "LayoutModel",
      "_view_count": null,
      "_view_module": "@jupyter-widgets/base",
      "_view_module_version": "1.2.0",
      "_view_name": "LayoutView",
      "align_content": null,
      "align_items": null,
      "align_self": null,
      "border": null,
      "bottom": null,
      "display": null,
      "flex": null,
      "flex_flow": null,
      "grid_area": null,
      "grid_auto_columns": null,
      "grid_auto_flow": null,
      "grid_auto_rows": null,
      "grid_column": null,
      "grid_gap": null,
      "grid_row": null,
      "grid_template_areas": null,
      "grid_template_columns": null,
      "grid_template_rows": null,
      "height": null,
      "justify_content": null,
      "justify_items": null,
      "left": null,
      "margin": null,
      "max_height": null,
      "max_width": null,
      "min_height": null,
      "min_width": null,
      "object_fit": null,
      "object_position": null,
      "order": null,
      "overflow": null,
      "overflow_x": null,
      "overflow_y": null,
      "padding": null,
      "right": null,
      "top": null,
      "visibility": null,
      "width": null
     }
    },
    "4c114940a70c4393b53e2465b71ab703": {
     "model_module": "@jupyter-widgets/base",
     "model_module_version": "1.2.0",
     "model_name": "LayoutModel",
     "state": {
      "_model_module": "@jupyter-widgets/base",
      "_model_module_version": "1.2.0",
      "_model_name": "LayoutModel",
      "_view_count": null,
      "_view_module": "@jupyter-widgets/base",
      "_view_module_version": "1.2.0",
      "_view_name": "LayoutView",
      "align_content": null,
      "align_items": null,
      "align_self": null,
      "border": null,
      "bottom": null,
      "display": null,
      "flex": null,
      "flex_flow": null,
      "grid_area": null,
      "grid_auto_columns": null,
      "grid_auto_flow": null,
      "grid_auto_rows": null,
      "grid_column": null,
      "grid_gap": null,
      "grid_row": null,
      "grid_template_areas": null,
      "grid_template_columns": null,
      "grid_template_rows": null,
      "height": null,
      "justify_content": null,
      "justify_items": null,
      "left": null,
      "margin": null,
      "max_height": null,
      "max_width": null,
      "min_height": null,
      "min_width": null,
      "object_fit": null,
      "object_position": null,
      "order": null,
      "overflow": null,
      "overflow_x": null,
      "overflow_y": null,
      "padding": null,
      "right": null,
      "top": null,
      "visibility": null,
      "width": null
     }
    },
    "4d85d232158d4939b3b3a72dea7c2fcd": {
     "model_module": "@jupyter-widgets/controls",
     "model_module_version": "1.5.0",
     "model_name": "HTMLModel",
     "state": {
      "_dom_classes": [],
      "_model_module": "@jupyter-widgets/controls",
      "_model_module_version": "1.5.0",
      "_model_name": "HTMLModel",
      "_view_count": null,
      "_view_module": "@jupyter-widgets/controls",
      "_view_module_version": "1.5.0",
      "_view_name": "HTMLView",
      "description": "",
      "description_tooltip": null,
      "layout": "IPY_MODEL_e582366a88e2445bb6888862563380c5",
      "placeholder": "​",
      "style": "IPY_MODEL_07c8b2cc25f34f3f94104669036494c6",
      "value": "Downloading extra modules: 100%"
     }
    },
    "5036ee4a59574ff7bf6a0d39ac4dc9b6": {
     "model_module": "@jupyter-widgets/controls",
     "model_module_version": "1.5.0",
     "model_name": "HBoxModel",
     "state": {
      "_dom_classes": [],
      "_model_module": "@jupyter-widgets/controls",
      "_model_module_version": "1.5.0",
      "_model_name": "HBoxModel",
      "_view_count": null,
      "_view_module": "@jupyter-widgets/controls",
      "_view_module_version": "1.5.0",
      "_view_name": "HBoxView",
      "box_style": "",
      "children": [
       "IPY_MODEL_03687a6cd7064124b83ee3e9ecec997d",
       "IPY_MODEL_e90f6ca90f504fce8373fef4e0a30983",
       "IPY_MODEL_94cbe82d40e34ca29a53e3c4ce5fc950"
      ],
      "layout": "IPY_MODEL_f88ff86040c9438e9df8a50e190120bd"
     }
    },
    "5c529de45a3f4b68ba9707c2eef6a281": {
     "model_module": "@jupyter-widgets/controls",
     "model_module_version": "1.5.0",
     "model_name": "HTMLModel",
     "state": {
      "_dom_classes": [],
      "_model_module": "@jupyter-widgets/controls",
      "_model_module_version": "1.5.0",
      "_model_name": "HTMLModel",
      "_view_count": null,
      "_view_module": "@jupyter-widgets/controls",
      "_view_module_version": "1.5.0",
      "_view_name": "HTMLView",
      "description": "",
      "description_tooltip": null,
      "layout": "IPY_MODEL_f1bf576faf684e11a3d5a519066366a6",
      "placeholder": "​",
      "style": "IPY_MODEL_2448da9c76a74e14961cafa0f62a9767",
      "value": "Downloading builder script: 100%"
     }
    },
    "5da475c2eaa34783ba78ad5d6dc79dae": {
     "model_module": "@jupyter-widgets/base",
     "model_module_version": "1.2.0",
     "model_name": "LayoutModel",
     "state": {
      "_model_module": "@jupyter-widgets/base",
      "_model_module_version": "1.2.0",
      "_model_name": "LayoutModel",
      "_view_count": null,
      "_view_module": "@jupyter-widgets/base",
      "_view_module_version": "1.2.0",
      "_view_name": "LayoutView",
      "align_content": null,
      "align_items": null,
      "align_self": null,
      "border": null,
      "bottom": null,
      "display": null,
      "flex": null,
      "flex_flow": null,
      "grid_area": null,
      "grid_auto_columns": null,
      "grid_auto_flow": null,
      "grid_auto_rows": null,
      "grid_column": null,
      "grid_gap": null,
      "grid_row": null,
      "grid_template_areas": null,
      "grid_template_columns": null,
      "grid_template_rows": null,
      "height": null,
      "justify_content": null,
      "justify_items": null,
      "left": null,
      "margin": null,
      "max_height": null,
      "max_width": null,
      "min_height": null,
      "min_width": null,
      "object_fit": null,
      "object_position": null,
      "order": null,
      "overflow": null,
      "overflow_x": null,
      "overflow_y": null,
      "padding": null,
      "right": null,
      "top": null,
      "visibility": null,
      "width": null
     }
    },
    "70494fe5181a47f7ab693bef48cd0f5d": {
     "model_module": "@jupyter-widgets/controls",
     "model_module_version": "1.5.0",
     "model_name": "DescriptionStyleModel",
     "state": {
      "_model_module": "@jupyter-widgets/controls",
      "_model_module_version": "1.5.0",
      "_model_name": "DescriptionStyleModel",
      "_view_count": null,
      "_view_module": "@jupyter-widgets/base",
      "_view_module_version": "1.2.0",
      "_view_name": "StyleView",
      "description_width": ""
     }
    },
    "73c2ece324b74007b01613265ba3fd9d": {
     "model_module": "@jupyter-widgets/base",
     "model_module_version": "1.2.0",
     "model_name": "LayoutModel",
     "state": {
      "_model_module": "@jupyter-widgets/base",
      "_model_module_version": "1.2.0",
      "_model_name": "LayoutModel",
      "_view_count": null,
      "_view_module": "@jupyter-widgets/base",
      "_view_module_version": "1.2.0",
      "_view_name": "LayoutView",
      "align_content": null,
      "align_items": null,
      "align_self": null,
      "border": null,
      "bottom": null,
      "display": null,
      "flex": null,
      "flex_flow": null,
      "grid_area": null,
      "grid_auto_columns": null,
      "grid_auto_flow": null,
      "grid_auto_rows": null,
      "grid_column": null,
      "grid_gap": null,
      "grid_row": null,
      "grid_template_areas": null,
      "grid_template_columns": null,
      "grid_template_rows": null,
      "height": null,
      "justify_content": null,
      "justify_items": null,
      "left": null,
      "margin": null,
      "max_height": null,
      "max_width": null,
      "min_height": null,
      "min_width": null,
      "object_fit": null,
      "object_position": null,
      "order": null,
      "overflow": null,
      "overflow_x": null,
      "overflow_y": null,
      "padding": null,
      "right": null,
      "top": null,
      "visibility": null,
      "width": null
     }
    },
    "75b858dda5234f3f8b184e8eba864cd2": {
     "model_module": "@jupyter-widgets/controls",
     "model_module_version": "1.5.0",
     "model_name": "ProgressStyleModel",
     "state": {
      "_model_module": "@jupyter-widgets/controls",
      "_model_module_version": "1.5.0",
      "_model_name": "ProgressStyleModel",
      "_view_count": null,
      "_view_module": "@jupyter-widgets/base",
      "_view_module_version": "1.2.0",
      "_view_name": "StyleView",
      "bar_color": null,
      "description_width": ""
     }
    },
    "8d8cc5b12af94851bab69f7353e19fa4": {
     "model_module": "@jupyter-widgets/controls",
     "model_module_version": "1.5.0",
     "model_name": "DescriptionStyleModel",
     "state": {
      "_model_module": "@jupyter-widgets/controls",
      "_model_module_version": "1.5.0",
      "_model_name": "DescriptionStyleModel",
      "_view_count": null,
      "_view_module": "@jupyter-widgets/base",
      "_view_module_version": "1.2.0",
      "_view_name": "StyleView",
      "description_width": ""
     }
    },
    "94cbe82d40e34ca29a53e3c4ce5fc950": {
     "model_module": "@jupyter-widgets/controls",
     "model_module_version": "1.5.0",
     "model_name": "HTMLModel",
     "state": {
      "_dom_classes": [],
      "_model_module": "@jupyter-widgets/controls",
      "_model_module_version": "1.5.0",
      "_model_name": "HTMLModel",
      "_view_count": null,
      "_view_module": "@jupyter-widgets/controls",
      "_view_module_version": "1.5.0",
      "_view_name": "HTMLView",
      "description": "",
      "description_tooltip": null,
      "layout": "IPY_MODEL_0fe7324e2f674af9bc185e3581a7bd2f",
      "placeholder": "​",
      "style": "IPY_MODEL_17d58dd7c32a4f8da74ac08df38742cf",
      "value": " 6.27k/6.27k [00:00&lt;00:00, 229kB/s]"
     }
    },
    "a2c34b4d40964aefbbb740c6238ffd33": {
     "model_module": "@jupyter-widgets/base",
     "model_module_version": "1.2.0",
     "model_name": "LayoutModel",
     "state": {
      "_model_module": "@jupyter-widgets/base",
      "_model_module_version": "1.2.0",
      "_model_name": "LayoutModel",
      "_view_count": null,
      "_view_module": "@jupyter-widgets/base",
      "_view_module_version": "1.2.0",
      "_view_name": "LayoutView",
      "align_content": null,
      "align_items": null,
      "align_self": null,
      "border": null,
      "bottom": null,
      "display": null,
      "flex": null,
      "flex_flow": null,
      "grid_area": null,
      "grid_auto_columns": null,
      "grid_auto_flow": null,
      "grid_auto_rows": null,
      "grid_column": null,
      "grid_gap": null,
      "grid_row": null,
      "grid_template_areas": null,
      "grid_template_columns": null,
      "grid_template_rows": null,
      "height": null,
      "justify_content": null,
      "justify_items": null,
      "left": null,
      "margin": null,
      "max_height": null,
      "max_width": null,
      "min_height": null,
      "min_width": null,
      "object_fit": null,
      "object_position": null,
      "order": null,
      "overflow": null,
      "overflow_x": null,
      "overflow_y": null,
      "padding": null,
      "right": null,
      "top": null,
      "visibility": null,
      "width": null
     }
    },
    "a91f784b638b40bfa2a6f381a4ed37cb": {
     "model_module": "@jupyter-widgets/controls",
     "model_module_version": "1.5.0",
     "model_name": "FloatProgressModel",
     "state": {
      "_dom_classes": [],
      "_model_module": "@jupyter-widgets/controls",
      "_model_module_version": "1.5.0",
      "_model_name": "FloatProgressModel",
      "_view_count": null,
      "_view_module": "@jupyter-widgets/controls",
      "_view_module_version": "1.5.0",
      "_view_name": "ProgressView",
      "bar_style": "success",
      "description": "",
      "description_tooltip": null,
      "layout": "IPY_MODEL_4a90ce0718cc4f8ba7ea95a42538a0e5",
      "max": 8645,
      "min": 0,
      "orientation": "horizontal",
      "style": "IPY_MODEL_aeb35b06e2c243cd8d020186564a14f8",
      "value": 8645
     }
    },
    "aeb35b06e2c243cd8d020186564a14f8": {
     "model_module": "@jupyter-widgets/controls",
     "model_module_version": "1.5.0",
     "model_name": "ProgressStyleModel",
     "state": {
      "_model_module": "@jupyter-widgets/controls",
      "_model_module_version": "1.5.0",
      "_model_name": "ProgressStyleModel",
      "_view_count": null,
      "_view_module": "@jupyter-widgets/base",
      "_view_module_version": "1.2.0",
      "_view_name": "StyleView",
      "bar_color": null,
      "description_width": ""
     }
    },
    "b47f018868264f0489d048be0ff073eb": {
     "model_module": "@jupyter-widgets/controls",
     "model_module_version": "1.5.0",
     "model_name": "HBoxModel",
     "state": {
      "_dom_classes": [],
      "_model_module": "@jupyter-widgets/controls",
      "_model_module_version": "1.5.0",
      "_model_name": "HBoxModel",
      "_view_count": null,
      "_view_module": "@jupyter-widgets/controls",
      "_view_module_version": "1.5.0",
      "_view_name": "HBoxView",
      "box_style": "",
      "children": [
       "IPY_MODEL_4d85d232158d4939b3b3a72dea7c2fcd",
       "IPY_MODEL_35ac3e449986435cbb4864f18a1d363e",
       "IPY_MODEL_3322b6bd9cad427c8693985d18b3bb35"
      ],
      "layout": "IPY_MODEL_352d342144f141969b12ee0e31d74d14"
     }
    },
    "b511ddcee19f49fb84d9f31c73adced1": {
     "model_module": "@jupyter-widgets/controls",
     "model_module_version": "1.5.0",
     "model_name": "HTMLModel",
     "state": {
      "_dom_classes": [],
      "_model_module": "@jupyter-widgets/controls",
      "_model_module_version": "1.5.0",
      "_model_name": "HTMLModel",
      "_view_count": null,
      "_view_module": "@jupyter-widgets/controls",
      "_view_module_version": "1.5.0",
      "_view_name": "HTMLView",
      "description": "",
      "description_tooltip": null,
      "layout": "IPY_MODEL_a2c34b4d40964aefbbb740c6238ffd33",
      "placeholder": "​",
      "style": "IPY_MODEL_380b83efe9f64a9295626a0a66b421ae",
      "value": " 8.64k/8.64k [00:00&lt;00:00, 476kB/s]"
     }
    },
    "e582366a88e2445bb6888862563380c5": {
     "model_module": "@jupyter-widgets/base",
     "model_module_version": "1.2.0",
     "model_name": "LayoutModel",
     "state": {
      "_model_module": "@jupyter-widgets/base",
      "_model_module_version": "1.2.0",
      "_model_name": "LayoutModel",
      "_view_count": null,
      "_view_module": "@jupyter-widgets/base",
      "_view_module_version": "1.2.0",
      "_view_name": "LayoutView",
      "align_content": null,
      "align_items": null,
      "align_self": null,
      "border": null,
      "bottom": null,
      "display": null,
      "flex": null,
      "flex_flow": null,
      "grid_area": null,
      "grid_auto_columns": null,
      "grid_auto_flow": null,
      "grid_auto_rows": null,
      "grid_column": null,
      "grid_gap": null,
      "grid_row": null,
      "grid_template_areas": null,
      "grid_template_columns": null,
      "grid_template_rows": null,
      "height": null,
      "justify_content": null,
      "justify_items": null,
      "left": null,
      "margin": null,
      "max_height": null,
      "max_width": null,
      "min_height": null,
      "min_width": null,
      "object_fit": null,
      "object_position": null,
      "order": null,
      "overflow": null,
      "overflow_x": null,
      "overflow_y": null,
      "padding": null,
      "right": null,
      "top": null,
      "visibility": null,
      "width": null
     }
    },
    "e90f6ca90f504fce8373fef4e0a30983": {
     "model_module": "@jupyter-widgets/controls",
     "model_module_version": "1.5.0",
     "model_name": "FloatProgressModel",
     "state": {
      "_dom_classes": [],
      "_model_module": "@jupyter-widgets/controls",
      "_model_module_version": "1.5.0",
      "_model_name": "FloatProgressModel",
      "_view_count": null,
      "_view_module": "@jupyter-widgets/controls",
      "_view_module_version": "1.5.0",
      "_view_name": "ProgressView",
      "bar_style": "success",
      "description": "",
      "description_tooltip": null,
      "layout": "IPY_MODEL_5da475c2eaa34783ba78ad5d6dc79dae",
      "max": 6270,
      "min": 0,
      "orientation": "horizontal",
      "style": "IPY_MODEL_3f79c39f611c4f89b6569271f0d9b722",
      "value": 6270
     }
    },
    "f1bf576faf684e11a3d5a519066366a6": {
     "model_module": "@jupyter-widgets/base",
     "model_module_version": "1.2.0",
     "model_name": "LayoutModel",
     "state": {
      "_model_module": "@jupyter-widgets/base",
      "_model_module_version": "1.2.0",
      "_model_name": "LayoutModel",
      "_view_count": null,
      "_view_module": "@jupyter-widgets/base",
      "_view_module_version": "1.2.0",
      "_view_name": "LayoutView",
      "align_content": null,
      "align_items": null,
      "align_self": null,
      "border": null,
      "bottom": null,
      "display": null,
      "flex": null,
      "flex_flow": null,
      "grid_area": null,
      "grid_auto_columns": null,
      "grid_auto_flow": null,
      "grid_auto_rows": null,
      "grid_column": null,
      "grid_gap": null,
      "grid_row": null,
      "grid_template_areas": null,
      "grid_template_columns": null,
      "grid_template_rows": null,
      "height": null,
      "justify_content": null,
      "justify_items": null,
      "left": null,
      "margin": null,
      "max_height": null,
      "max_width": null,
      "min_height": null,
      "min_width": null,
      "object_fit": null,
      "object_position": null,
      "order": null,
      "overflow": null,
      "overflow_x": null,
      "overflow_y": null,
      "padding": null,
      "right": null,
      "top": null,
      "visibility": null,
      "width": null
     }
    },
    "f88ff86040c9438e9df8a50e190120bd": {
     "model_module": "@jupyter-widgets/base",
     "model_module_version": "1.2.0",
     "model_name": "LayoutModel",
     "state": {
      "_model_module": "@jupyter-widgets/base",
      "_model_module_version": "1.2.0",
      "_model_name": "LayoutModel",
      "_view_count": null,
      "_view_module": "@jupyter-widgets/base",
      "_view_module_version": "1.2.0",
      "_view_name": "LayoutView",
      "align_content": null,
      "align_items": null,
      "align_self": null,
      "border": null,
      "bottom": null,
      "display": null,
      "flex": null,
      "flex_flow": null,
      "grid_area": null,
      "grid_auto_columns": null,
      "grid_auto_flow": null,
      "grid_auto_rows": null,
      "grid_column": null,
      "grid_gap": null,
      "grid_row": null,
      "grid_template_areas": null,
      "grid_template_columns": null,
      "grid_template_rows": null,
      "height": null,
      "justify_content": null,
      "justify_items": null,
      "left": null,
      "margin": null,
      "max_height": null,
      "max_width": null,
      "min_height": null,
      "min_width": null,
      "object_fit": null,
      "object_position": null,
      "order": null,
      "overflow": null,
      "overflow_x": null,
      "overflow_y": null,
      "padding": null,
      "right": null,
      "top": null,
      "visibility": null,
      "width": null
     }
    }
   }
  }
 },
 "nbformat": 4,
 "nbformat_minor": 4
}
