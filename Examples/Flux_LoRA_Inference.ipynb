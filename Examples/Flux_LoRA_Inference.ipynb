{
 "cells": [
  {
   "cell_type": "markdown",
   "metadata": {},
   "source": [
    "# FLUX LoRA Inference\n",
    "\n",
    "Author: [Zain Hasan](https://x.com/ZainHasan6)\n",
    "\n",
    "---\n",
    "[![Open In Colab](https://colab.research.google.com/assets/colab-badge.svg)](https://colab.research.google.com/github/togethercomputer/together-cookbook/blob/main/Agents/Flux_LoRA_Inference.ipynb)"
   ]
  },
  {
   "cell_type": "markdown",
   "metadata": {},
   "source": "## Introduction\n\nIn this notebook I'll show how to generate images by performing inference with LoRA fine-tunes of the FLUX.1-dev model.\n\nWe discuss the role of trigger words for different LoRA fine-tunes and how to think about mixing multiple LoRA tunes and scaling each accordingly.\n\n<img src=\"../images/lora_pandas.png\" height=\"500\">",
   "outputs": []
  },
  {
   "cell_type": "markdown",
   "metadata": {},
   "source": [
    "Here is a list of interesting LoRA fine-tunes of the open source FLUX.1-dev model that you can try:\n",
    "\n",
    "| Style | Link |\n",
    "|-------|------|\n",
    "| Colored Sketch | https://huggingface.co/strangerzonehf/Flux-Sketch-Ep-LoRA |\n",
    "| Simple Sketch | https://huggingface.co/dvyio/flux-lora-simple-illustration |\n",
    "| Vector Sketch | https://huggingface.co/mujibanget/vector-illustration |\n",
    "| Anime Sketch | https://huggingface.co/glif/anime-blockprint-style |\n",
    "| Logo Design | https://huggingface.co/Shakker-Labs/FLUX.1-dev-LoRA-Logo-Design |\n",
    "| Flux Midjourney | https://huggingface.co/strangerzonehf/Flux-Midjourney-Mix2-LoRA |\n",
    "| Outfit Generator | https://huggingface.co/tryonlabs/FLUX.1-dev-LoRA-Outfit-Generator |\n",
    "| Icons | https://huggingface.co/strangerzonehf/Flux-Icon-Kit-LoRA |\n",
    "| Tarot Card | https://huggingface.co/multimodalart/flux-tarot-v1 |\n",
    "| Add Detail | https://huggingface.co/Shakker-Labs/FLUX.1-dev-LoRA-add-details |\n"
   ]
  },
  {
   "cell_type": "code",
   "execution_count": null,
   "metadata": {},
   "outputs": [],
   "source": [
    "!pip install -qU together"
   ]
  },
  {
   "cell_type": "code",
   "execution_count": null,
   "metadata": {},
   "outputs": [],
   "source": [
    "from together import Together\n",
    "from IPython.display import Image\n",
    "import os\n",
    "\n",
    "client = Together(api_key=os.getenv(\"TOGETHER_API_KEY\"))"
   ]
  },
  {
   "cell_type": "code",
   "execution_count": 42,
   "metadata": {},
   "outputs": [],
   "source": [
    "from typing import Optional, List\n",
    "from dataclasses import dataclass\n",
    "\n",
    "@dataclass\n",
    "class LoraConfig:\n",
    "    path: str\n",
    "    scale: float\n",
    "\n",
    "def generate_image(\n",
    "        prompt: str,\n",
    "        lora1: str,\n",
    "        scale1: float = 1.0,\n",
    "        lora2: Optional[str] = None, \n",
    "        scale2: Optional[float] = 1.0\n",
    ") -> str:\n",
    "    \n",
    "    \"\"\"\n",
    "    Generate an image using the FLUX.1 model with specified LoRA's.\n",
    "\n",
    "    Args:\n",
    "        prompt (str): The text prompt to generate the image from.\n",
    "        lora1 (str): Path to the first LoRA model.\n",
    "        scale1 (float, optional): Scale factor for the first LoRA model. Defaults to 1.0.\n",
    "        lora2 (Optional[str], optional): Path to the second LoRA model. Defaults to None.\n",
    "        scale2 (Optional[float], optional): Scale factor for the second LoRA model. Defaults to 1.0.\n",
    "\n",
    "        Currently only 2 LoRA's at a time are supported.\n",
    "\n",
    "    Returns:\n",
    "        str: URL of the generated image.\n",
    "    \"\"\"\n",
    "    \n",
    "    # Build LoRA configurations\n",
    "    lora_config: List[LoraConfig] = [LoraConfig(path=lora1, scale=scale1)]\n",
    "    \n",
    "    if lora2:\n",
    "        lora_config.append(LoraConfig(path=lora2, scale=scale2))\n",
    "\n",
    "    # Convert LoraConfig objects to dictionaries\n",
    "    image_loras = [{\"path\": lora.path, \"scale\": lora.scale} for lora in lora_config]\n",
    "\n",
    "    response = client.images.generate(\n",
    "        prompt=prompt,\n",
    "        model=\"black-forest-labs/FLUX.1-dev-lora\",\n",
    "        width=1024,\n",
    "        height=768,\n",
    "        steps=28,\n",
    "        n=1,\n",
    "        response_format=\"url\",\n",
    "        image_loras=image_loras\n",
    "    )\n",
    "\n",
    "    return response.data[0].url"
   ]
  },
  {
   "cell_type": "code",
   "execution_count": 60,
   "metadata": {},
   "outputs": [
    {
     "data": {
      "text/html": [
       "<img src=\"https://api.together.ai/imgproxy/brVQVO1C-YfFSo_xV-sCsmkg-4UHv7SW5UK7PNFzWdE/format:jpeg/aHR0cHM6Ly90b2dldGhlci1haS1iZmwtaW1hZ2VzLXByb2QuczMudXMtd2VzdC0yLmFtYXpvbmF3cy5jb20vaW1hZ2VzL2Y0YmI0OGEyMmY5MzQ1ODY0YTUxMTExZDA1ZWYxYjFkMjNmZTE5ZTExODJlOWNlOWViNWRmN2EwNmYzYTQ1MmE_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\" width=\"512\" height=\"384\"/>"
      ],
      "text/plain": [
       "<IPython.core.display.Image object>"
      ]
     },
     "execution_count": 60,
     "metadata": {},
     "output_type": "execute_result"
    }
   ],
   "source": [
    "prompt = \"baby panda eating bamboo\"\n",
    "\n",
    "generated_image = generate_image(prompt, \n",
    "                                 lora1=\"https://huggingface.co/multimodalart/flux-tarot-v1\",\n",
    "                                 scale1=1.0\n",
    "                                 )\n",
    "\n",
    "Image(url=generated_image, width=512, height=384)"
   ]
  },
  {
   "cell_type": "markdown",
   "metadata": {},
   "source": [
    "### Trigger words to activate LoRA\n",
    "\n",
    "The above image does not look like a tarot card! This is because many LoRA fine-tunes have trigger words that need to be included in the prompt in order for the fine-tune to work!\n",
    "\n",
    "The trigger phrase for the tarot card LoRA fine-tune is: `in the style of TOK a trtcrd tarot style`.\n",
    "\n",
    "You can typically find these trigger words with the model card for the LoRA fine-tune."
   ]
  },
  {
   "cell_type": "code",
   "execution_count": 48,
   "metadata": {},
   "outputs": [
    {
     "data": {
      "text/html": [
       "<img src=\"https://api.together.ai/imgproxy/tXVLQUzg-Gwh4-Pt07vNNf8Du_EcHUejQ-bvNBWqTS8/format:jpeg/aHR0cHM6Ly90b2dldGhlci1haS1iZmwtaW1hZ2VzLXByb2QuczMudXMtd2VzdC0yLmFtYXpvbmF3cy5jb20vaW1hZ2VzLzYyZjllMjFkN2MwYzliMmE4MTEzNTZjYjk3ZWVlMTcyNTFiZjBjNmY4YmQ1ZGY0YTlkNzhjNzExZDA1ZDBmZGQ_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\" width=\"512\" height=\"384\"/>"
      ],
      "text/plain": [
       "<IPython.core.display.Image object>"
      ]
     },
     "execution_count": 48,
     "metadata": {},
     "output_type": "execute_result"
    }
   ],
   "source": [
    "prompt = \"a baby panda eating bamboo in the style of TOK a trtcrd tarot style\"\n",
    "\n",
    "generated_image = generate_image(prompt, \n",
    "                                 lora1=\"https://huggingface.co/multimodalart/flux-tarot-v1\",\n",
    "                                 scale1=1.0\n",
    "                                 )\n",
    "\n",
    "Image(url=generated_image, width=512, height=384)"
   ]
  },
  {
   "cell_type": "markdown",
   "metadata": {},
   "source": [
    "### Using Multiple LoRA's\n",
    "\n",
    "We can add another LoRA fine-tune from above into the mix to make the Tarot realistic.\n",
    "\n",
    "The `scale` parameter allows you to specify the strength of each LoRA. Typically values of `0.3-1.2` will produce good results."
   ]
  },
  {
   "cell_type": "code",
   "execution_count": 49,
   "metadata": {},
   "outputs": [
    {
     "data": {
      "text/html": [
       "<img src=\"https://api.together.ai/imgproxy/NXT6AUChquAOZDLFz0niDYHFPwKw0GcVfrAZKT_Vu2c/format:jpeg/aHR0cHM6Ly90b2dldGhlci1haS1iZmwtaW1hZ2VzLXByb2QuczMudXMtd2VzdC0yLmFtYXpvbmF3cy5jb20vaW1hZ2VzL2YyZTgxOGNlYjQ4NWY2ZDViMGZhNmMwNTVkYThjNzU4ZjdhYjk5N2FkOGMzOGNlMWE3ZjU3YjBhOTIxNjQ5ODc_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\" width=\"512\" height=\"384\"/>"
      ],
      "text/plain": [
       "<IPython.core.display.Image object>"
      ]
     },
     "execution_count": 49,
     "metadata": {},
     "output_type": "execute_result"
    }
   ],
   "source": [
    "prompt = \"a baby panda eating bamboo in the style of TOK a trtcrd tarot style\"\n",
    "\n",
    "generated_image = generate_image(prompt, \n",
    "                                 lora1=\"https://huggingface.co/multimodalart/flux-tarot-v1\",\n",
    "                                 scale1=1.0,\n",
    "                                 lora2=\"https://huggingface.co/Shakker-Labs/FLUX.1-dev-LoRA-add-details\",\n",
    "                                 scale2=0.8\n",
    "                                 )\n",
    "\n",
    "Image(url=generated_image, width=512, height=384)"
   ]
  },
  {
   "cell_type": "markdown",
   "metadata": {},
   "source": [
    "This produces a much more realistic looking panda still in the style of a tarot card!"
   ]
  },
  {
   "cell_type": "markdown",
   "metadata": {},
   "source": [
    "### Negative Scales\n",
    "\n",
    "Some LoRA fine-tunes also support negative scale, the realism LoRA we are using can take negative scales which if used will reduce the realism of the generated images."
   ]
  },
  {
   "cell_type": "code",
   "execution_count": 58,
   "metadata": {},
   "outputs": [
    {
     "data": {
      "text/html": [
       "<img src=\"https://api.together.ai/imgproxy/PcYMA9ygxlSclrYmnhVgD9UsSP9OqbjdH_7aNo97h4w/format:jpeg/aHR0cHM6Ly90b2dldGhlci1haS1iZmwtaW1hZ2VzLXByb2QuczMudXMtd2VzdC0yLmFtYXpvbmF3cy5jb20vaW1hZ2VzLzE0ODRiZDQ2ZTlhNTJmYzc1YzcyMmY0Y2Y0YjkzOWI1MGIwZWE3YTQ2ZTllODNmZjAxMDA5YTMzMWZlN2E5ZWU_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\" width=\"512\" height=\"384\"/>"
      ],
      "text/plain": [
       "<IPython.core.display.Image object>"
      ]
     },
     "execution_count": 58,
     "metadata": {},
     "output_type": "execute_result"
    }
   ],
   "source": [
    "prompt = \"a baby panda eating bamboo in the style of TOK a trtcrd tarot style\"\n",
    "\n",
    "generated_image = generate_image(prompt, \n",
    "                                 lora1=\"https://huggingface.co/multimodalart/flux-tarot-v1\",\n",
    "                                 scale1=1.0,\n",
    "                                 lora2=\"https://huggingface.co/Shakker-Labs/FLUX.1-dev-LoRA-add-details\",\n",
    "                                 scale2=-0.8\n",
    "                                 )\n",
    "\n",
    "Image(url=generated_image, width=512, height=384)"
   ]
  },
  {
   "cell_type": "markdown",
   "metadata": {},
   "source": [
    "### Making Realistic Sketches\n",
    "\n",
    "We can combine the sketch LoRA with the realism LoRA to generate a realistic sketches!\n",
    "\n",
    "Note: the simple sketch LoRA has a trigger phrase: ` in the style of SMPL`"
   ]
  },
  {
   "cell_type": "code",
   "execution_count": 59,
   "metadata": {},
   "outputs": [
    {
     "data": {
      "text/html": [
       "<img src=\"https://api.together.ai/imgproxy/alZvu_kIoZD5LMrxqpOp_s3-_epo2RCybDOZf4TaCQM/format:jpeg/aHR0cHM6Ly90b2dldGhlci1haS1iZmwtaW1hZ2VzLXByb2QuczMudXMtd2VzdC0yLmFtYXpvbmF3cy5jb20vaW1hZ2VzL2Q3YTY2NDk5ODFkODdhMGRmNWI5ZWE2MTE4ODdiZTY1OTU1ZjE2NDAzMTBmYTlkYmYyMDUyZDhkMDM1MzE0ODk_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\" width=\"512\" height=\"384\"/>"
      ],
      "text/plain": [
       "<IPython.core.display.Image object>"
      ]
     },
     "execution_count": 59,
     "metadata": {},
     "output_type": "execute_result"
    }
   ],
   "source": [
    "prompt = \"an baby panda eating bamboo illustration in the style of SMPL\"\n",
    "\n",
    "generated_image = generate_image(prompt, \n",
    "                                lora1=\"https://huggingface.co/Shakker-Labs/FLUX.1-dev-LoRA-add-details\",\n",
    "                                scale1=0.9,\n",
    "                                lora2=\"https://huggingface.co/dvyio/flux-lora-simple-illustration\",\n",
    "                                scale2=1.25\n",
    "                                )\n",
    "\n",
    "Image(url=generated_image, width=512, height=384)"
   ]
  },
  {
   "cell_type": "markdown",
   "metadata": {},
   "source": [
    "To learn more about Flux LoRA Inference read our docs [here](https://docs.together.ai/docs/quickstart-flux-lora)."
   ]
  }
 ],
 "metadata": {
  "kernelspec": {
   "display_name": "base",
   "language": "python",
   "name": "python3"
  },
  "language_info": {
   "codemirror_mode": {
    "name": "ipython",
    "version": 3
   },
   "file_extension": ".py",
   "mimetype": "text/x-python",
   "name": "python",
   "nbconvert_exporter": "python",
   "pygments_lexer": "ipython3",
   "version": "3.12.4"
  }
 },
 "nbformat": 4,
 "nbformat_minor": 2
}