{
  "cells": [
    {
      "cell_type": "markdown",
      "metadata": {
        "id": "RR6TCMViXeT2"
      },
      "source": [
        "# Getting Started with Together Code Interpreter (TCI)\n",
        "\n",
        "[![Open In Colab](https://colab.research.google.com/assets/colab-badge.svg)](https://colab.research.google.com/github/togethercomputer/together-cookbook/blob/main/Together_Code_Interpreter.ipynb)\n",
        "\n",
        "This notebook demonstrates the capabilities of the Together Code Interpreter (TCI). \n",
        "\n",
        "TCI allows you to execute code (Python and shell commands) within a secure, sandboxed environment provided by Together AI.\n",
        "\n",
        "You can use it for tasks like data analysis, visualization, running scripts, and more, optionally maintaining state across multiple code executions using sessions and interacting with uploaded files."
      ]
    },
    {
      "cell_type": "markdown",
      "metadata": {},
      "source": [
        "### Setup\n",
        "\n",
        "First, we install the necessary libraries: `together` to interact with the Together AI platform and `pandas` which will be used in a later data analysis example."
      ]
    },
    {
      "cell_type": "code",
      "execution_count": null,
      "metadata": {
        "id": "WUsvwrIGXhx2"
      },
      "outputs": [],
      "source": [
        "!pip install together pandas"
      ]
    },
    {
      "cell_type": "markdown",
      "metadata": {},
      "source": [
        "Next, we import the `Together` client class and initialize it. By default, it uses the `TOGETHER_API_KEY` environment variable for authentication."
      ]
    },
    {
      "cell_type": "code",
      "execution_count": 2,
      "metadata": {
        "id": "Nsp26z6iW985"
      },
      "outputs": [],
      "source": [
        "from together import Together\n",
        "\n",
        "client = Together()\n",
        "\n",
        "# Create a code interpreter instance\n",
        "code_interpreter = client.code_interpreter"
      ]
    },
    {
      "cell_type": "markdown",
      "metadata": {
        "id": "dMpjp4NFb7ES"
      },
      "source": [
        "### Example 1: Simple print statement"
      ]
    },
    {
      "cell_type": "code",
      "execution_count": 3,
      "metadata": {
        "colab": {
          "base_uri": "https://localhost:8080/"
        },
        "id": "g1oDnPsMb7fM",
        "outputId": "779bf94d-393b-4f5a-b1f3-a30c4c4dbf7c"
      },
      "outputs": [
        {
          "name": "stdout",
          "output_type": "stream",
          "text": [
            "Example 1: Simple print\n",
            "Status: completed\n",
            "stdout: Welcome to Together Code Interpreter!\n",
            "\n"
          ]
        }
      ],
      "source": [
        "# Example 1: Simple print statement\n",
        "print(\"Example 1: Simple print\")\n",
        "\n",
        "# Run a simple print statement in the code interpreter\n",
        "response = code_interpreter.run(code='print(\"Welcome to Together Code Interpreter!\")', language=\"python\")\n",
        "\n",
        "\n",
        "print(f\"Status: {response.data.status}\")\n",
        "\n",
        "\n",
        "for output in response.data.outputs:\n",
        "    print(f\"{output.type}: {output.data}\")\n",
        "\n",
        "\n",
        "if response.data.errors:\n",
        "    print(f\"Errors: {response.data.errors}\")"
      ]
    },
    {
      "cell_type": "markdown",
      "metadata": {
        "id": "cAQ7TUsGb77y"
      },
      "source": [
        "### Example 2: Using session for maintaining state"
      ]
    },
    {
      "cell_type": "code",
      "execution_count": 4,
      "metadata": {
        "colab": {
          "base_uri": "https://localhost:8080/"
        },
        "id": "gF9urvEWb61w",
        "outputId": "bff48b50-9790-4686-bbc7-5debd3e50c18"
      },
      "outputs": [
        {
          "name": "stdout",
          "output_type": "stream",
          "text": [
            "stdout: The value of x is 42\n",
            "\n"
          ]
        }
      ],
      "source": [
        "# set a variable x to 42\n",
        "response1 = code_interpreter.run(code=\"x = 42\", language=\"python\")\n",
        "\n",
        "session_id = response1.data.session_id\n",
        "\n",
        "# print the value of x\n",
        "response2 = code_interpreter.run(\n",
        "    code='print(f\"The value of x is {x}\")', language=\"python\", session_id=session_id\n",
        ")\n",
        "\n",
        "for output in response2.data.outputs:\n",
        "    print(f\"{output.type}: {output.data}\")\n",
        "if response2.data.errors:\n",
        "    print(f\"Errors: {response2.data.errors}\")"
      ]
    },
    {
      "cell_type": "markdown",
      "metadata": {},
      "source": [
        "TCI can maintain state (like variables) between code executions using **sessions**.\n",
        "\n",
        "1.  The first `run` call defines a variable `x`. The response includes a `session_id`.\n",
        "2.  The second `run` call includes the `session_id` from the first response. This tells TCI to execute the code within the same session, allowing it to access the previously defined variable `x`."
      ]
    },
    {
      "cell_type": "markdown",
      "metadata": {
        "id": "Q0Hyb3SJb9Lh"
      },
      "source": [
        "### Example 3: More complex computation"
      ]
    },
    {
      "cell_type": "code",
      "execution_count": 5,
      "metadata": {
        "colab": {
          "base_uri": "https://localhost:8080/"
        },
        "id": "FVLQSEJob8yj",
        "outputId": "47e5057a-08e6-411f-f123-fcaf2218e4d2"
      },
      "outputs": [
        {
          "name": "stdout",
          "output_type": "stream",
          "text": [
            "stdout: Random matrix:\n",
            "[[0.57499251 0.95044914 0.22661653]\n",
            " [0.4115843  0.50325014 0.12202103]\n",
            " [0.91360243 0.11228297 0.27220365]]\n",
            "\n",
            "Eigenvalues:\n",
            "[ 1.3591836  -0.13553683  0.12679953]\n",
            "\n"
          ]
        }
      ],
      "source": [
        "code = \"\"\"\n",
        "# TCI comes with numpy installed\n",
        "import numpy as np\n",
        "\n",
        "# Create a random matrix\n",
        "matrix = np.random.rand(3, 3)\n",
        "print(\"Random matrix:\")\n",
        "print(matrix)\n",
        "\n",
        "# Calculate eigenvalues\n",
        "eigenvalues = np.linalg.eigvals(matrix)\n",
        "print(\"\\\\nEigenvalues:\")\n",
        "print(eigenvalues)\n",
        "\"\"\"\n",
        "\n",
        "response = code_interpreter.run(code=code, language=\"python\")\n",
        "\n",
        "for output in response.data.outputs:\n",
        "    print(f\"{output.type}: {output.data}\")\n",
        "if response.data.errors:\n",
        "    print(f\"Errors: {response.data.errors}\")"
      ]
    },
    {
      "cell_type": "markdown",
      "metadata": {},
      "source": [
        "TCI environments come pre-installed with common libraries like `numpy`. To see all the pre-installed libraries see our [docs](https://docs.together.ai/docs/together-code-interpreter-beta#pre-installed-dependencies)."
      ]
    },
    {
      "cell_type": "markdown",
      "metadata": {
        "id": "MSO4CO_KXtRe"
      },
      "source": [
        "### Example 4: Uploading and using a file"
      ]
    },
    {
      "cell_type": "code",
      "execution_count": 6,
      "metadata": {
        "colab": {
          "base_uri": "https://localhost:8080/"
        },
        "id": "BlSI9uaXXPXx",
        "outputId": "5a3c3a3f-ca9e-4712-c48c-2b83667704ec"
      },
      "outputs": [
        {
          "name": "stdout",
          "output_type": "stream",
          "text": [
            "Status: completed\n",
            "stdout: Content read from data.txt: Sanguine is the colour of night.\n",
            "\n",
            "\n",
            "\n"
          ]
        }
      ],
      "source": [
        "# Define the file content and structure as a dictionary\n",
        "file_to_upload = {\n",
        "    \"name\": \"data.txt\",\n",
        "    \"encoding\": \"string\",\n",
        "    \"content\": \"Sanguine is the colour of night.\",\n",
        "}\n",
        "\n",
        "# Code to read the uploaded file\n",
        "code_to_read_file = \"\"\"\n",
        "try:\n",
        "    with open('data.txt', 'r') as f:\n",
        "        content = f.read()\n",
        "        print(f\"Content read from data.txt: {content}\")\n",
        "except FileNotFoundError:\n",
        "    print(\"Error: data.txt not found.\")\n",
        "\"\"\"\n",
        "\n",
        "response = code_interpreter.run(\n",
        "    code=code_to_read_file,\n",
        "    language=\"python\",\n",
        "    files=[file_to_upload],  # Pass the file dictionary in a list\n",
        ")\n",
        "\n",
        "# Print results\n",
        "print(f\"Status: {response.data.status}\")\n",
        "for output in response.data.outputs:\n",
        "    print(f\"{output.type}: {output.data}\")\n",
        "if response.data.errors:\n",
        "    print(f\"Errors: {response.data.errors}\")\n",
        "print(\"\\n\")"
      ]
    },
    {
      "cell_type": "markdown",
      "metadata": {},
      "source": [
        "You can upload files to the TCI environment to be used by your code. Files are provided as a list to the `files` parameter in the `run` method. Each file is represented by a dictionary containing:\n",
        "*   `name`: The desired filename within the TCI environment.\n",
        "*   `encoding`: How the content is encoded. Use `\"string\"` for plain text.\n",
        "*   `content`: The actual file content as a string."
      ]
    },
    {
      "cell_type": "markdown",
      "metadata": {
        "id": "MsKIqMOuXvrW"
      },
      "source": [
        "### Example 5: Uploading a script and running it"
      ]
    },
    {
      "cell_type": "code",
      "execution_count": 7,
      "metadata": {
        "colab": {
          "base_uri": "https://localhost:8080/"
        },
        "id": "XFcSKpobXS_R",
        "outputId": "378e3ee4-b308-42d9-84d7-3cd998bc91bc"
      },
      "outputs": [
        {
          "name": "stdout",
          "output_type": "stream",
          "text": [
            "Status: completed\n",
            "stdout: Hello from inside myscript.py!\r\n",
            "\n"
          ]
        }
      ],
      "source": [
        "script_content = \"import sys\\nprint(f'Hello from inside {sys.argv[0]}!')\"\n",
        "\n",
        "# Define the script file as a dictionary\n",
        "script_file = {\n",
        "    \"name\": \"myscript.py\",\n",
        "    \"encoding\": \"string\",\n",
        "    \"content\": script_content,\n",
        "}\n",
        "\n",
        "code_to_run_script = \"!python myscript.py\"\n",
        "\n",
        "response = code_interpreter.run(\n",
        "    code=code_to_run_script,\n",
        "    language=\"python\",\n",
        "    files=[script_file],  # Pass the script dictionary in a list\n",
        ")\n",
        "\n",
        "# Print results\n",
        "print(f\"Status: {response.data.status}\")\n",
        "for output in response.data.outputs:\n",
        "    print(f\"{output.type}: {output.data}\")\n",
        "if response.data.errors:\n",
        "    print(f\"Errors: {response.data.errors}\")"
      ]
    },
    {
      "cell_type": "markdown",
      "metadata": {
        "id": "BbZ_aaYbYJ13"
      },
      "source": [
        "### Example 6: Uploading a base64 encoded binary file (e.g., image)"
      ]
    },
    {
      "cell_type": "markdown",
      "metadata": {},
      "source": [
        "For binary files (like images, executables, etc.), you should use `base64` encoding.\n",
        "\n",
        "1.  Encode your binary file content into a base64 string locally.\n",
        "2.  Provide this string as the `content` in the file dictionary.\n",
        "3.  Set the `encoding` to `\"base64\"`.\n",
        "\n",
        "This example uploads a tiny 1x1 black PNG image, encoded in base64. The Python code then verifies its existence and size within the TCI environment."
      ]
    },
    {
      "cell_type": "code",
      "execution_count": 8,
      "metadata": {
        "colab": {
          "base_uri": "https://localhost:8080/"
        },
        "id": "cDImmiB9X-N2",
        "outputId": "1b7b73db-3484-435c-c1ca-8f4b13759710"
      },
      "outputs": [
        {
          "name": "stdout",
          "output_type": "stream",
          "text": [
            "Status: completed\n",
            "stdout: File 'tiny.png' exists.\n",
            "Size on disk: 68 bytes.\n",
            "Size of original decoded base64 data: 68 bytes.\n",
            "\n"
          ]
        }
      ],
      "source": [
        "# Example: A tiny 1x1 black PNG image, base64 encoded\n",
        "# In a real scenario, you would read your binary file and base64 encode its content\n",
        "tiny_png_base64 = \"iVBORw0KGgoAAAANSUhEUgAAAAEAAAABCAQAAAC1HAwCAAAAC0lEQVR42mNkYAAAAAYAAjCB0C8AAAAASUVORK5CYII=\"\n",
        "\n",
        "image_file = {\n",
        "    \"name\": \"tiny.png\",\n",
        "    \"encoding\": \"base64\",  # Use base64 encoding for binary files\n",
        "    \"content\": tiny_png_base64,\n",
        "}\n",
        "\n",
        "# Code to check if the file exists and its size (Python doesn't inherently know image dimensions from bytes alone)\n",
        "code_to_check_file = (\n",
        "    \"\"\"\n",
        "import os\n",
        "import base64\n",
        "\n",
        "file_path = 'tiny.png'\n",
        "if os.path.exists(file_path):\n",
        "    # Read the raw bytes back\n",
        "    with open(file_path, 'rb') as f:\n",
        "        raw_bytes = f.read()\n",
        "    original_bytes = base64.b64decode('\"\"\"\n",
        "    + tiny_png_base64\n",
        "    + \"\"\"')\n",
        "    print(f\"File '{file_path}' exists.\")\n",
        "    print(f\"Size on disk: {os.path.getsize(file_path)} bytes.\")\n",
        "    print(f\"Size of original decoded base64 data: {len(original_bytes)} bytes.\")\n",
        "\n",
        "else:\n",
        "    print(f\"File '{file_path}' does not exist.\")\n",
        "\"\"\"\n",
        ")\n",
        "\n",
        "response = code_interpreter.run(\n",
        "    code=code_to_check_file,\n",
        "    language=\"python\",\n",
        "    files=[image_file],\n",
        ")\n",
        "\n",
        "# Print results\n",
        "print(f\"Status: {response.data.status}\")\n",
        "for output in response.data.outputs:\n",
        "    print(f\"{output.type}: {output.data}\")\n",
        "if response.data.errors:\n",
        "    print(f\"Errors: {response.data.errors}\")"
      ]
    },
    {
      "cell_type": "markdown",
      "metadata": {
        "id": "Rs8Aohc4ZUN1"
      },
      "source": [
        "### Example 7: Upload a CSV file and perform data analysis!\n",
        "\n",
        "This example combines several features:\n",
        "1. **Create CSV File:** We create a CSV with dummy data.\n",
        "2.  **Base64 Encoding:** The CSV string is encoded into base64 (as CSV is text, `\"string\"` encoding would also work, but base64 is shown for versatility).\n",
        "3.  **File Upload:** The base64 encoded CSV data is uploaded as `sample_data.csv`.\n",
        "4.  **TCI Execution:** Python code is executed in TCI using `pandas`, `numpy`, `matplotlib`, and `scipy` (which are pre-installed) to:\n",
        "    *   Read the uploaded `sample_data.csv`.\n",
        "    *   Perform linear regression to find the line of best fit.\n",
        "    *   Print statistics (slope, intercept, R-squared, etc.).\n",
        "    *   Generate a scatter plot with the regression line using `matplotlib.pyplot.show()`."
      ]
    },
    {
      "cell_type": "code",
      "execution_count": 9,
      "metadata": {
        "id": "8Nk0pi7xZVD5"
      },
      "outputs": [],
      "source": [
        "# First, let's create a sample CSV file with some data\n",
        "import pandas as pd\n",
        "import numpy as np\n",
        "import base64\n",
        "import io\n",
        "\n",
        "# Generate sample data\n",
        "np.random.seed(42)\n",
        "x = np.linspace(0, 10, 50)\n",
        "y = 2 * x + 1 + np.random.normal(0, 1, 50)  # y = 2x + 1 with some noise\n",
        "data = pd.DataFrame({'x': x, 'y': y})\n",
        "\n",
        "# Convert DataFrame to CSV\n",
        "csv_buffer = io.StringIO()\n",
        "data.to_csv(csv_buffer, index=False)\n",
        "csv_content = csv_buffer.getvalue()\n",
        "\n",
        "# Convert the CSV to base64\n",
        "csv_base64 = base64.b64encode(csv_content.encode('utf-8')).decode('utf-8')\n",
        "\n",
        "# Create the file dictionary\n",
        "csv_file = {\n",
        "    \"name\": \"sample_data.csv\",\n",
        "    \"encoding\": \"base64\",\n",
        "    \"content\": csv_base64,\n",
        "}\n",
        "\n",
        "# Code to read the CSV and plot the line of best fit\n",
        "code_to_plot = \"\"\"\n",
        "import pandas as pd\n",
        "import numpy as np\n",
        "import matplotlib.pyplot as plt\n",
        "from scipy import stats\n",
        "\n",
        "# Read the CSV file\n",
        "df = pd.read_csv('sample_data.csv')\n",
        "print(\"Data preview:\")\n",
        "print(df.head())\n",
        "\n",
        "# Extract x and y values\n",
        "x = df['x']\n",
        "y = df['y']\n",
        "\n",
        "# Calculate the line of best fit (linear regression)\n",
        "slope, intercept, r_value, p_value, std_err = stats.linregress(x, y)\n",
        "line = slope * x + intercept\n",
        "\n",
        "# Create the plot\n",
        "plt.figure(figsize=(10, 6))\n",
        "plt.scatter(x, y, color='blue', alpha=0.5, label='Data points')\n",
        "plt.plot(x, line, color='red', label=f'Line of best fit: y = {slope:.2f}x + {intercept:.2f}')\n",
        "plt.title('Linear Regression: Line of Best Fit')\n",
        "plt.xlabel('X values')\n",
        "plt.ylabel('Y values')\n",
        "plt.legend()\n",
        "plt.grid(True, alpha=0.3)\n",
        "\n",
        "# Display statistics\n",
        "print(f\"Slope: {slope:.4f}\")\n",
        "print(f\"Intercept: {intercept:.4f}\")\n",
        "print(f\"R-squared: {r_value**2:.4f}\")\n",
        "print(f\"P-value: {p_value:.4e}\")\n",
        "print(f\"Standard Error: {std_err:.4f}\")\n",
        "\n",
        "plt.show()\n",
        "\"\"\""
      ]
    },
    {
      "cell_type": "code",
      "execution_count": 10,
      "metadata": {
        "colab": {
          "base_uri": "https://localhost:8080/",
          "height": 824
        },
        "id": "vnASCFgydPhW",
        "outputId": "2075c73e-278c-4f05-bd3b-2bd1f573cc46"
      },
      "outputs": [
        {
          "name": "stdout",
          "output_type": "stream",
          "text": [
            "Status: completed\n",
            "stdout: Data preview:\n",
            "          x         y\n",
            "0  0.000000  1.496714\n",
            "1  0.204082  1.269899\n",
            "2  0.408163  2.464015\n",
            "3  0.612245  3.747520\n",
            "4  0.816327  2.398500\n",
            "Slope: 1.9420\n",
            "Intercept: 1.0644\n",
            "R-squared: 0.9754\n",
            "P-value: 2.8087e-40\n",
            "Standard Error: 0.0445\n",
            "\n",
            "display_data: \n"
          ]
        },
        {
          "data": {
            "image/png": "[encoded data removed]",
            "text/plain": [
              "<IPython.core.display.Image object>"
            ]
          },
          "metadata": {},
          "output_type": "display_data"
        }
      ],
      "source": [
        "from IPython.display import display, Image\n",
        "\n",
        "# Run the code with the CSV file\n",
        "response = code_interpreter.run(\n",
        "    code=code_to_plot,\n",
        "    language=\"python\",\n",
        "    files=[csv_file],\n",
        ")\n",
        "\n",
        "# show results results\n",
        "print(f\"Status: {response.data.status}\")\n",
        "for output in response.data.outputs:\n",
        "  if output.type == \"stdout\":\n",
        "    print(f\"{output.type}: {output.data}\")\n",
        "  elif output.type == \"display_data\":\n",
        "    print(f\"{output.type}: \")\n",
        "    decoded_image = base64.b64decode(output.data['image/png'])\n",
        "    display(Image(data=decoded_image))\n",
        "\n",
        "if response.data.errors:\n",
        "    print(f\"Errors: {response.data.errors}\")"
      ]
    },
    {
      "cell_type": "markdown",
      "metadata": {
        "id": "mE6jmQvBf0jz"
      },
      "source": [
        "The results show the printed output (`stdout`) from the script, including the data preview and regression statistics. Crucially, the plot generated by Matplotlib is captured as `display_data`. When an output is of type `display_data` (like plots), its `data` field often contains different representations (like `image/png`). Here, we decode the base64-encoded PNG image data and display it.\n",
        "\n",
        "To learn more about Together Code Interpreter see [docs here](https://docs.together.ai/docs/together-code-interpreter-beta)!"
      ]
    }
  ],
  "metadata": {
    "colab": {
      "provenance": []
    },
    "kernelspec": {
      "display_name": "Python 3",
      "name": "python3"
    },
    "language_info": {
      "name": "python"
    }
  },
  "nbformat": 4,
  "nbformat_minor": 0
}
